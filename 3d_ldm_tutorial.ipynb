{
 "cells": [
  {
   "cell_type": "code",
   "execution_count": 1,
   "id": "8efe4285",
   "metadata": {},
   "outputs": [],
   "source": [
    "# Copyright (c) MONAI Consortium\n",
    "# Licensed under the Apache License, Version 2.0 (the \"License\");\n",
    "# you may not use this file except in compliance with the License.\n",
    "# You may obtain a copy of the License at\n",
    "#     http://www.apache.org/licenses/LICENSE-2.0\n",
    "# Unless required by applicable law or agreed to in writing, software\n",
    "# distributed under the License is distributed on an \"AS IS\" BASIS,\n",
    "# WITHOUT WARRANTIES OR CONDITIONS OF ANY KIND, either express or implied.\n",
    "# See the License for the specific language governing permissions and\n",
    "# limitations under the License."
   ]
  },
  {
   "cell_type": "markdown",
   "id": "e0a3f076",
   "metadata": {},
   "source": [
    "# 3D Latent Diffusion Model\n",
    "In this tutorial, we will walk through the process of using the MONAI Generative Models package to generate synthetic data using Latent Diffusion Models (LDM)  [1, 2]. Specifically, we will focus on training an LDM to create synthetic brain images from the Brats dataset.\n",
    "\n",
    "[1] - Rombach et al. \"High-Resolution Image Synthesis with Latent Diffusion Models\" https://arxiv.org/abs/2112.10752\n",
    "\n",
    "[2] - Pinaya et al. \"Brain imaging generation with latent diffusion models\" https://arxiv.org/abs/2209.07162"
   ]
  },
  {
   "cell_type": "markdown",
   "id": "da9e6b23",
   "metadata": {},
   "source": [
    "### Set up imports"
   ]
  },
  {
   "cell_type": "code",
   "execution_count": 2,
   "id": "b44c4689",
   "metadata": {},
   "outputs": [
    {
     "name": "stderr",
     "output_type": "stream",
     "text": [
      "A matching Triton is not available, some optimizations will not be enabled.\n",
      "Error caught was: No module named 'triton'\n"
     ]
    },
    {
     "name": "stdout",
     "output_type": "stream",
     "text": [
      "MONAI version: 1.3.0\n",
      "Numpy version: 1.23.5\n",
      "Pytorch version: 1.13.1+cu117\n",
      "MONAI flags: HAS_EXT = False, USE_COMPILED = False, USE_META_DICT = False\n",
      "MONAI rev id: 865972f7a791bf7b42efbcd87c8402bd865b329e\n",
      "MONAI __file__: /home1/<username>/.conda/envs/working_monai/lib/python3.9/site-packages/monai/__init__.py\n",
      "\n",
      "Optional dependencies:\n",
      "Pytorch Ignite version: 0.4.10\n",
      "ITK version: 5.3.0\n",
      "Nibabel version: 5.0.1\n",
      "scikit-image version: 0.21.0\n",
      "scipy version: 1.10.1\n",
      "Pillow version: 9.4.0\n",
      "Tensorboard version: 2.12.0\n",
      "gdown version: 4.7.1\n",
      "TorchVision version: 0.14.1+cu117\n",
      "tqdm version: 4.65.0\n",
      "lmdb version: 1.4.0\n",
      "psutil version: 5.9.4\n",
      "pandas version: 1.5.3\n",
      "einops version: 0.6.0\n",
      "transformers version: 4.21.3\n",
      "mlflow version: 2.2.2\n",
      "pynrrd version: 1.0.0\n",
      "clearml version: NOT INSTALLED or UNKNOWN VERSION.\n",
      "\n",
      "For details about installing the optional dependencies, please visit:\n",
      "    https://docs.monai.io/en/latest/installation.html#installing-the-recommended-dependencies\n",
      "\n"
     ]
    }
   ],
   "source": [
    "import os\n",
    "import shutil\n",
    "import tempfile\n",
    "\n",
    "import matplotlib.pyplot as plt\n",
    "import torch\n",
    "import torch.nn.functional as F\n",
    "from monai import transforms\n",
    "from monai.apps import DecathlonDataset\n",
    "from monai.config import print_config\n",
    "from monai.data import DataLoader\n",
    "from monai.utils import first, set_determinism\n",
    "from torch.cuda.amp import GradScaler, autocast\n",
    "from torch.nn import L1Loss\n",
    "from tqdm import tqdm\n",
    "\n",
    "from generative.inferers import LatentDiffusionInferer\n",
    "from generative.losses import PatchAdversarialLoss, PerceptualLoss\n",
    "from generative.networks.nets import AutoencoderKL, DiffusionModelUNet, PatchDiscriminator\n",
    "from generative.networks.schedulers import DDPMScheduler\n",
    "\n",
    "print_config()"
   ]
  },
  {
   "cell_type": "code",
   "execution_count": 3,
   "id": "a21c1f6a",
   "metadata": {},
   "outputs": [],
   "source": [
    "# for reproducibility purposes set a seed\n",
    "set_determinism(42)"
   ]
  },
  {
   "cell_type": "markdown",
   "id": "2b02aa6c",
   "metadata": {},
   "source": [
    "### Setup a data directory and download dataset\n",
    "Specify a MONAI_DATA_DIRECTORY variable, where the data will be downloaded. If not specified a temporary directory will be used."
   ]
  },
  {
   "cell_type": "code",
   "execution_count": 12,
   "id": "f92dcd0a-da29-4a53-a0ee-6c878de84725",
   "metadata": {},
   "outputs": [],
   "source": [
    "from dataloader import Train ,Eval \n",
    "import random\n",
    "import pandas as pd"
   ]
  },
  {
   "cell_type": "markdown",
   "id": "1d36e0c4",
   "metadata": {},
   "source": [
    "### Visualise examples from the training set"
   ]
  },
  {
   "cell_type": "code",
   "execution_count": null,
   "id": "b34ceec9-99c1-45ba-bfd5-bba04ff63b74",
   "metadata": {},
   "outputs": [],
   "source": [
    "config = {\n",
    "    'batch_size': 32,\n",
    "    'imgDimResize': (160, 192, 160),\n",
    "    'imgDimPad': (208, 256, 208),\n",
    "    'spatialDims': '3D',\n",
    "    'unisotropic_sampling': True,\n",
    "    'perc_low': 1,\n",
    "    'perc_high': 99,\n",
    "    'rescaleFactor': 2,\n",
    "    'base_path': '/scratch1/akrami/Latest_Data/Data',\n",
    "}\n",
    "\n",
    "# Seed and Device Configuration\n",
    "manualSeed = 999\n",
    "random.seed(manualSeed)\n",
    "torch.manual_seed(manualSeed)\n",
    "device = torch.device(\"cuda\" if torch.cuda.is_available() else \"cpu\")\n",
    "\n",
    "# CUDA and CUDNN Configuration\n",
    "# Uncomment the following line to specify CUDA_VISIBLE_DEVICES\n",
    "torch.backends.cudnn.deterministic = True\n",
    "torch.backends.cudnn.benchmark = False\n",
    "\n",
    "\n",
    "\n",
    "\n",
    "\n",
    "# %% [markdown]\n",
    "# # Load the data\n",
    "\n",
    "# %%\n",
    "imgpath = {}\n",
    "# '/acmenas/hakrami/patched-Diffusion-Models-UAD/Data/splits/BioBank_train.csv'\n",
    "#'/acmenas/hakrami/patched-Diffusion-Models-UAD/Data/splits/IXI_train_fold0.csv',\n",
    "#csvpath_trains = ['/project/ajoshi_27/akrami/patched-Diffusion-Models-UAD/Data/splits/BioBank_train.csv', '/project/ajoshi_27/akrami/patched-Diffusion-Models-UAD/Data/splits/BioBank_train.csv']\n",
    "csvpath_trains=['./Data/splits/combined_4datasets.csv']\n",
    "pathBase = '/scratch1/akrami/Data_train'\n",
    "csvpath_val = './Data/splits/IXI_val_fold0.csv'\n",
    "csvpath_test = './Data/splits/Brats21_sub_test.csv'\n",
    "var_csv = {}\n",
    "states = ['train','val','test']\n",
    "\n",
    "df_list = []\n",
    "\n",
    "# Loop through each CSV file path and read it into a DataFrame\n",
    "for csvpath in csvpath_trains:\n",
    "    df = pd.read_csv(csvpath)\n",
    "    df_list.append(df)\n",
    "# %%\n",
    "\n",
    "\n",
    "var_csv['train'] =pd.concat(df_list, ignore_index=True)\n",
    "var_csv['val'] = pd.read_csv(csvpath_val)\n",
    "var_csv['test'] = pd.read_csv(csvpath_test)\n",
    "# if cfg.mode == 't2':\n",
    "#     keep_t2 = pd.read_csv(cfg.path.IXI.keep_t2) # only keep t2 images that have a t1 counterpart\n",
    "\n",
    "for state in states:\n",
    "    var_csv[state]['settype'] = state\n",
    "    var_csv[state]['norm_path'] = ''\n",
    "    var_csv[state]['img_path'] = pathBase  + var_csv[state]['img_path']\n",
    "    var_csv[state]['mask_path'] = pathBase  + var_csv[state]['mask_path']\n",
    "    if state != 'test':\n",
    "        var_csv[state]['seg_path'] = None\n",
    "    else:\n",
    "        var_csv[state]['seg_path'] = pathBase  + var_csv[state]['seg_path']\n",
    "\n",
    "    # if cfg.mode == 't2': \n",
    "    #     var_csv[state] =var_csv[state][var_csv[state].img_name.isin(keep_t2['0'].str.replace('t2','t1'))]\n",
    "    #     var_csv[state]['img_path'] = var_csv[state]['img_path'].str.replace('t1','t2')\n",
    "    \n",
    "    \n",
    "data_train = Train(var_csv['train'],config) \n",
    "data_val = Train(var_csv['val'],config)                \n",
    "data_test = Eval(var_csv['test'],config)\n",
    "\n",
    "\n",
    "#data_train = Train(pd.read_csv('/project/ajoshi_27/akrami/monai3D/GenerativeModels/data/split/IXI_train_fold0.csv', converters={'img_path': pd.eval}), config)\n",
    "train_loader = DataLoader(data_train, batch_size=config.get('batch_size', 1),shuffle=True,num_workers=8)\n",
    "\n",
    "#data_val = Train(pd.read_csv('/project/ajoshi_27/akrami/monai3D/GenerativeModels/data/split/IXI_val_fold0.csv', converters={'img_path': pd.eval}), config)\n",
    "val_loader = DataLoader(data_val, batch_size=config.get('batch_size', 1),shuffle=True,num_workers=8)\n",
    "\n",
    "#data_test = Train(pd.read_csv('/project/ajoshi_27/akrami/monai3D/GenerativeModels/data/split/Brats21_test.csv', converters={'img_path': pd.eval}), config)\n",
    "test_loader = DataLoader(data_test, batch_size=1,shuffle=False,num_workers=8)\n",
    "\n",
    "\n",
    "device = torch.device(\"cuda\")\n",
    "\n"
   ]
  },
  {
   "cell_type": "code",
   "execution_count": null,
   "id": "723c2dad",
   "metadata": {},
   "outputs": [],
   "source": [
    "# Plot axial, coronal and sagittal slices of a training sample\n",
    "check_data = first(train_loader)\n",
    "images = check_data['vol']['data'].to(device)\n",
    "# Expand the dimensions of sub_test['peak'] to make it [1, 1, 1, 1, 4]\n",
    "peak_expanded = (check_data['peak'].unsqueeze(1).unsqueeze(2).unsqueeze(3).unsqueeze(4)).long()\n",
    "# Move both tensors to the device\n",
    "peak_expanded = peak_expanded.to(device)\n",
    "\n",
    "# Perform the division\n",
    "images = (images / peak_expanded)\n",
    "\n",
    "idx = 0\n",
    "\n",
    "img = images[idx, 0].cpu()\n",
    "fig, axs = plt.subplots(nrows=1, ncols=3)\n",
    "for ax in axs:\n",
    "    ax.axis(\"off\")\n",
    "ax = axs[0]\n",
    "ax.imshow(img[..., img.shape[2] // 2], cmap=\"gray\")\n",
    "ax = axs[1]\n",
    "ax.imshow(img[:, img.shape[1] // 2, ...], cmap=\"gray\")\n",
    "ax = axs[2]\n",
    "ax.imshow(img[img.shape[0] // 2, ...], cmap=\"gray\")\n",
    "# plt.savefig(\"training_examples.png\")"
   ]
  },
  {
   "cell_type": "markdown",
   "id": "513d7eee",
   "metadata": {},
   "source": [
    "## Autoencoder KL\n",
    "\n",
    "### Define Autoencoder KL network\n",
    "\n",
    "In this section, we will define an autoencoder with KL-regularization for the LDM. The autoencoder's primary purpose is to transform input images into a latent representation that the diffusion model will subsequently learn. By doing so, we can decrease the computational resources required to train the diffusion component, making this approach suitable for learning high-resolution medical images.\n"
   ]
  },
  {
   "cell_type": "code",
   "execution_count": 17,
   "id": "1042ebac",
   "metadata": {},
   "outputs": [
    {
     "name": "stdout",
     "output_type": "stream",
     "text": [
      "Using cuda\n"
     ]
    }
   ],
   "source": [
    "device = torch.device(\"cuda\" if torch.cuda.is_available() else \"cpu\")\n",
    "print(f\"Using {device}\")"
   ]
  },
  {
   "cell_type": "code",
   "execution_count": 18,
   "id": "383a2043",
   "metadata": {},
   "outputs": [
    {
     "data": {
      "text/plain": [
       "PatchDiscriminator(\n",
       "  (initial_conv): Convolution(\n",
       "    (conv): Conv3d(1, 32, kernel_size=(4, 4, 4), stride=(2, 2, 2), padding=(1, 1, 1))\n",
       "    (adn): ADN(\n",
       "      (D): Dropout(p=0.0, inplace=False)\n",
       "      (A): LeakyReLU(negative_slope=0.2)\n",
       "    )\n",
       "  )\n",
       "  (0): Convolution(\n",
       "    (conv): Conv3d(32, 64, kernel_size=(4, 4, 4), stride=(2, 2, 2), padding=(1, 1, 1), bias=False)\n",
       "    (adn): ADN(\n",
       "      (N): BatchNorm3d(64, eps=1e-05, momentum=0.1, affine=True, track_running_stats=True)\n",
       "      (D): Dropout(p=0.0, inplace=False)\n",
       "      (A): LeakyReLU(negative_slope=0.2)\n",
       "    )\n",
       "  )\n",
       "  (1): Convolution(\n",
       "    (conv): Conv3d(64, 128, kernel_size=(4, 4, 4), stride=(2, 2, 2), padding=(1, 1, 1), bias=False)\n",
       "    (adn): ADN(\n",
       "      (N): BatchNorm3d(128, eps=1e-05, momentum=0.1, affine=True, track_running_stats=True)\n",
       "      (D): Dropout(p=0.0, inplace=False)\n",
       "      (A): LeakyReLU(negative_slope=0.2)\n",
       "    )\n",
       "  )\n",
       "  (2): Convolution(\n",
       "    (conv): Conv3d(128, 256, kernel_size=(4, 4, 4), stride=(1, 1, 1), padding=(1, 1, 1), bias=False)\n",
       "    (adn): ADN(\n",
       "      (N): BatchNorm3d(256, eps=1e-05, momentum=0.1, affine=True, track_running_stats=True)\n",
       "      (D): Dropout(p=0.0, inplace=False)\n",
       "      (A): LeakyReLU(negative_slope=0.2)\n",
       "    )\n",
       "  )\n",
       "  (final_conv): Convolution(\n",
       "    (conv): Conv3d(256, 1, kernel_size=(4, 4, 4), stride=(1, 1, 1), padding=(1, 1, 1))\n",
       "  )\n",
       ")"
      ]
     },
     "execution_count": 18,
     "metadata": {},
     "output_type": "execute_result"
    }
   ],
   "source": [
    "autoencoder = AutoencoderKL(\n",
    "    spatial_dims=3,\n",
    "    in_channels=1,\n",
    "    out_channels=1,\n",
    "    num_channels=(32, 64, 64),\n",
    "    latent_channels=3,\n",
    "    num_res_blocks=1,\n",
    "    norm_num_groups=16,\n",
    "    attention_levels=(False, False, True),\n",
    ")\n",
    "autoencoder.to(device)\n",
    "\n",
    "\n",
    "discriminator = PatchDiscriminator(spatial_dims=3, num_layers_d=3, num_channels=32, in_channels=1, out_channels=1)\n",
    "discriminator.to(device)"
   ]
  },
  {
   "cell_type": "code",
   "execution_count": null,
   "id": "dd1e8fe6-3c68-45da-b3e5-b4f267be4ffe",
   "metadata": {},
   "outputs": [],
   "source": [
    "if torch.cuda.device_count() > 1:\n",
    "    print(\"Using\", torch.cuda.device_count(), \"GPUs!\")\n",
    "    autoencoder= nn.DataParallel(autoencoder)"
   ]
  },
  {
   "cell_type": "markdown",
   "id": "67f94d1b",
   "metadata": {},
   "source": [
    "### Defining Losses\n",
    "\n",
    "We will also specify the perceptual and adversarial losses, including the involved networks, and the optimizers to use during the training process."
   ]
  },
  {
   "cell_type": "code",
   "execution_count": 19,
   "id": "7594daa3",
   "metadata": {},
   "outputs": [
    {
     "name": "stderr",
     "output_type": "stream",
     "text": [
      "The parameter 'pretrained' is deprecated since 0.13 and may be removed in the future, please use 'weights' instead.\n",
      "Arguments other than a weight enum or `None` for 'weights' are deprecated since 0.13 and may be removed in the future. The current behavior is equivalent to passing `weights=SqueezeNet1_1_Weights.IMAGENET1K_V1`. You can also use `weights=SqueezeNet1_1_Weights.DEFAULT` to get the most up-to-date weights.\n"
     ]
    }
   ],
   "source": [
    "l1_loss = L1Loss()\n",
    "adv_loss = PatchAdversarialLoss(criterion=\"least_squares\")\n",
    "loss_perceptual = PerceptualLoss(spatial_dims=3, network_type=\"squeeze\", is_fake_3d=True, fake_3d_ratio=0.2)\n",
    "loss_perceptual.to(device)\n",
    "\n",
    "\n",
    "def KL_loss(z_mu, z_sigma):\n",
    "    kl_loss = 0.5 * torch.sum(z_mu.pow(2) + z_sigma.pow(2) - torch.log(z_sigma.pow(2)) - 1, dim=[1, 2, 3, 4])\n",
    "    return torch.sum(kl_loss) / kl_loss.shape[0]\n",
    "\n",
    "\n",
    "adv_weight = 0.01\n",
    "perceptual_weight = 0.001\n",
    "kl_weight = 1e-6"
   ]
  },
  {
   "cell_type": "code",
   "execution_count": 20,
   "id": "354a3057",
   "metadata": {},
   "outputs": [],
   "source": [
    "optimizer_g = torch.optim.Adam(params=autoencoder.parameters(), lr=1e-4)\n",
    "optimizer_d = torch.optim.Adam(params=discriminator.parameters(), lr=1e-4)"
   ]
  },
  {
   "cell_type": "markdown",
   "id": "be4fe2d4",
   "metadata": {},
   "source": [
    "### Train model"
   ]
  },
  {
   "cell_type": "code",
   "execution_count": 21,
   "id": "047c1bc4",
   "metadata": {
    "jupyter": {
     "source_hidden": true
    }
   },
   "outputs": [
    {
     "name": "stderr",
     "output_type": "stream",
     "text": [
      "Epoch 0:   8%|█▎              | 579/6973 [04:59<55:12,  1.93it/s, recons_loss=0.0734, gen_loss=0, disc_loss=0]\n"
     ]
    },
    {
     "ename": "KeyboardInterrupt",
     "evalue": "",
     "output_type": "error",
     "traceback": [
      "\u001b[0;31m---------------------------------------------------------------------------\u001b[0m",
      "\u001b[0;31mKeyboardInterrupt\u001b[0m                         Traceback (most recent call last)",
      "Cell \u001b[0;32mIn[21], line 46\u001b[0m\n\u001b[1;32m     43\u001b[0m     generator_loss \u001b[38;5;241m=\u001b[39m adv_loss(logits_fake, target_is_real\u001b[38;5;241m=\u001b[39m\u001b[38;5;28;01mTrue\u001b[39;00m, for_discriminator\u001b[38;5;241m=\u001b[39m\u001b[38;5;28;01mFalse\u001b[39;00m)\n\u001b[1;32m     44\u001b[0m     loss_g \u001b[38;5;241m+\u001b[39m\u001b[38;5;241m=\u001b[39m adv_weight \u001b[38;5;241m*\u001b[39m generator_loss\n\u001b[0;32m---> 46\u001b[0m \u001b[43mloss_g\u001b[49m\u001b[38;5;241;43m.\u001b[39;49m\u001b[43mbackward\u001b[49m\u001b[43m(\u001b[49m\u001b[43m)\u001b[49m\n\u001b[1;32m     47\u001b[0m optimizer_g\u001b[38;5;241m.\u001b[39mstep()\n\u001b[1;32m     49\u001b[0m \u001b[38;5;28;01mif\u001b[39;00m epoch \u001b[38;5;241m>\u001b[39m autoencoder_warm_up_n_epochs:\n\u001b[1;32m     50\u001b[0m     \u001b[38;5;66;03m# Discriminator part\u001b[39;00m\n",
      "File \u001b[0;32m~/.conda/envs/working_monai/lib/python3.9/site-packages/torch/_tensor.py:488\u001b[0m, in \u001b[0;36mTensor.backward\u001b[0;34m(self, gradient, retain_graph, create_graph, inputs)\u001b[0m\n\u001b[1;32m    478\u001b[0m \u001b[38;5;28;01mif\u001b[39;00m has_torch_function_unary(\u001b[38;5;28mself\u001b[39m):\n\u001b[1;32m    479\u001b[0m     \u001b[38;5;28;01mreturn\u001b[39;00m handle_torch_function(\n\u001b[1;32m    480\u001b[0m         Tensor\u001b[38;5;241m.\u001b[39mbackward,\n\u001b[1;32m    481\u001b[0m         (\u001b[38;5;28mself\u001b[39m,),\n\u001b[0;32m   (...)\u001b[0m\n\u001b[1;32m    486\u001b[0m         inputs\u001b[38;5;241m=\u001b[39minputs,\n\u001b[1;32m    487\u001b[0m     )\n\u001b[0;32m--> 488\u001b[0m \u001b[43mtorch\u001b[49m\u001b[38;5;241;43m.\u001b[39;49m\u001b[43mautograd\u001b[49m\u001b[38;5;241;43m.\u001b[39;49m\u001b[43mbackward\u001b[49m\u001b[43m(\u001b[49m\n\u001b[1;32m    489\u001b[0m \u001b[43m    \u001b[49m\u001b[38;5;28;43mself\u001b[39;49m\u001b[43m,\u001b[49m\u001b[43m \u001b[49m\u001b[43mgradient\u001b[49m\u001b[43m,\u001b[49m\u001b[43m \u001b[49m\u001b[43mretain_graph\u001b[49m\u001b[43m,\u001b[49m\u001b[43m \u001b[49m\u001b[43mcreate_graph\u001b[49m\u001b[43m,\u001b[49m\u001b[43m \u001b[49m\u001b[43minputs\u001b[49m\u001b[38;5;241;43m=\u001b[39;49m\u001b[43minputs\u001b[49m\n\u001b[1;32m    490\u001b[0m \u001b[43m\u001b[49m\u001b[43m)\u001b[49m\n",
      "File \u001b[0;32m~/.conda/envs/working_monai/lib/python3.9/site-packages/torch/autograd/__init__.py:197\u001b[0m, in \u001b[0;36mbackward\u001b[0;34m(tensors, grad_tensors, retain_graph, create_graph, grad_variables, inputs)\u001b[0m\n\u001b[1;32m    192\u001b[0m     retain_graph \u001b[38;5;241m=\u001b[39m create_graph\n\u001b[1;32m    194\u001b[0m \u001b[38;5;66;03m# The reason we repeat same the comment below is that\u001b[39;00m\n\u001b[1;32m    195\u001b[0m \u001b[38;5;66;03m# some Python versions print out the first line of a multi-line function\u001b[39;00m\n\u001b[1;32m    196\u001b[0m \u001b[38;5;66;03m# calls in the traceback and some print out the last line\u001b[39;00m\n\u001b[0;32m--> 197\u001b[0m \u001b[43mVariable\u001b[49m\u001b[38;5;241;43m.\u001b[39;49m\u001b[43m_execution_engine\u001b[49m\u001b[38;5;241;43m.\u001b[39;49m\u001b[43mrun_backward\u001b[49m\u001b[43m(\u001b[49m\u001b[43m  \u001b[49m\u001b[38;5;66;43;03m# Calls into the C++ engine to run the backward pass\u001b[39;49;00m\n\u001b[1;32m    198\u001b[0m \u001b[43m    \u001b[49m\u001b[43mtensors\u001b[49m\u001b[43m,\u001b[49m\u001b[43m \u001b[49m\u001b[43mgrad_tensors_\u001b[49m\u001b[43m,\u001b[49m\u001b[43m \u001b[49m\u001b[43mretain_graph\u001b[49m\u001b[43m,\u001b[49m\u001b[43m \u001b[49m\u001b[43mcreate_graph\u001b[49m\u001b[43m,\u001b[49m\u001b[43m \u001b[49m\u001b[43minputs\u001b[49m\u001b[43m,\u001b[49m\n\u001b[1;32m    199\u001b[0m \u001b[43m    \u001b[49m\u001b[43mallow_unreachable\u001b[49m\u001b[38;5;241;43m=\u001b[39;49m\u001b[38;5;28;43;01mTrue\u001b[39;49;00m\u001b[43m,\u001b[49m\u001b[43m \u001b[49m\u001b[43maccumulate_grad\u001b[49m\u001b[38;5;241;43m=\u001b[39;49m\u001b[38;5;28;43;01mTrue\u001b[39;49;00m\u001b[43m)\u001b[49m\n",
      "\u001b[0;31mKeyboardInterrupt\u001b[0m: "
     ]
    }
   ],
   "source": [
    "n_epochs = 100\n",
    "autoencoder_warm_up_n_epochs = 5\n",
    "val_interval = 10\n",
    "epoch_recon_loss_list = []\n",
    "epoch_gen_loss_list = []\n",
    "epoch_disc_loss_list = []\n",
    "val_recon_epoch_loss_list = []\n",
    "intermediary_images = []\n",
    "n_example_images = 4\n",
    "\n",
    "for epoch in range(n_epochs):\n",
    "    autoencoder.train()\n",
    "    discriminator.train()\n",
    "    epoch_loss = 0\n",
    "    gen_epoch_loss = 0\n",
    "    disc_epoch_loss = 0\n",
    "    progress_bar = tqdm(enumerate(train_loader), total=len(train_loader), ncols=110)\n",
    "    progress_bar.set_description(f\"Epoch {epoch}\")\n",
    "    for step, batch in progress_bar:\n",
    "        images = batch['vol']['data'].to(device)\n",
    "        # Expand the dimensions of batch['peak'] to make it [1, 1, 1, 1, 4]\n",
    "        images[images<0.01]=0\n",
    "        # Expand the dimensions of batch['peak'] to make it [1, 1, 1, 1, 4]\n",
    "        peak_expanded = (batch['peak'].unsqueeze(1).unsqueeze(2).unsqueeze(3).unsqueeze(4)).long()\n",
    "        peak_expanded = peak_expanded.to(device)\n",
    "    \n",
    "        # Perform the division\n",
    "        images = (images / peak_expanded)\n",
    "        \n",
    "        middle_slice_idx = images.size(-1) // 2  # Define middle_slice_idx here\n",
    "\n",
    "        # Generator part\n",
    "        optimizer_g.zero_grad(set_to_none=True)\n",
    "        reconstruction, z_mu, z_sigma = autoencoder(images)\n",
    "        kl_loss = KL_loss(z_mu, z_sigma)\n",
    "\n",
    "        recons_loss = l1_loss(reconstruction.float(), images.float())\n",
    "        p_loss = loss_perceptual(reconstruction.float(), images.float())\n",
    "        loss_g = recons_loss + kl_weight * kl_loss + perceptual_weight * p_loss\n",
    "\n",
    "        if epoch > autoencoder_warm_up_n_epochs:\n",
    "            logits_fake = discriminator(reconstruction.contiguous().float())[-1]\n",
    "            generator_loss = adv_loss(logits_fake, target_is_real=True, for_discriminator=False)\n",
    "            loss_g += adv_weight * generator_loss\n",
    "\n",
    "        loss_g.backward()\n",
    "        optimizer_g.step()\n",
    "\n",
    "        if epoch > autoencoder_warm_up_n_epochs:\n",
    "            # Discriminator part\n",
    "            optimizer_d.zero_grad(set_to_none=True)\n",
    "            logits_fake = discriminator(reconstruction.contiguous().detach())[-1]\n",
    "            loss_d_fake = adv_loss(logits_fake, target_is_real=False, for_discriminator=True)\n",
    "            logits_real = discriminator(images.contiguous().detach())[-1]\n",
    "            loss_d_real = adv_loss(logits_real, target_is_real=True, for_discriminator=True)\n",
    "            discriminator_loss = (loss_d_fake + loss_d_real) * 0.5\n",
    "\n",
    "            loss_d = adv_weight * discriminator_loss\n",
    "\n",
    "            loss_d.backward()\n",
    "            optimizer_d.step()\n",
    "\n",
    "        epoch_loss += recons_loss.item()\n",
    "        if epoch > autoencoder_warm_up_n_epochs:\n",
    "            gen_epoch_loss += generator_loss.item()\n",
    "            disc_epoch_loss += discriminator_loss.item()\n",
    "\n",
    "        progress_bar.set_postfix(\n",
    "            {\n",
    "                \"recons_loss\": epoch_loss / (step + 1),\n",
    "                \"gen_loss\": gen_epoch_loss / (step + 1),\n",
    "                \"disc_loss\": disc_epoch_loss / (step + 1),\n",
    "            }\n",
    "        )\n",
    "    epoch_recon_loss_list.append(epoch_loss / (step + 1))\n",
    "    epoch_gen_loss_list.append(gen_epoch_loss / (step + 1))\n",
    "    epoch_disc_loss_list.append(disc_epoch_loss / (step + 1))\n",
    "\n",
    "del discriminator\n",
    "del loss_perceptual\n",
    "torch.cuda.empty_cache()"
   ]
  },
  {
   "cell_type": "code",
   "execution_count": null,
   "id": "a27064b6",
   "metadata": {},
   "outputs": [],
   "source": [
    "plt.style.use(\"ggplot\")\n",
    "plt.title(\"Learning Curves\", fontsize=20)\n",
    "plt.plot(epoch_recon_loss_list)\n",
    "plt.yticks(fontsize=12)\n",
    "plt.xticks(fontsize=12)\n",
    "plt.xlabel(\"Epochs\", fontsize=16)\n",
    "plt.ylabel(\"Loss\", fontsize=16)\n",
    "plt.legend(prop={\"size\": 14})\n",
    "plt.show()"
   ]
  },
  {
   "cell_type": "code",
   "execution_count": null,
   "id": "fd710efe",
   "metadata": {},
   "outputs": [],
   "source": [
    "plt.title(\"Adversarial Training Curves\", fontsize=20)\n",
    "plt.plot(epoch_gen_loss_list, color=\"C0\", linewidth=2.0, label=\"Generator\")\n",
    "plt.plot(epoch_disc_loss_list, color=\"C1\", linewidth=2.0, label=\"Discriminator\")\n",
    "plt.yticks(fontsize=12)\n",
    "plt.xticks(fontsize=12)\n",
    "plt.xlabel(\"Epochs\", fontsize=16)\n",
    "plt.ylabel(\"Loss\", fontsize=16)\n",
    "plt.legend(prop={\"size\": 14})\n",
    "plt.show()"
   ]
  },
  {
   "cell_type": "markdown",
   "id": "92e38b28",
   "metadata": {},
   "source": [
    "### Visualise reconstructions"
   ]
  },
  {
   "cell_type": "code",
   "execution_count": null,
   "id": "ec9685bb",
   "metadata": {},
   "outputs": [],
   "source": [
    "# Plot axial, coronal and sagittal slices of a training sample\n",
    "idx = 0\n",
    "img = reconstruction[idx, channel].detach().cpu().numpy()\n",
    "fig, axs = plt.subplots(nrows=1, ncols=3)\n",
    "for ax in axs:\n",
    "    ax.axis(\"off\")\n",
    "ax = axs[0]\n",
    "ax.imshow(img[..., img.shape[2] // 2], cmap=\"gray\")\n",
    "ax = axs[1]\n",
    "ax.imshow(img[:, img.shape[1] // 2, ...], cmap=\"gray\")\n",
    "ax = axs[2]\n",
    "ax.imshow(img[img.shape[0] // 2, ...], cmap=\"gray\")"
   ]
  },
  {
   "cell_type": "code",
   "execution_count": null,
   "id": "7241b28b-7c90-497c-bec7-e1c4ac55b9c3",
   "metadata": {},
   "outputs": [],
   "source": [
    "model_filename = f\"./models/auto_epoch{epoch}.pt\"\n",
    "torch.save(autoencoder.state_dict(), model_filename)"
   ]
  },
  {
   "cell_type": "markdown",
   "id": "fe436141",
   "metadata": {},
   "source": [
    "## Diffusion Model\n",
    "\n",
    "### Define diffusion model and scheduler\n",
    "\n",
    "In this section, we will define the diffusion model that will learn data distribution of the latent representation of the autoencoder. Together with the diffusion model, we define a beta scheduler responsible for defining the amount of noise tahat is added across the diffusion's model Markov chain."
   ]
  },
  {
   "cell_type": "code",
   "execution_count": 42,
   "id": "88cbe609",
   "metadata": {},
   "outputs": [],
   "source": [
    "unet = DiffusionModelUNet(\n",
    "    spatial_dims=3,\n",
    "    in_channels=3,\n",
    "    out_channels=3,\n",
    "    num_res_blocks=1,\n",
    "    num_channels=(32, 64, 64),\n",
    "    attention_levels=(False, True, True),\n",
    "    num_head_channels=(0, 64, 64),\n",
    ")\n",
    "unet.to(device)\n",
    "\n",
    "\n",
    "scheduler = DDPMScheduler(num_train_timesteps=1000, schedule=\"scaled_linear_beta\", beta_start=0.0015, beta_end=0.0195)"
   ]
  },
  {
   "cell_type": "markdown",
   "id": "243ddf9e",
   "metadata": {},
   "source": [
    "### Scaling factor\n",
    "\n",
    "As mentioned in Rombach et al. [1] Section 4.3.2 and D.1, the signal-to-noise ratio (induced by the scale of the latent space) can affect the results obtained with the LDM, if the standard deviation of the latent space distribution drifts too much from that of a Gaussian. For this reason, it is best practice to use a scaling factor to adapt this standard deviation.\n",
    "\n",
    "_Note: In case where the latent space is close to a Gaussian distribution, the scaling factor will be close to one, and the results will not differ from those obtained when it is not used._\n"
   ]
  },
  {
   "cell_type": "code",
   "execution_count": 14,
   "id": "c5fedcea",
   "metadata": {},
   "outputs": [
    {
     "name": "stdout",
     "output_type": "stream",
     "text": [
      "Scaling factor set to tensor(1.0026, device='cuda:0')\n"
     ]
    }
   ],
   "source": [
    "with torch.no_grad():\n",
    "    with autocast(enabled=True):\n",
    "        z = autoencoder.encode_stage_2_inputs(check_data[\"image\"].to(device))\n",
    "\n",
    "print(f\"Scaling factor set to {1/torch.std(z)}\")\n",
    "scale_factor = 1 / torch.std(z)"
   ]
  },
  {
   "cell_type": "markdown",
   "id": "439ff2d8",
   "metadata": {},
   "source": [
    "We define the inferer using the scale factor:"
   ]
  },
  {
   "cell_type": "code",
   "execution_count": null,
   "id": "7de37f3a",
   "metadata": {},
   "outputs": [],
   "source": [
    "inferer = LatentDiffusionInferer(scheduler, scale_factor=scale_factor)"
   ]
  },
  {
   "cell_type": "code",
   "execution_count": 43,
   "id": "5eef3ec7",
   "metadata": {},
   "outputs": [],
   "source": [
    "optimizer_diff = torch.optim.Adam(params=unet.parameters(), lr=1e-4)"
   ]
  },
  {
   "cell_type": "markdown",
   "id": "4705c795",
   "metadata": {},
   "source": [
    "### Train diffusion model"
   ]
  },
  {
   "cell_type": "code",
   "execution_count": 44,
   "id": "0a7f6459",
   "metadata": {},
   "outputs": [
    {
     "name": "stderr",
     "output_type": "stream",
     "text": [
      "Epoch 0: 100%|███████████| 194/194 [00:23<00:00,  8.24it/s, loss=0.58]\n",
      "Epoch 1: 100%|██████████| 194/194 [00:24<00:00,  7.85it/s, loss=0.356]\n",
      "Epoch 2: 100%|██████████| 194/194 [00:23<00:00,  8.30it/s, loss=0.315]\n",
      "Epoch 3: 100%|███████████| 194/194 [00:24<00:00,  8.05it/s, loss=0.29]\n",
      "Epoch 4: 100%|██████████| 194/194 [00:23<00:00,  8.41it/s, loss=0.277]\n",
      "Epoch 5: 100%|██████████| 194/194 [00:23<00:00,  8.43it/s, loss=0.253]\n",
      "Epoch 6: 100%|██████████| 194/194 [00:22<00:00,  8.45it/s, loss=0.276]\n",
      "Epoch 7: 100%|██████████| 194/194 [00:22<00:00,  8.47it/s, loss=0.302]\n",
      "Epoch 8: 100%|██████████| 194/194 [00:24<00:00,  8.02it/s, loss=0.258]\n",
      "Epoch 9: 100%|███████████| 194/194 [00:23<00:00,  8.28it/s, loss=0.26]\n",
      "Epoch 10: 100%|█████████| 194/194 [00:23<00:00,  8.18it/s, loss=0.247]\n",
      "Epoch 11: 100%|██████████| 194/194 [00:22<00:00,  8.47it/s, loss=0.25]\n",
      "Epoch 12: 100%|█████████| 194/194 [00:23<00:00,  8.36it/s, loss=0.286]\n",
      "Epoch 13: 100%|██████████| 194/194 [00:23<00:00,  8.40it/s, loss=0.26]\n",
      "Epoch 14: 100%|█████████| 194/194 [00:23<00:00,  8.38it/s, loss=0.307]\n",
      "Epoch 15: 100%|██████████| 194/194 [00:23<00:00,  8.41it/s, loss=0.28]\n",
      "Epoch 16: 100%|█████████| 194/194 [00:23<00:00,  8.43it/s, loss=0.291]\n",
      "Epoch 17: 100%|█████████| 194/194 [00:23<00:00,  8.40it/s, loss=0.274]\n",
      "Epoch 18: 100%|█████████| 194/194 [00:23<00:00,  8.43it/s, loss=0.257]\n",
      "Epoch 19: 100%|█████████| 194/194 [00:24<00:00,  8.02it/s, loss=0.276]\n",
      "Epoch 20: 100%|█████████| 194/194 [00:23<00:00,  8.21it/s, loss=0.255]\n",
      "Epoch 21: 100%|█████████| 194/194 [00:23<00:00,  8.28it/s, loss=0.245]\n",
      "Epoch 22: 100%|█████████| 194/194 [00:23<00:00,  8.34it/s, loss=0.276]\n",
      "Epoch 23: 100%|█████████| 194/194 [00:23<00:00,  8.17it/s, loss=0.232]\n",
      "Epoch 24: 100%|█████████| 194/194 [00:23<00:00,  8.43it/s, loss=0.256]\n",
      "Epoch 25: 100%|█████████| 194/194 [00:23<00:00,  8.21it/s, loss=0.243]\n",
      "Epoch 26: 100%|█████████| 194/194 [00:24<00:00,  8.06it/s, loss=0.249]\n",
      "Epoch 27: 100%|█████████| 194/194 [00:23<00:00,  8.26it/s, loss=0.283]\n",
      "Epoch 28: 100%|█████████| 194/194 [00:23<00:00,  8.28it/s, loss=0.277]\n",
      "Epoch 29: 100%|█████████| 194/194 [00:23<00:00,  8.30it/s, loss=0.279]\n",
      "Epoch 30: 100%|█████████| 194/194 [00:23<00:00,  8.09it/s, loss=0.251]\n",
      "Epoch 31: 100%|█████████| 194/194 [00:23<00:00,  8.17it/s, loss=0.257]\n",
      "Epoch 32: 100%|█████████| 194/194 [00:23<00:00,  8.20it/s, loss=0.278]\n",
      "Epoch 33: 100%|█████████| 194/194 [00:23<00:00,  8.33it/s, loss=0.264]\n",
      "Epoch 34: 100%|█████████| 194/194 [00:23<00:00,  8.20it/s, loss=0.256]\n",
      "Epoch 35: 100%|█████████| 194/194 [00:24<00:00,  7.92it/s, loss=0.266]\n",
      "Epoch 36: 100%|█████████| 194/194 [00:23<00:00,  8.33it/s, loss=0.253]\n",
      "Epoch 37: 100%|█████████| 194/194 [00:23<00:00,  8.13it/s, loss=0.268]\n",
      "Epoch 38: 100%|█████████| 194/194 [00:23<00:00,  8.13it/s, loss=0.257]\n",
      "Epoch 39: 100%|█████████| 194/194 [00:23<00:00,  8.25it/s, loss=0.246]\n",
      "Epoch 40: 100%|█████████| 194/194 [00:23<00:00,  8.37it/s, loss=0.254]\n",
      "Epoch 41: 100%|█████████| 194/194 [00:23<00:00,  8.15it/s, loss=0.277]\n",
      "Epoch 42: 100%|█████████| 194/194 [00:24<00:00,  7.79it/s, loss=0.277]\n",
      "Epoch 43: 100%|█████████| 194/194 [00:23<00:00,  8.11it/s, loss=0.259]\n",
      "Epoch 44: 100%|█████████| 194/194 [00:24<00:00,  7.82it/s, loss=0.258]\n",
      "Epoch 45: 100%|█████████| 194/194 [00:23<00:00,  8.30it/s, loss=0.249]\n",
      "Epoch 46: 100%|██████████| 194/194 [00:23<00:00,  8.31it/s, loss=0.26]\n",
      "Epoch 47: 100%|█████████| 194/194 [00:23<00:00,  8.19it/s, loss=0.261]\n",
      "Epoch 48: 100%|█████████| 194/194 [00:23<00:00,  8.16it/s, loss=0.275]\n",
      "Epoch 49: 100%|█████████| 194/194 [00:23<00:00,  8.38it/s, loss=0.259]\n",
      "Epoch 50: 100%|█████████| 194/194 [00:23<00:00,  8.28it/s, loss=0.291]\n",
      "Epoch 51: 100%|█████████| 194/194 [00:23<00:00,  8.23it/s, loss=0.268]\n",
      "Epoch 52: 100%|█████████| 194/194 [00:23<00:00,  8.29it/s, loss=0.272]\n",
      "Epoch 53: 100%|█████████| 194/194 [00:23<00:00,  8.15it/s, loss=0.251]\n",
      "Epoch 54: 100%|█████████| 194/194 [00:23<00:00,  8.13it/s, loss=0.289]\n",
      "Epoch 55: 100%|█████████| 194/194 [00:24<00:00,  8.03it/s, loss=0.261]\n",
      "Epoch 56: 100%|██████████| 194/194 [00:23<00:00,  8.18it/s, loss=0.28]\n",
      "Epoch 57: 100%|█████████| 194/194 [00:23<00:00,  8.22it/s, loss=0.259]\n",
      "Epoch 58: 100%|█████████| 194/194 [00:24<00:00,  7.83it/s, loss=0.248]\n",
      "Epoch 59: 100%|██████████| 194/194 [00:23<00:00,  8.33it/s, loss=0.25]\n",
      "Epoch 60: 100%|█████████| 194/194 [00:24<00:00,  8.00it/s, loss=0.273]\n",
      "Epoch 61: 100%|█████████| 194/194 [00:24<00:00,  7.79it/s, loss=0.259]\n",
      "Epoch 62: 100%|█████████| 194/194 [00:24<00:00,  8.08it/s, loss=0.257]\n",
      "Epoch 63: 100%|█████████| 194/194 [00:25<00:00,  7.75it/s, loss=0.263]\n",
      "Epoch 64: 100%|█████████| 194/194 [00:23<00:00,  8.31it/s, loss=0.251]\n",
      "Epoch 65: 100%|█████████| 194/194 [00:24<00:00,  7.98it/s, loss=0.278]\n",
      "Epoch 66: 100%|█████████| 194/194 [00:24<00:00,  7.81it/s, loss=0.258]\n",
      "Epoch 67: 100%|█████████| 194/194 [00:23<00:00,  8.14it/s, loss=0.288]\n",
      "Epoch 68: 100%|█████████| 194/194 [00:24<00:00,  8.05it/s, loss=0.248]\n",
      "Epoch 69: 100%|█████████| 194/194 [00:24<00:00,  8.03it/s, loss=0.257]\n",
      "Epoch 70: 100%|█████████| 194/194 [00:23<00:00,  8.39it/s, loss=0.246]\n",
      "Epoch 71: 100%|█████████| 194/194 [00:24<00:00,  7.88it/s, loss=0.288]\n",
      "Epoch 72: 100%|█████████| 194/194 [00:23<00:00,  8.38it/s, loss=0.282]\n",
      "Epoch 73: 100%|█████████| 194/194 [00:22<00:00,  8.44it/s, loss=0.287]\n",
      "Epoch 74: 100%|█████████| 194/194 [00:23<00:00,  8.29it/s, loss=0.282]\n",
      "Epoch 75: 100%|█████████| 194/194 [00:23<00:00,  8.42it/s, loss=0.263]\n",
      "Epoch 76: 100%|█████████| 194/194 [00:23<00:00,  8.11it/s, loss=0.286]\n",
      "Epoch 77: 100%|█████████| 194/194 [00:25<00:00,  7.68it/s, loss=0.252]\n",
      "Epoch 78: 100%|█████████| 194/194 [00:23<00:00,  8.18it/s, loss=0.273]\n",
      "Epoch 79: 100%|█████████| 194/194 [00:23<00:00,  8.33it/s, loss=0.235]\n",
      "Epoch 80: 100%|█████████| 194/194 [00:23<00:00,  8.34it/s, loss=0.265]\n",
      "Epoch 81: 100%|█████████| 194/194 [00:23<00:00,  8.21it/s, loss=0.258]\n",
      "Epoch 82: 100%|█████████| 194/194 [00:23<00:00,  8.36it/s, loss=0.243]\n",
      "Epoch 83: 100%|█████████| 194/194 [00:23<00:00,  8.11it/s, loss=0.251]\n",
      "Epoch 84: 100%|█████████| 194/194 [00:24<00:00,  8.01it/s, loss=0.306]\n",
      "Epoch 85: 100%|█████████| 194/194 [00:24<00:00,  8.07it/s, loss=0.265]\n",
      "Epoch 86: 100%|█████████| 194/194 [00:23<00:00,  8.12it/s, loss=0.243]\n",
      "Epoch 87: 100%|█████████| 194/194 [00:23<00:00,  8.17it/s, loss=0.257]\n",
      "Epoch 88: 100%|█████████| 194/194 [00:23<00:00,  8.32it/s, loss=0.268]\n",
      "Epoch 89: 100%|█████████| 194/194 [00:23<00:00,  8.16it/s, loss=0.263]\n",
      "Epoch 90: 100%|█████████| 194/194 [00:23<00:00,  8.19it/s, loss=0.244]\n",
      "Epoch 91: 100%|█████████| 194/194 [00:23<00:00,  8.39it/s, loss=0.278]\n",
      "Epoch 92: 100%|█████████| 194/194 [00:23<00:00,  8.28it/s, loss=0.274]\n",
      "Epoch 93: 100%|██████████| 194/194 [00:23<00:00,  8.15it/s, loss=0.24]\n",
      "Epoch 94: 100%|█████████| 194/194 [00:24<00:00,  8.01it/s, loss=0.275]\n",
      "Epoch 95: 100%|█████████| 194/194 [00:24<00:00,  8.06it/s, loss=0.259]\n",
      "Epoch 96: 100%|█████████| 194/194 [00:24<00:00,  8.00it/s, loss=0.247]\n",
      "Epoch 97: 100%|█████████| 194/194 [00:23<00:00,  8.32it/s, loss=0.273]\n",
      "Epoch 98: 100%|█████████| 194/194 [00:25<00:00,  7.75it/s, loss=0.262]\n",
      "Epoch 99: 100%|█████████| 194/194 [00:25<00:00,  7.71it/s, loss=0.281]\n",
      "Epoch 100: 100%|████████| 194/194 [00:24<00:00,  7.82it/s, loss=0.301]\n",
      "Epoch 101: 100%|████████| 194/194 [00:23<00:00,  8.39it/s, loss=0.276]\n",
      "Epoch 102: 100%|████████| 194/194 [00:24<00:00,  7.83it/s, loss=0.279]\n",
      "Epoch 103: 100%|████████| 194/194 [00:23<00:00,  8.34it/s, loss=0.289]\n",
      "Epoch 104: 100%|████████| 194/194 [00:23<00:00,  8.35it/s, loss=0.277]\n",
      "Epoch 105: 100%|████████| 194/194 [00:23<00:00,  8.42it/s, loss=0.251]\n",
      "Epoch 106: 100%|████████| 194/194 [00:23<00:00,  8.36it/s, loss=0.262]\n",
      "Epoch 107: 100%|████████| 194/194 [00:23<00:00,  8.41it/s, loss=0.273]\n",
      "Epoch 108: 100%|████████| 194/194 [00:23<00:00,  8.41it/s, loss=0.283]\n",
      "Epoch 109: 100%|█████████| 194/194 [00:23<00:00,  8.38it/s, loss=0.31]\n",
      "Epoch 110: 100%|████████| 194/194 [00:23<00:00,  8.43it/s, loss=0.278]\n",
      "Epoch 111: 100%|████████| 194/194 [00:23<00:00,  8.35it/s, loss=0.256]\n",
      "Epoch 112: 100%|█████████| 194/194 [00:23<00:00,  8.43it/s, loss=0.26]\n",
      "Epoch 113: 100%|████████| 194/194 [00:24<00:00,  7.92it/s, loss=0.251]\n",
      "Epoch 114: 100%|████████| 194/194 [00:25<00:00,  7.74it/s, loss=0.274]\n",
      "Epoch 115: 100%|████████| 194/194 [00:23<00:00,  8.12it/s, loss=0.289]\n",
      "Epoch 116: 100%|████████| 194/194 [00:24<00:00,  7.88it/s, loss=0.262]\n",
      "Epoch 117: 100%|████████| 194/194 [00:24<00:00,  8.04it/s, loss=0.247]\n",
      "Epoch 118: 100%|█████████| 194/194 [00:23<00:00,  8.41it/s, loss=0.25]\n",
      "Epoch 119: 100%|████████| 194/194 [00:23<00:00,  8.43it/s, loss=0.263]\n",
      "Epoch 120: 100%|████████| 194/194 [00:23<00:00,  8.40it/s, loss=0.259]\n",
      "Epoch 121: 100%|████████| 194/194 [00:23<00:00,  8.42it/s, loss=0.258]\n",
      "Epoch 122: 100%|████████| 194/194 [00:23<00:00,  8.37it/s, loss=0.272]\n",
      "Epoch 123: 100%|████████| 194/194 [00:23<00:00,  8.42it/s, loss=0.248]\n",
      "Epoch 124: 100%|████████| 194/194 [00:22<00:00,  8.44it/s, loss=0.286]\n",
      "Epoch 125: 100%|████████| 194/194 [00:23<00:00,  8.36it/s, loss=0.288]\n",
      "Epoch 126: 100%|████████| 194/194 [00:23<00:00,  8.43it/s, loss=0.283]\n",
      "Epoch 127: 100%|████████| 194/194 [00:23<00:00,  8.39it/s, loss=0.283]\n",
      "Epoch 128: 100%|████████| 194/194 [00:24<00:00,  7.86it/s, loss=0.256]\n",
      "Epoch 129: 100%|████████| 194/194 [00:24<00:00,  7.91it/s, loss=0.268]\n",
      "Epoch 130: 100%|████████| 194/194 [00:24<00:00,  8.05it/s, loss=0.266]\n",
      "Epoch 131: 100%|████████| 194/194 [00:22<00:00,  8.47it/s, loss=0.276]\n",
      "Epoch 132: 100%|█████████| 194/194 [00:23<00:00,  8.24it/s, loss=0.25]\n",
      "Epoch 133: 100%|████████| 194/194 [00:23<00:00,  8.24it/s, loss=0.295]\n",
      "Epoch 134: 100%|████████| 194/194 [00:23<00:00,  8.22it/s, loss=0.263]\n",
      "Epoch 135: 100%|████████| 194/194 [00:23<00:00,  8.28it/s, loss=0.248]\n",
      "Epoch 136: 100%|████████| 194/194 [00:22<00:00,  8.44it/s, loss=0.234]\n",
      "Epoch 137: 100%|████████| 194/194 [00:23<00:00,  8.41it/s, loss=0.265]\n",
      "Epoch 138: 100%|████████| 194/194 [00:25<00:00,  7.67it/s, loss=0.288]\n",
      "Epoch 139: 100%|████████| 194/194 [00:23<00:00,  8.35it/s, loss=0.232]\n",
      "Epoch 140: 100%|████████| 194/194 [00:23<00:00,  8.37it/s, loss=0.275]\n",
      "Epoch 141: 100%|████████| 194/194 [00:23<00:00,  8.38it/s, loss=0.267]\n",
      "Epoch 142: 100%|████████| 194/194 [00:23<00:00,  8.31it/s, loss=0.247]\n",
      "Epoch 143: 100%|████████| 194/194 [00:23<00:00,  8.39it/s, loss=0.261]\n",
      "Epoch 144: 100%|████████| 194/194 [00:23<00:00,  8.23it/s, loss=0.263]\n",
      "Epoch 145: 100%|████████| 194/194 [00:24<00:00,  7.80it/s, loss=0.265]\n",
      "Epoch 146: 100%|████████| 194/194 [00:23<00:00,  8.29it/s, loss=0.276]\n",
      "Epoch 147: 100%|████████| 194/194 [00:23<00:00,  8.27it/s, loss=0.263]\n",
      "Epoch 148: 100%|████████| 194/194 [00:23<00:00,  8.14it/s, loss=0.275]\n",
      "Epoch 149: 100%|████████| 194/194 [00:23<00:00,  8.36it/s, loss=0.266]\n"
     ]
    }
   ],
   "source": [
    "n_epochs = 150\n",
    "epoch_loss_list = []\n",
    "autoencoder.eval()\n",
    "scaler = GradScaler()\n",
    "\n",
    "first_batch = first(train_loader)\n",
    "z = autoencoder.encode_stage_2_inputs(first_batch[\"image\"].to(device))\n",
    "\n",
    "for epoch in range(n_epochs):\n",
    "    unet.train()\n",
    "    epoch_loss = 0\n",
    "    progress_bar = tqdm(enumerate(train_loader), total=len(train_loader), ncols=70)\n",
    "    progress_bar.set_description(f\"Epoch {epoch}\")\n",
    "    for step, batch in progress_bar:\n",
    "        images = batch['vol']['data'].to(device)\n",
    "        # Expand the dimensions of batch['peak'] to make it [1, 1, 1, 1, 4]\n",
    "        images[images<0.01]=0\n",
    "        # Expand the dimensions of batch['peak'] to make it [1, 1, 1, 1, 4]\n",
    "        peak_expanded = (batch['peak'].unsqueeze(1).unsqueeze(2).unsqueeze(3).unsqueeze(4)).long()\n",
    "        peak_expanded = peak_expanded.to(device)\n",
    "    \n",
    "        # Perform the division\n",
    "        images = (images / peak_expanded)\n",
    "        \n",
    "        middle_slice_idx = images.size(-1) // 2  # Define middle_slice_idx here\n",
    "        optimizer_diff.zero_grad(set_to_none=True)\n",
    "\n",
    "        with autocast(enabled=True):\n",
    "            # Generate random noise\n",
    "            noise = torch.randn_like(z).to(device)\n",
    "\n",
    "            # Create timesteps\n",
    "            timesteps = torch.randint(\n",
    "                0, inferer.scheduler.num_train_timesteps, (images.shape[0],), device=images.device\n",
    "            ).long()\n",
    "\n",
    "            # Get model prediction\n",
    "            noise_pred = inferer(\n",
    "                inputs=images, autoencoder_model=autoencoder, diffusion_model=unet, noise=noise, timesteps=timesteps\n",
    "            )\n",
    "\n",
    "            loss = F.mse_loss(noise_pred.float(), noise.float())\n",
    "\n",
    "        scaler.scale(loss).backward()\n",
    "        scaler.step(optimizer_diff)\n",
    "        scaler.update()\n",
    "\n",
    "        epoch_loss += loss.item()\n",
    "\n",
    "        progress_bar.set_postfix({\"loss\": epoch_loss / (step + 1)})\n",
    "    epoch_loss_list.append(epoch_loss / (step + 1))"
   ]
  },
  {
   "cell_type": "code",
   "execution_count": 18,
   "id": "93b93696",
   "metadata": {},
   "outputs": [
    {
     "name": "stdout",
     "output_type": "stream",
     "text": [
      "2023-02-19 14:12:22,536 - No artists with labels found to put in legend.  Note that artists whose label start with an underscore are ignored when legend() is called with no argument.\n"
     ]
    },
    {
     "data": {
      "image/png": "[encoded data removed]",
      "text/plain": [
       "<Figure size 640x480 with 1 Axes>"
      ]
     },
     "metadata": {},
     "output_type": "display_data"
    }
   ],
   "source": [
    "plt.plot(epoch_loss_list)\n",
    "plt.title(\"Learning Curves\", fontsize=20)\n",
    "plt.plot(epoch_loss_list)\n",
    "plt.yticks(fontsize=12)\n",
    "plt.xticks(fontsize=12)\n",
    "plt.xlabel(\"Epochs\", fontsize=16)\n",
    "plt.ylabel(\"Loss\", fontsize=16)\n",
    "plt.legend(prop={\"size\": 14})\n",
    "plt.show()"
   ]
  },
  {
   "cell_type": "markdown",
   "id": "c9de4288",
   "metadata": {},
   "source": [
    "### Plotting sampling example\n",
    "\n",
    "Finally, we generate an image with our LDM. For that, we will initialize a latent representation with just noise. Then, we will use the `unet` to perform 1000 denoising steps. In the last step, we decode the latent representation and plot the sampled image."
   ]
  },
  {
   "cell_type": "code",
   "execution_count": 51,
   "id": "bc946d70",
   "metadata": {},
   "outputs": [
    {
     "name": "stderr",
     "output_type": "stream",
     "text": [
      "100%|██████████████████████████████████████████████████████████████████████████████████████████████████████████████████████████████████████████████████████████████████████████████████████| 1000/1000 [00:15<00:00, 64.03it/s]\n"
     ]
    }
   ],
   "source": [
    "autoencoder.eval()\n",
    "unet.eval()\n",
    "\n",
    "noise = torch.randn(1, *z.size()[1:]).to(device)\n",
    "noise = noise.to(device)\n",
    "scheduler.set_timesteps(num_inference_steps=1000)\n",
    "synthetic_images = inferer.sample(\n",
    "    input_noise=noise, autoencoder_model=autoencoder, diffusion_model=unet, scheduler=scheduler\n",
    ")"
   ]
  },
  {
   "cell_type": "markdown",
   "id": "fed68b96",
   "metadata": {},
   "source": [
    "### Visualise synthetic data"
   ]
  },
  {
   "cell_type": "code",
   "execution_count": 52,
   "id": "0763caa1",
   "metadata": {},
   "outputs": [
    {
     "data": {
      "text/plain": [
       "<matplotlib.image.AxesImage at 0x7f510c1672e0>"
      ]
     },
     "execution_count": 52,
     "metadata": {},
     "output_type": "execute_result"
    },
    {
     "data": {
      "image/png": "[encoded data removed]",
      "text/plain": [
       "<Figure size 640x480 with 3 Axes>"
      ]
     },
     "metadata": {},
     "output_type": "display_data"
    }
   ],
   "source": [
    "idx = 0\n",
    "img = synthetic_images[idx, channel].detach().cpu().numpy()  # images\n",
    "fig, axs = plt.subplots(nrows=1, ncols=3)\n",
    "for ax in axs:\n",
    "    ax.axis(\"off\")\n",
    "ax = axs[0]\n",
    "ax.imshow(img[..., img.shape[2] // 2], cmap=\"gray\")\n",
    "ax = axs[1]\n",
    "ax.imshow(img[:, img.shape[1] // 2, ...], cmap=\"gray\")\n",
    "ax = axs[2]\n",
    "ax.imshow(img[img.shape[0] // 2, ...], cmap=\"gray\")"
   ]
  },
  {
   "cell_type": "markdown",
   "id": "d3ab7b79",
   "metadata": {},
   "source": [
    "## Clean-up data"
   ]
  },
  {
   "cell_type": "code",
   "execution_count": 21,
   "id": "52b71f99",
   "metadata": {},
   "outputs": [],
   "source": [
    "if directory is None:\n",
    "    shutil.rmtree(root_dir)"
   ]
  }
 ],
 "metadata": {
  "jupytext": {
   "cell_metadata_filter": "-all",
   "formats": "ipynb,py"
  },
  "kernelspec": {
   "display_name": "working_monai_v2",
   "language": "python",
   "name": "working_monai_v2"
  },
  "language_info": {
   "codemirror_mode": {
    "name": "ipython",
    "version": 3
   },
   "file_extension": ".py",
   "mimetype": "text/x-python",
   "name": "python",
   "nbconvert_exporter": "python",
   "pygments_lexer": "ipython3",
   "version": "3.9.16"
  },
  "vscode": {
   "interpreter": {
    "hash": "a7e6f8385898884a13cbe220eefefb32cba5012927a94186742ddc14746e4dba"
   }
  }
 },
 "nbformat": 4,
 "nbformat_minor": 5
}
