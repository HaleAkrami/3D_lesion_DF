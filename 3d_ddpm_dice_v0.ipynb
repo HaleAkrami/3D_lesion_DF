{
 "cells": [
  {
   "cell_type": "markdown",
   "id": "b5324510-9f87-40e5-837e-ef80aa7a7c20",
   "metadata": {},
   "source": [
    "# Imports"
   ]
  },
  {
   "cell_type": "code",
   "execution_count": 1,
   "id": "cdea37d5",
   "metadata": {},
   "outputs": [
    {
     "name": "stderr",
     "output_type": "stream",
     "text": [
      "/home1/akrami/.conda/envs/working_monai/lib/python3.9/site-packages/tqdm/auto.py:21: TqdmWarning: IProgress not found. Please update jupyter and ipywidgets. See https://ipywidgets.readthedocs.io/en/stable/user_install.html\n",
      "  from .autonotebook import tqdm as notebook_tqdm\n"
     ]
    },
    {
     "name": "stdout",
     "output_type": "stream",
     "text": [
      "2023-10-03 20:49:47,453 - A matching Triton is not available, some optimizations will not be enabled.\n",
      "Error caught was: No module named 'triton'\n",
      "2023-10-03 20:49:48,897 - Failed to detect the name of this notebook, you can set it manually with the WANDB_NOTEBOOK_NAME environment variable to enable code saving.\n"
     ]
    },
    {
     "name": "stderr",
     "output_type": "stream",
     "text": [
      "\u001b[34m\u001b[1mwandb\u001b[0m: Currently logged in as: \u001b[33mhale-akrami\u001b[0m (\u001b[33musc_akrami\u001b[0m). Use \u001b[1m`wandb login --relogin`\u001b[0m to force relogin\n"
     ]
    },
    {
     "data": {
      "text/html": [
       "wandb version 0.15.11 is available!  To upgrade, please run:\n",
       " $ pip install wandb --upgrade"
      ],
      "text/plain": [
       "<IPython.core.display.HTML object>"
      ]
     },
     "metadata": {},
     "output_type": "display_data"
    },
    {
     "data": {
      "text/html": [
       "Tracking run with wandb version 0.15.9"
      ],
      "text/plain": [
       "<IPython.core.display.HTML object>"
      ]
     },
     "metadata": {},
     "output_type": "display_data"
    },
    {
     "data": {
      "text/html": [
       "Run data is saved locally in <code>/project/ajoshi_27/akrami/3D_lesion_DF/wandb/run-20231003_204950-c3rw9yw1</code>"
      ],
      "text/plain": [
       "<IPython.core.display.HTML object>"
      ]
     },
     "metadata": {},
     "output_type": "display_data"
    },
    {
     "data": {
      "text/html": [
       "Syncing run <strong><a href='https://wandb.ai/usc_akrami/33_ddpm/runs/c3rw9yw1' target=\"_blank\">upbeat-leaf-87</a></strong> to <a href='https://wandb.ai/usc_akrami/33_ddpm' target=\"_blank\">Weights & Biases</a> (<a href='https://wandb.me/run' target=\"_blank\">docs</a>)<br/>"
      ],
      "text/plain": [
       "<IPython.core.display.HTML object>"
      ]
     },
     "metadata": {},
     "output_type": "display_data"
    },
    {
     "data": {
      "text/html": [
       " View project at <a href='https://wandb.ai/usc_akrami/33_ddpm' target=\"_blank\">https://wandb.ai/usc_akrami/33_ddpm</a>"
      ],
      "text/plain": [
       "<IPython.core.display.HTML object>"
      ]
     },
     "metadata": {},
     "output_type": "display_data"
    },
    {
     "data": {
      "text/html": [
       " View run at <a href='https://wandb.ai/usc_akrami/33_ddpm/runs/c3rw9yw1' target=\"_blank\">https://wandb.ai/usc_akrami/33_ddpm/runs/c3rw9yw1</a>"
      ],
      "text/plain": [
       "<IPython.core.display.HTML object>"
      ]
     },
     "metadata": {},
     "output_type": "display_data"
    }
   ],
   "source": [
    "# Standard Libraries\n",
    "import os\n",
    "import io\n",
    "import math\n",
    "import time\n",
    "import random\n",
    "import tempfile\n",
    "import warnings\n",
    "from multiprocessing import Manager\n",
    "from typing import Optional\n",
    "\n",
    "# Third-party Libraries\n",
    "import numpy as np\n",
    "import pandas as pd\n",
    "import matplotlib.pyplot as plt\n",
    "import scipy\n",
    "import SimpleITK as sitk\n",
    "import torch\n",
    "import torch.nn as nn\n",
    "import torchio as tio\n",
    "from torch.utils.data import DataLoader, Dataset, random_split\n",
    "from torch.cuda.amp import GradScaler, autocast\n",
    "\n",
    "# MONAI Libraries\n",
    "from monai.apps import DecathlonDataset\n",
    "from monai.config import print_config\n",
    "from monai.data import DataLoader\n",
    "from monai.transforms import (\n",
    "    AddChanneld, \n",
    "    CenterSpatialCropd, \n",
    "    Compose, \n",
    "    Lambdad, \n",
    "    LoadImaged, \n",
    "    Resized, \n",
    "    ScaleIntensityd\n",
    ")\n",
    "from monai.utils import set_determinism\n",
    "\n",
    "# Custom Libraries\n",
    "from generative.inferers import DiffusionInferer\n",
    "from generative.networks.nets import DiffusionModelUNet\n",
    "from generative.networks.schedulers import DDPMScheduler, DDIMScheduler\n",
    "from dataloader import Train ,Eval \n",
    "\n",
    "# Configuration\n",
    "sitk.ProcessObject.SetGlobalDefaultThreader(\"Platform\")\n",
    "warnings.filterwarnings('ignore')\n",
    "\n",
    "\n",
    "JUPYTER_ALLOW_INSECURE_WRITES=True"
   ]
  },
  {
   "cell_type": "markdown",
   "id": "62806039-804d-405c-9f44-9be5d36fd115",
   "metadata": {},
   "source": [
    "# Set seeds and configs"
   ]
  },
  {
   "cell_type": "code",
   "execution_count": 2,
   "id": "4a7b11cf",
   "metadata": {},
   "outputs": [
    {
     "data": {
      "text/plain": [
       "True"
      ]
     },
     "execution_count": 2,
     "metadata": {},
     "output_type": "execute_result"
    }
   ],
   "source": [
    "# Initialize Configuration\n",
    "config = {\n",
    "    'batch_size': 4,\n",
    "    'imgDimResize': (160, 192, 160),\n",
    "    'imgDimPad': (208, 256, 208),\n",
    "    'spatialDims': '3D',\n",
    "    'unisotropic_sampling': True,\n",
    "    'perc_low': 1,\n",
    "    'perc_high': 99,\n",
    "    'rescaleFactor': 2,\n",
    "    'base_path': '/scratch1/akrami/Latest_Data/Data',\n",
    "}\n",
    "\n",
    "# Seed and Device Configuration\n",
    "manualSeed = 999\n",
    "random.seed(manualSeed)\n",
    "torch.manual_seed(manualSeed)\n",
    "device = torch.device(\"cuda\" if torch.cuda.is_available() else \"cpu\")\n",
    "\n",
    "# CUDA and CUDNN Configuration\n",
    "# Uncomment the following line to specify CUDA_VISIBLE_DEVICES\n",
    "# os.environ['CUDA_VISIBLE_DEVICES'] = '2,3,5,6'\n",
    "torch.backends.cudnn.deterministic = True\n",
    "torch.backends.cudnn.benchmark = False\n",
    "\n",
    "# SimpleITK Configuration\n",
    "# Set the default number of threads and global behavior for SimpleITK\n",
    "sitk.ProcessObject.SetGlobalDefaultThreader(\"Platform\")\n",
    "\n"
   ]
  },
  {
   "cell_type": "markdown",
   "id": "4407f651-439f-4d49-902c-6e74ef45bcef",
   "metadata": {},
   "source": [
    "# Load the data"
   ]
  },
  {
   "cell_type": "code",
   "execution_count": 3,
   "id": "85f8311f-7def-4a62-a195-fe8f04b4e08b",
   "metadata": {},
   "outputs": [],
   "source": [
    "\n",
    "csvpath_trains=['./combined.csv']\n",
    "pathBase = '/scratch1/akrami/Data_train'\n",
    "csvpath_val = '/project/ajoshi_27/akrami/patched-Diffusion-Models-UAD/Data/splits/IXI_val_fold0.csv'\n",
    "csvpath_test = '/project/ajoshi_27/akrami/patched-Diffusion-Models-UAD/Data/splits/Brats21_sub_test.csv'\n",
    "var_csv = {}\n",
    "states = ['train','val','test']\n",
    "\n",
    "df_list = []\n",
    "\n",
    "# Loop through each CSV file path and read it into a DataFrame\n",
    "for csvpath in csvpath_trains:\n",
    "    df = pd.read_csv(csvpath)\n",
    "    df_list.append(df)\n",
    "\n",
    "# dfffff=  pd.concat(df_list, ignore_index=True)\n",
    "# dfffff.to_csv(\"./combined.csv\", index=False)\n",
    "var_csv['train'] =pd.concat(df_list, ignore_index=True)\n",
    "var_csv['val'] = pd.read_csv(csvpath_val)\n",
    "var_csv['test'] = pd.read_csv(csvpath_test)\n",
    "# if cfg.mode == 't2':\n",
    "#     keep_t2 = pd.read_csv(cfg.path.IXI.keep_t2) # only keep t2 images that have a t1 counterpart\n",
    "\n",
    "for state in states:\n",
    "    var_csv[state]['settype'] = state\n",
    "    var_csv[state]['norm_path'] = pathBase  + var_csv[state]['norm_path']\n",
    "    var_csv[state]['img_path'] = pathBase  + var_csv[state]['img_path']\n",
    "    var_csv[state]['mask_path'] = pathBase  + var_csv[state]['mask_path']\n",
    "    if state != 'test':\n",
    "        var_csv[state]['seg_path'] = None\n",
    "    else:\n",
    "        var_csv[state]['seg_path'] = pathBase  + var_csv[state]['seg_path']\n",
    "\n",
    "    # if cfg.mode == 't2': \n",
    "    #     var_csv[state] =var_csv[state][var_csv[state].img_name.isin(keep_t2['0'].str.replace('t2','t1'))]\n",
    "    #     var_csv[state]['img_path'] = var_csv[state]['img_path'].str.replace('t1','t2')\n",
    "    \n",
    "    \n",
    "data_train = Train(var_csv['train'],config) \n",
    "data_val = Train(var_csv['val'],config)                \n",
    "data_test = Eval(var_csv['test'],config)\n",
    "\n",
    "\n",
    "\n",
    "# #data_train = Train(pd.read_csv('/project/ajoshi_27/akrami/monai3D/GenerativeModels/data/split/IXI_train_fold0.csv', converters={'img_path': pd.eval}), config)\n",
    "train_loader = DataLoader(data_train, batch_size=config.get('batch_size', 1),shuffle=True,num_workers=8)\n",
    "\n",
    "#data_val = Train(pd.read_csv('/project/ajoshi_27/akrami/monai3D/GenerativeModels/data/split/IXI_val_fold0.csv', converters={'img_path': pd.eval}), config)\n",
    "val_loader = DataLoader(data_val, batch_size=config.get('batch_size', 1),shuffle=True,num_workers=8)\n",
    "\n",
    "#data_test = Train(pd.read_csv('/project/ajoshi_27/akrami/monai3D/GenerativeModels/data/split/Brats21_test.csv', converters={'img_path': pd.eval}), config)\n",
    "test_loader = DataLoader(data_test, batch_size=config.get('batch_size', 1),shuffle=False,num_workers=8)\n"
   ]
  },
  {
   "cell_type": "markdown",
   "id": "2d6d7e83-4f8b-4537-aa83-eb5a9ec95c6d",
   "metadata": {},
   "source": [
    "# Load the model"
   ]
  },
  {
   "cell_type": "code",
   "execution_count": 4,
   "id": "d39d3124",
   "metadata": {},
   "outputs": [
    {
     "name": "stdout",
     "output_type": "stream",
     "text": [
      "Using 2 GPUs!\n"
     ]
    }
   ],
   "source": [
    "device = torch.device(\"cuda\")\n",
    "\n",
    "model = DiffusionModelUNet(\n",
    "    spatial_dims=3,\n",
    "    in_channels=1,\n",
    "    out_channels=1,\n",
    "    num_channels=[32, 64, 128, 128],\n",
    "    attention_levels=[False, False, False,True],\n",
    "    num_head_channels=[0, 0, 0,32],\n",
    "    num_res_blocks=2,\n",
    ")\n",
    "model.to(device)\n",
    "if torch.cuda.device_count() > 1:\n",
    "    print(\"Using\", torch.cuda.device_count(), \"GPUs!\")\n",
    "    model = nn.DataParallel(model)\n",
    "scheduler = DDPMScheduler(num_train_timesteps=1000, schedule=\"scaled_linear_beta\", beta_start=0.0005, beta_end=0.0195)\n",
    "\n",
    "inferer = DiffusionInferer(scheduler)\n",
    "\n",
    "optimizer = torch.optim.Adam(params=model.parameters(), lr=5e-5)"
   ]
  },
  {
   "cell_type": "code",
   "execution_count": 7,
   "id": "a9776452",
   "metadata": {},
   "outputs": [
    {
     "data": {
      "text/plain": [
       "DataParallel(\n",
       "  (module): DiffusionModelUNet(\n",
       "    (conv_in): Convolution(\n",
       "      (conv): Conv3d(1, 32, kernel_size=(3, 3, 3), stride=(1, 1, 1), padding=(1, 1, 1))\n",
       "    )\n",
       "    (time_embed): Sequential(\n",
       "      (0): Linear(in_features=32, out_features=128, bias=True)\n",
       "      (1): SiLU()\n",
       "      (2): Linear(in_features=128, out_features=128, bias=True)\n",
       "    )\n",
       "    (down_blocks): ModuleList(\n",
       "      (0): DownBlock(\n",
       "        (resnets): ModuleList(\n",
       "          (0): ResnetBlock(\n",
       "            (norm1): GroupNorm(32, 32, eps=1e-06, affine=True)\n",
       "            (nonlinearity): SiLU()\n",
       "            (conv1): Convolution(\n",
       "              (conv): Conv3d(32, 32, kernel_size=(3, 3, 3), stride=(1, 1, 1), padding=(1, 1, 1))\n",
       "            )\n",
       "            (time_emb_proj): Linear(in_features=128, out_features=32, bias=True)\n",
       "            (norm2): GroupNorm(32, 32, eps=1e-06, affine=True)\n",
       "            (conv2): Convolution(\n",
       "              (conv): Conv3d(32, 32, kernel_size=(3, 3, 3), stride=(1, 1, 1), padding=(1, 1, 1))\n",
       "            )\n",
       "            (skip_connection): Identity()\n",
       "          )\n",
       "          (1): ResnetBlock(\n",
       "            (norm1): GroupNorm(32, 32, eps=1e-06, affine=True)\n",
       "            (nonlinearity): SiLU()\n",
       "            (conv1): Convolution(\n",
       "              (conv): Conv3d(32, 32, kernel_size=(3, 3, 3), stride=(1, 1, 1), padding=(1, 1, 1))\n",
       "            )\n",
       "            (time_emb_proj): Linear(in_features=128, out_features=32, bias=True)\n",
       "            (norm2): GroupNorm(32, 32, eps=1e-06, affine=True)\n",
       "            (conv2): Convolution(\n",
       "              (conv): Conv3d(32, 32, kernel_size=(3, 3, 3), stride=(1, 1, 1), padding=(1, 1, 1))\n",
       "            )\n",
       "            (skip_connection): Identity()\n",
       "          )\n",
       "        )\n",
       "        (downsampler): Downsample(\n",
       "          (op): Convolution(\n",
       "            (conv): Conv3d(32, 32, kernel_size=(3, 3, 3), stride=(2, 2, 2), padding=(1, 1, 1))\n",
       "          )\n",
       "        )\n",
       "      )\n",
       "      (1): DownBlock(\n",
       "        (resnets): ModuleList(\n",
       "          (0): ResnetBlock(\n",
       "            (norm1): GroupNorm(32, 32, eps=1e-06, affine=True)\n",
       "            (nonlinearity): SiLU()\n",
       "            (conv1): Convolution(\n",
       "              (conv): Conv3d(32, 64, kernel_size=(3, 3, 3), stride=(1, 1, 1), padding=(1, 1, 1))\n",
       "            )\n",
       "            (time_emb_proj): Linear(in_features=128, out_features=64, bias=True)\n",
       "            (norm2): GroupNorm(32, 64, eps=1e-06, affine=True)\n",
       "            (conv2): Convolution(\n",
       "              (conv): Conv3d(64, 64, kernel_size=(3, 3, 3), stride=(1, 1, 1), padding=(1, 1, 1))\n",
       "            )\n",
       "            (skip_connection): Convolution(\n",
       "              (conv): Conv3d(32, 64, kernel_size=(1, 1, 1), stride=(1, 1, 1))\n",
       "            )\n",
       "          )\n",
       "          (1): ResnetBlock(\n",
       "            (norm1): GroupNorm(32, 64, eps=1e-06, affine=True)\n",
       "            (nonlinearity): SiLU()\n",
       "            (conv1): Convolution(\n",
       "              (conv): Conv3d(64, 64, kernel_size=(3, 3, 3), stride=(1, 1, 1), padding=(1, 1, 1))\n",
       "            )\n",
       "            (time_emb_proj): Linear(in_features=128, out_features=64, bias=True)\n",
       "            (norm2): GroupNorm(32, 64, eps=1e-06, affine=True)\n",
       "            (conv2): Convolution(\n",
       "              (conv): Conv3d(64, 64, kernel_size=(3, 3, 3), stride=(1, 1, 1), padding=(1, 1, 1))\n",
       "            )\n",
       "            (skip_connection): Identity()\n",
       "          )\n",
       "        )\n",
       "        (downsampler): Downsample(\n",
       "          (op): Convolution(\n",
       "            (conv): Conv3d(64, 64, kernel_size=(3, 3, 3), stride=(2, 2, 2), padding=(1, 1, 1))\n",
       "          )\n",
       "        )\n",
       "      )\n",
       "      (2): DownBlock(\n",
       "        (resnets): ModuleList(\n",
       "          (0): ResnetBlock(\n",
       "            (norm1): GroupNorm(32, 64, eps=1e-06, affine=True)\n",
       "            (nonlinearity): SiLU()\n",
       "            (conv1): Convolution(\n",
       "              (conv): Conv3d(64, 128, kernel_size=(3, 3, 3), stride=(1, 1, 1), padding=(1, 1, 1))\n",
       "            )\n",
       "            (time_emb_proj): Linear(in_features=128, out_features=128, bias=True)\n",
       "            (norm2): GroupNorm(32, 128, eps=1e-06, affine=True)\n",
       "            (conv2): Convolution(\n",
       "              (conv): Conv3d(128, 128, kernel_size=(3, 3, 3), stride=(1, 1, 1), padding=(1, 1, 1))\n",
       "            )\n",
       "            (skip_connection): Convolution(\n",
       "              (conv): Conv3d(64, 128, kernel_size=(1, 1, 1), stride=(1, 1, 1))\n",
       "            )\n",
       "          )\n",
       "          (1): ResnetBlock(\n",
       "            (norm1): GroupNorm(32, 128, eps=1e-06, affine=True)\n",
       "            (nonlinearity): SiLU()\n",
       "            (conv1): Convolution(\n",
       "              (conv): Conv3d(128, 128, kernel_size=(3, 3, 3), stride=(1, 1, 1), padding=(1, 1, 1))\n",
       "            )\n",
       "            (time_emb_proj): Linear(in_features=128, out_features=128, bias=True)\n",
       "            (norm2): GroupNorm(32, 128, eps=1e-06, affine=True)\n",
       "            (conv2): Convolution(\n",
       "              (conv): Conv3d(128, 128, kernel_size=(3, 3, 3), stride=(1, 1, 1), padding=(1, 1, 1))\n",
       "            )\n",
       "            (skip_connection): Identity()\n",
       "          )\n",
       "        )\n",
       "        (downsampler): Downsample(\n",
       "          (op): Convolution(\n",
       "            (conv): Conv3d(128, 128, kernel_size=(3, 3, 3), stride=(2, 2, 2), padding=(1, 1, 1))\n",
       "          )\n",
       "        )\n",
       "      )\n",
       "      (3): AttnDownBlock(\n",
       "        (attentions): ModuleList(\n",
       "          (0): AttentionBlock(\n",
       "            (norm): GroupNorm(32, 128, eps=1e-06, affine=True)\n",
       "            (to_q): Linear(in_features=128, out_features=128, bias=True)\n",
       "            (to_k): Linear(in_features=128, out_features=128, bias=True)\n",
       "            (to_v): Linear(in_features=128, out_features=128, bias=True)\n",
       "            (proj_attn): Linear(in_features=128, out_features=128, bias=True)\n",
       "          )\n",
       "          (1): AttentionBlock(\n",
       "            (norm): GroupNorm(32, 128, eps=1e-06, affine=True)\n",
       "            (to_q): Linear(in_features=128, out_features=128, bias=True)\n",
       "            (to_k): Linear(in_features=128, out_features=128, bias=True)\n",
       "            (to_v): Linear(in_features=128, out_features=128, bias=True)\n",
       "            (proj_attn): Linear(in_features=128, out_features=128, bias=True)\n",
       "          )\n",
       "        )\n",
       "        (resnets): ModuleList(\n",
       "          (0): ResnetBlock(\n",
       "            (norm1): GroupNorm(32, 128, eps=1e-06, affine=True)\n",
       "            (nonlinearity): SiLU()\n",
       "            (conv1): Convolution(\n",
       "              (conv): Conv3d(128, 128, kernel_size=(3, 3, 3), stride=(1, 1, 1), padding=(1, 1, 1))\n",
       "            )\n",
       "            (time_emb_proj): Linear(in_features=128, out_features=128, bias=True)\n",
       "            (norm2): GroupNorm(32, 128, eps=1e-06, affine=True)\n",
       "            (conv2): Convolution(\n",
       "              (conv): Conv3d(128, 128, kernel_size=(3, 3, 3), stride=(1, 1, 1), padding=(1, 1, 1))\n",
       "            )\n",
       "            (skip_connection): Identity()\n",
       "          )\n",
       "          (1): ResnetBlock(\n",
       "            (norm1): GroupNorm(32, 128, eps=1e-06, affine=True)\n",
       "            (nonlinearity): SiLU()\n",
       "            (conv1): Convolution(\n",
       "              (conv): Conv3d(128, 128, kernel_size=(3, 3, 3), stride=(1, 1, 1), padding=(1, 1, 1))\n",
       "            )\n",
       "            (time_emb_proj): Linear(in_features=128, out_features=128, bias=True)\n",
       "            (norm2): GroupNorm(32, 128, eps=1e-06, affine=True)\n",
       "            (conv2): Convolution(\n",
       "              (conv): Conv3d(128, 128, kernel_size=(3, 3, 3), stride=(1, 1, 1), padding=(1, 1, 1))\n",
       "            )\n",
       "            (skip_connection): Identity()\n",
       "          )\n",
       "        )\n",
       "      )\n",
       "    )\n",
       "    (middle_block): AttnMidBlock(\n",
       "      (resnet_1): ResnetBlock(\n",
       "        (norm1): GroupNorm(32, 128, eps=1e-06, affine=True)\n",
       "        (nonlinearity): SiLU()\n",
       "        (conv1): Convolution(\n",
       "          (conv): Conv3d(128, 128, kernel_size=(3, 3, 3), stride=(1, 1, 1), padding=(1, 1, 1))\n",
       "        )\n",
       "        (time_emb_proj): Linear(in_features=128, out_features=128, bias=True)\n",
       "        (norm2): GroupNorm(32, 128, eps=1e-06, affine=True)\n",
       "        (conv2): Convolution(\n",
       "          (conv): Conv3d(128, 128, kernel_size=(3, 3, 3), stride=(1, 1, 1), padding=(1, 1, 1))\n",
       "        )\n",
       "        (skip_connection): Identity()\n",
       "      )\n",
       "      (attention): AttentionBlock(\n",
       "        (norm): GroupNorm(32, 128, eps=1e-06, affine=True)\n",
       "        (to_q): Linear(in_features=128, out_features=128, bias=True)\n",
       "        (to_k): Linear(in_features=128, out_features=128, bias=True)\n",
       "        (to_v): Linear(in_features=128, out_features=128, bias=True)\n",
       "        (proj_attn): Linear(in_features=128, out_features=128, bias=True)\n",
       "      )\n",
       "      (resnet_2): ResnetBlock(\n",
       "        (norm1): GroupNorm(32, 128, eps=1e-06, affine=True)\n",
       "        (nonlinearity): SiLU()\n",
       "        (conv1): Convolution(\n",
       "          (conv): Conv3d(128, 128, kernel_size=(3, 3, 3), stride=(1, 1, 1), padding=(1, 1, 1))\n",
       "        )\n",
       "        (time_emb_proj): Linear(in_features=128, out_features=128, bias=True)\n",
       "        (norm2): GroupNorm(32, 128, eps=1e-06, affine=True)\n",
       "        (conv2): Convolution(\n",
       "          (conv): Conv3d(128, 128, kernel_size=(3, 3, 3), stride=(1, 1, 1), padding=(1, 1, 1))\n",
       "        )\n",
       "        (skip_connection): Identity()\n",
       "      )\n",
       "    )\n",
       "    (up_blocks): ModuleList(\n",
       "      (0): AttnUpBlock(\n",
       "        (resnets): ModuleList(\n",
       "          (0): ResnetBlock(\n",
       "            (norm1): GroupNorm(32, 256, eps=1e-06, affine=True)\n",
       "            (nonlinearity): SiLU()\n",
       "            (conv1): Convolution(\n",
       "              (conv): Conv3d(256, 128, kernel_size=(3, 3, 3), stride=(1, 1, 1), padding=(1, 1, 1))\n",
       "            )\n",
       "            (time_emb_proj): Linear(in_features=128, out_features=128, bias=True)\n",
       "            (norm2): GroupNorm(32, 128, eps=1e-06, affine=True)\n",
       "            (conv2): Convolution(\n",
       "              (conv): Conv3d(128, 128, kernel_size=(3, 3, 3), stride=(1, 1, 1), padding=(1, 1, 1))\n",
       "            )\n",
       "            (skip_connection): Convolution(\n",
       "              (conv): Conv3d(256, 128, kernel_size=(1, 1, 1), stride=(1, 1, 1))\n",
       "            )\n",
       "          )\n",
       "          (1): ResnetBlock(\n",
       "            (norm1): GroupNorm(32, 256, eps=1e-06, affine=True)\n",
       "            (nonlinearity): SiLU()\n",
       "            (conv1): Convolution(\n",
       "              (conv): Conv3d(256, 128, kernel_size=(3, 3, 3), stride=(1, 1, 1), padding=(1, 1, 1))\n",
       "            )\n",
       "            (time_emb_proj): Linear(in_features=128, out_features=128, bias=True)\n",
       "            (norm2): GroupNorm(32, 128, eps=1e-06, affine=True)\n",
       "            (conv2): Convolution(\n",
       "              (conv): Conv3d(128, 128, kernel_size=(3, 3, 3), stride=(1, 1, 1), padding=(1, 1, 1))\n",
       "            )\n",
       "            (skip_connection): Convolution(\n",
       "              (conv): Conv3d(256, 128, kernel_size=(1, 1, 1), stride=(1, 1, 1))\n",
       "            )\n",
       "          )\n",
       "          (2): ResnetBlock(\n",
       "            (norm1): GroupNorm(32, 256, eps=1e-06, affine=True)\n",
       "            (nonlinearity): SiLU()\n",
       "            (conv1): Convolution(\n",
       "              (conv): Conv3d(256, 128, kernel_size=(3, 3, 3), stride=(1, 1, 1), padding=(1, 1, 1))\n",
       "            )\n",
       "            (time_emb_proj): Linear(in_features=128, out_features=128, bias=True)\n",
       "            (norm2): GroupNorm(32, 128, eps=1e-06, affine=True)\n",
       "            (conv2): Convolution(\n",
       "              (conv): Conv3d(128, 128, kernel_size=(3, 3, 3), stride=(1, 1, 1), padding=(1, 1, 1))\n",
       "            )\n",
       "            (skip_connection): Convolution(\n",
       "              (conv): Conv3d(256, 128, kernel_size=(1, 1, 1), stride=(1, 1, 1))\n",
       "            )\n",
       "          )\n",
       "        )\n",
       "        (attentions): ModuleList(\n",
       "          (0): AttentionBlock(\n",
       "            (norm): GroupNorm(32, 128, eps=1e-06, affine=True)\n",
       "            (to_q): Linear(in_features=128, out_features=128, bias=True)\n",
       "            (to_k): Linear(in_features=128, out_features=128, bias=True)\n",
       "            (to_v): Linear(in_features=128, out_features=128, bias=True)\n",
       "            (proj_attn): Linear(in_features=128, out_features=128, bias=True)\n",
       "          )\n",
       "          (1): AttentionBlock(\n",
       "            (norm): GroupNorm(32, 128, eps=1e-06, affine=True)\n",
       "            (to_q): Linear(in_features=128, out_features=128, bias=True)\n",
       "            (to_k): Linear(in_features=128, out_features=128, bias=True)\n",
       "            (to_v): Linear(in_features=128, out_features=128, bias=True)\n",
       "            (proj_attn): Linear(in_features=128, out_features=128, bias=True)\n",
       "          )\n",
       "          (2): AttentionBlock(\n",
       "            (norm): GroupNorm(32, 128, eps=1e-06, affine=True)\n",
       "            (to_q): Linear(in_features=128, out_features=128, bias=True)\n",
       "            (to_k): Linear(in_features=128, out_features=128, bias=True)\n",
       "            (to_v): Linear(in_features=128, out_features=128, bias=True)\n",
       "            (proj_attn): Linear(in_features=128, out_features=128, bias=True)\n",
       "          )\n",
       "        )\n",
       "        (upsampler): Upsample(\n",
       "          (conv): Convolution(\n",
       "            (conv): Conv3d(128, 128, kernel_size=(3, 3, 3), stride=(1, 1, 1), padding=(1, 1, 1))\n",
       "          )\n",
       "        )\n",
       "      )\n",
       "      (1): UpBlock(\n",
       "        (resnets): ModuleList(\n",
       "          (0): ResnetBlock(\n",
       "            (norm1): GroupNorm(32, 256, eps=1e-06, affine=True)\n",
       "            (nonlinearity): SiLU()\n",
       "            (conv1): Convolution(\n",
       "              (conv): Conv3d(256, 128, kernel_size=(3, 3, 3), stride=(1, 1, 1), padding=(1, 1, 1))\n",
       "            )\n",
       "            (time_emb_proj): Linear(in_features=128, out_features=128, bias=True)\n",
       "            (norm2): GroupNorm(32, 128, eps=1e-06, affine=True)\n",
       "            (conv2): Convolution(\n",
       "              (conv): Conv3d(128, 128, kernel_size=(3, 3, 3), stride=(1, 1, 1), padding=(1, 1, 1))\n",
       "            )\n",
       "            (skip_connection): Convolution(\n",
       "              (conv): Conv3d(256, 128, kernel_size=(1, 1, 1), stride=(1, 1, 1))\n",
       "            )\n",
       "          )\n",
       "          (1): ResnetBlock(\n",
       "            (norm1): GroupNorm(32, 256, eps=1e-06, affine=True)\n",
       "            (nonlinearity): SiLU()\n",
       "            (conv1): Convolution(\n",
       "              (conv): Conv3d(256, 128, kernel_size=(3, 3, 3), stride=(1, 1, 1), padding=(1, 1, 1))\n",
       "            )\n",
       "            (time_emb_proj): Linear(in_features=128, out_features=128, bias=True)\n",
       "            (norm2): GroupNorm(32, 128, eps=1e-06, affine=True)\n",
       "            (conv2): Convolution(\n",
       "              (conv): Conv3d(128, 128, kernel_size=(3, 3, 3), stride=(1, 1, 1), padding=(1, 1, 1))\n",
       "            )\n",
       "            (skip_connection): Convolution(\n",
       "              (conv): Conv3d(256, 128, kernel_size=(1, 1, 1), stride=(1, 1, 1))\n",
       "            )\n",
       "          )\n",
       "          (2): ResnetBlock(\n",
       "            (norm1): GroupNorm(32, 192, eps=1e-06, affine=True)\n",
       "            (nonlinearity): SiLU()\n",
       "            (conv1): Convolution(\n",
       "              (conv): Conv3d(192, 128, kernel_size=(3, 3, 3), stride=(1, 1, 1), padding=(1, 1, 1))\n",
       "            )\n",
       "            (time_emb_proj): Linear(in_features=128, out_features=128, bias=True)\n",
       "            (norm2): GroupNorm(32, 128, eps=1e-06, affine=True)\n",
       "            (conv2): Convolution(\n",
       "              (conv): Conv3d(128, 128, kernel_size=(3, 3, 3), stride=(1, 1, 1), padding=(1, 1, 1))\n",
       "            )\n",
       "            (skip_connection): Convolution(\n",
       "              (conv): Conv3d(192, 128, kernel_size=(1, 1, 1), stride=(1, 1, 1))\n",
       "            )\n",
       "          )\n",
       "        )\n",
       "        (upsampler): Upsample(\n",
       "          (conv): Convolution(\n",
       "            (conv): Conv3d(128, 128, kernel_size=(3, 3, 3), stride=(1, 1, 1), padding=(1, 1, 1))\n",
       "          )\n",
       "        )\n",
       "      )\n",
       "      (2): UpBlock(\n",
       "        (resnets): ModuleList(\n",
       "          (0): ResnetBlock(\n",
       "            (norm1): GroupNorm(32, 192, eps=1e-06, affine=True)\n",
       "            (nonlinearity): SiLU()\n",
       "            (conv1): Convolution(\n",
       "              (conv): Conv3d(192, 64, kernel_size=(3, 3, 3), stride=(1, 1, 1), padding=(1, 1, 1))\n",
       "            )\n",
       "            (time_emb_proj): Linear(in_features=128, out_features=64, bias=True)\n",
       "            (norm2): GroupNorm(32, 64, eps=1e-06, affine=True)\n",
       "            (conv2): Convolution(\n",
       "              (conv): Conv3d(64, 64, kernel_size=(3, 3, 3), stride=(1, 1, 1), padding=(1, 1, 1))\n",
       "            )\n",
       "            (skip_connection): Convolution(\n",
       "              (conv): Conv3d(192, 64, kernel_size=(1, 1, 1), stride=(1, 1, 1))\n",
       "            )\n",
       "          )\n",
       "          (1): ResnetBlock(\n",
       "            (norm1): GroupNorm(32, 128, eps=1e-06, affine=True)\n",
       "            (nonlinearity): SiLU()\n",
       "            (conv1): Convolution(\n",
       "              (conv): Conv3d(128, 64, kernel_size=(3, 3, 3), stride=(1, 1, 1), padding=(1, 1, 1))\n",
       "            )\n",
       "            (time_emb_proj): Linear(in_features=128, out_features=64, bias=True)\n",
       "            (norm2): GroupNorm(32, 64, eps=1e-06, affine=True)\n",
       "            (conv2): Convolution(\n",
       "              (conv): Conv3d(64, 64, kernel_size=(3, 3, 3), stride=(1, 1, 1), padding=(1, 1, 1))\n",
       "            )\n",
       "            (skip_connection): Convolution(\n",
       "              (conv): Conv3d(128, 64, kernel_size=(1, 1, 1), stride=(1, 1, 1))\n",
       "            )\n",
       "          )\n",
       "          (2): ResnetBlock(\n",
       "            (norm1): GroupNorm(32, 96, eps=1e-06, affine=True)\n",
       "            (nonlinearity): SiLU()\n",
       "            (conv1): Convolution(\n",
       "              (conv): Conv3d(96, 64, kernel_size=(3, 3, 3), stride=(1, 1, 1), padding=(1, 1, 1))\n",
       "            )\n",
       "            (time_emb_proj): Linear(in_features=128, out_features=64, bias=True)\n",
       "            (norm2): GroupNorm(32, 64, eps=1e-06, affine=True)\n",
       "            (conv2): Convolution(\n",
       "              (conv): Conv3d(64, 64, kernel_size=(3, 3, 3), stride=(1, 1, 1), padding=(1, 1, 1))\n",
       "            )\n",
       "            (skip_connection): Convolution(\n",
       "              (conv): Conv3d(96, 64, kernel_size=(1, 1, 1), stride=(1, 1, 1))\n",
       "            )\n",
       "          )\n",
       "        )\n",
       "        (upsampler): Upsample(\n",
       "          (conv): Convolution(\n",
       "            (conv): Conv3d(64, 64, kernel_size=(3, 3, 3), stride=(1, 1, 1), padding=(1, 1, 1))\n",
       "          )\n",
       "        )\n",
       "      )\n",
       "      (3): UpBlock(\n",
       "        (resnets): ModuleList(\n",
       "          (0): ResnetBlock(\n",
       "            (norm1): GroupNorm(32, 96, eps=1e-06, affine=True)\n",
       "            (nonlinearity): SiLU()\n",
       "            (conv1): Convolution(\n",
       "              (conv): Conv3d(96, 32, kernel_size=(3, 3, 3), stride=(1, 1, 1), padding=(1, 1, 1))\n",
       "            )\n",
       "            (time_emb_proj): Linear(in_features=128, out_features=32, bias=True)\n",
       "            (norm2): GroupNorm(32, 32, eps=1e-06, affine=True)\n",
       "            (conv2): Convolution(\n",
       "              (conv): Conv3d(32, 32, kernel_size=(3, 3, 3), stride=(1, 1, 1), padding=(1, 1, 1))\n",
       "            )\n",
       "            (skip_connection): Convolution(\n",
       "              (conv): Conv3d(96, 32, kernel_size=(1, 1, 1), stride=(1, 1, 1))\n",
       "            )\n",
       "          )\n",
       "          (1): ResnetBlock(\n",
       "            (norm1): GroupNorm(32, 64, eps=1e-06, affine=True)\n",
       "            (nonlinearity): SiLU()\n",
       "            (conv1): Convolution(\n",
       "              (conv): Conv3d(64, 32, kernel_size=(3, 3, 3), stride=(1, 1, 1), padding=(1, 1, 1))\n",
       "            )\n",
       "            (time_emb_proj): Linear(in_features=128, out_features=32, bias=True)\n",
       "            (norm2): GroupNorm(32, 32, eps=1e-06, affine=True)\n",
       "            (conv2): Convolution(\n",
       "              (conv): Conv3d(32, 32, kernel_size=(3, 3, 3), stride=(1, 1, 1), padding=(1, 1, 1))\n",
       "            )\n",
       "            (skip_connection): Convolution(\n",
       "              (conv): Conv3d(64, 32, kernel_size=(1, 1, 1), stride=(1, 1, 1))\n",
       "            )\n",
       "          )\n",
       "          (2): ResnetBlock(\n",
       "            (norm1): GroupNorm(32, 64, eps=1e-06, affine=True)\n",
       "            (nonlinearity): SiLU()\n",
       "            (conv1): Convolution(\n",
       "              (conv): Conv3d(64, 32, kernel_size=(3, 3, 3), stride=(1, 1, 1), padding=(1, 1, 1))\n",
       "            )\n",
       "            (time_emb_proj): Linear(in_features=128, out_features=32, bias=True)\n",
       "            (norm2): GroupNorm(32, 32, eps=1e-06, affine=True)\n",
       "            (conv2): Convolution(\n",
       "              (conv): Conv3d(32, 32, kernel_size=(3, 3, 3), stride=(1, 1, 1), padding=(1, 1, 1))\n",
       "            )\n",
       "            (skip_connection): Convolution(\n",
       "              (conv): Conv3d(64, 32, kernel_size=(1, 1, 1), stride=(1, 1, 1))\n",
       "            )\n",
       "          )\n",
       "        )\n",
       "      )\n",
       "    )\n",
       "    (out): Sequential(\n",
       "      (0): GroupNorm(32, 32, eps=1e-06, affine=True)\n",
       "      (1): SiLU()\n",
       "      (2): Convolution(\n",
       "        (conv): Conv3d(32, 1, kernel_size=(3, 3, 3), stride=(1, 1, 1), padding=(1, 1, 1))\n",
       "      )\n",
       "    )\n",
       "  )\n",
       ")"
      ]
     },
     "execution_count": 7,
     "metadata": {},
     "output_type": "execute_result"
    }
   ],
   "source": [
    "# specify your model filename\n",
    "#model_filename = '/scratch1/akrami/models/3Ddiffusion/half/model_epoch984.pt'\n",
    "model_filename ='/project/ajoshi_27/akrami/3D_lesion_DF/models/model_epoch424.pt'\n",
    "# load state_dict into the model\n",
    "model.load_state_dict(torch.load(model_filename))\n",
    "\n",
    "# if you need to set the model in evaluation mode\n",
    "model.eval()"
   ]
  },
  {
   "cell_type": "markdown",
   "id": "9539804e-1fb1-4893-bb59-d93c609a23dc",
   "metadata": {},
   "source": [
    "# Generate an Image"
   ]
  },
  {
   "cell_type": "code",
   "execution_count": 18,
   "id": "38579b26-a180-42eb-a885-50d74b3b5529",
   "metadata": {},
   "outputs": [
    {
     "name": "stdout",
     "output_type": "stream",
     "text": [
      "dict_keys(['vol', 'peak', 'seg', 'age', 'ID', 'path', 'mask'])\n",
      "tensor([    nan, 85.9420, 57.0000,     nan], dtype=torch.float64)\n",
      "torch.Size([4, 1, 80, 96, 80])\n"
     ]
    }
   ],
   "source": [
    "sub_test = next(iter(test_loader))\n",
    "print(sub_test.keys())\n",
    "print(sub_test['age'])\n",
    "\n",
    "\n"
   ]
  },
  {
   "cell_type": "code",
   "execution_count": null,
   "id": "c0f4096b-b852-481c-b3df-7eca5bb689f6",
   "metadata": {},
   "outputs": [],
   "source": [
    "\n",
    "# Expand the dimensions of sub_test['peak'] to make it [1, 1, 1, 1, 4]\n",
    "peak_expanded = (sub_test['peak'].unsqueeze(1).unsqueeze(2).unsqueeze(3).unsqueeze(4)).long()\n",
    "# Move both tensors to the device\n",
    "image_array = sub_test['vol']['data'].to(device)\n",
    "peak_expanded = peak_expanded.to(device)\n",
    "image_array = (image_array / peak_expanded)\n",
    "middle_slice_idx = image_array.size(-1) // 2"
   ]
  },
  {
   "cell_type": "code",
   "execution_count": 10,
   "id": "30496443-0ce3-4c17-a88a-8971f18f4842",
   "metadata": {},
   "outputs": [
    {
     "name": "stderr",
     "output_type": "stream",
     "text": [
      "100%|██████████| 1000/1000 [01:13<00:00, 13.57it/s]\n"
     ]
    }
   ],
   "source": [
    "image = torch.randn_like(image_array)[0:1,:,:,:]\n",
    "image = image.to(device)\n",
    "scheduler.set_timesteps(num_inference_steps=1000)\n",
    "with autocast(enabled=True):\n",
    "    image = inferer.sample(input_noise=image, diffusion_model=model, scheduler=scheduler)"
   ]
  },
  {
   "cell_type": "code",
   "execution_count": null,
   "id": "368beb3c-4477-484c-9a1d-cd5816e720fa",
   "metadata": {},
   "outputs": [],
   "source": [
    "middle_slice_idx = image.size(-1) // 2\n",
    "plt.figure(figsize=(2, 2))\n",
    "plt.imshow(image[0, 0, :, :, middle_slice_idx].cpu(), vmin=0, vmax=1, cmap=\"gray\")\n",
    "plt.tight_layout()\n",
    "plt.axis(\"off\")\n",
    "plt.show()"
   ]
  },
  {
   "attachments": {},
   "cell_type": "markdown",
   "id": "38724c9b",
   "metadata": {},
   "source": [
    "# Denoise test samples"
   ]
  },
  {
   "cell_type": "code",
   "execution_count": 8,
   "id": "0c13700c-a3bc-4792-aaff-adcb64ab8e18",
   "metadata": {},
   "outputs": [],
   "source": [
    "def denoise(image_array,sample_time,scheduler,inferer,model):\n",
    "    noise =torch.randn_like(image_array)\n",
    "    noisy_img = scheduler.add_noise(original_samples=image_array, noise=noise, timesteps=torch.tensor(sample_time))\n",
    "    noised_img = noisy_img.to(device)\n",
    "\n",
    "    scheduler.set_timesteps(num_inference_steps=600)\n",
    "    with autocast(enabled=True):\n",
    "        denoised_sample = inferer.sample(input_noise=noised_img, diffusion_model=model, scheduler=scheduler)\n",
    "    return denoised_sample\n",
    "    "
   ]
  },
  {
   "cell_type": "code",
   "execution_count": 13,
   "id": "1a386b50-8f3c-4bcb-92e1-476c0f27e677",
   "metadata": {},
   "outputs": [
    {
     "name": "stdout",
     "output_type": "stream",
     "text": [
      "torch.Size([1, 1, 80, 96, 80])\n",
      "torch.Size([4, 1, 80, 96, 80])\n"
     ]
    }
   ],
   "source": [
    "print(image.shape)\n",
    "print(image_array.shape)"
   ]
  },
  {
   "cell_type": "code",
   "execution_count": 14,
   "id": "bd941d3c-ecf2-4423-aba1-bb3ab7c47992",
   "metadata": {},
   "outputs": [],
   "source": [
    "# for i, tensor_3d in enumerate(image_array):\n",
    "#     # Flatten the 3D tensor to a 1D array\n",
    "    \n",
    "#     flattened_tensor = tensor_3d.flatten()\n",
    "    \n",
    "#     # Filter out values less than or equal to zero from the flattened tensor\n",
    "#     non_zero_values = flattened_tensor[flattened_tensor >= .0001]\n",
    "    \n",
    "#     # Plot the histogram for values greater than zero\n",
    "#     plt.figure()\n",
    "#     plt.hist(non_zero_values, bins=20, color='green', edgecolor='black')\n",
    "#     plt.xlabel('Value')\n",
    "#     plt.ylabel('Frequency')\n",
    "#     plt.title(f'Histogram of Values Greater Than Zero in 3D Tensor (Sample {i+1})')\n",
    "#     plt.show()\n",
    "\n",
    "\n"
   ]
  },
  {
   "cell_type": "code",
   "execution_count": 15,
   "id": "306e6f3d-d354-47cf-9b0e-0ee0da63302a",
   "metadata": {},
   "outputs": [],
   "source": [
    "# sub_train = next(iter(train_loader))\n",
    "# image_array = sub_train['vol']['data']\n",
    "# middle_slice_idx = image_array.size(-1) // 2"
   ]
  },
  {
   "cell_type": "code",
   "execution_count": 16,
   "id": "bb1ba1c2-04e1-46c3-8a33-63656febf5d7",
   "metadata": {},
   "outputs": [],
   "source": [
    "# for i, tensor_3d in enumerate(image_array):\n",
    "#     # Flatten the 3D tensor to a 1D array\n",
    "    \n",
    "#     flattened_tensor = tensor_3d.flatten()\n",
    "    \n",
    "#     # Filter out values less than or equal to zero from the flattened tensor\n",
    "#     non_zero_values = flattened_tensor[flattened_tensor >= .0001]\n",
    "    \n",
    "#     # Plot the histogram for values greater than zero\n",
    "#     plt.figure()\n",
    "#     plt.hist(non_zero_values, bins=20, color='green', edgecolor='black')\n",
    "#     plt.xlabel('Value')\n",
    "#     plt.ylabel('Frequency')\n",
    "#     plt.title(f'Histogram of Values Greater Than Zero in 3D Tensor (Sample {i+1})')\n",
    "#     plt.show()\n",
    "\n",
    "\n"
   ]
  },
  {
   "cell_type": "code",
   "execution_count": 22,
   "id": "31916ec6-6383-4e4e-9fb6-475404a69a48",
   "metadata": {},
   "outputs": [
    {
     "name": "stderr",
     "output_type": "stream",
     "text": [
      "100%|██████████| 600/600 [00:40<00:00, 14.64it/s]\n"
     ]
    }
   ],
   "source": [
    "sample_time = 500\n",
    "recon_img = denoise(image_array[0:1,:,:,:].to(device),sample_time,scheduler,inferer,model)"
   ]
  },
  {
   "cell_type": "code",
   "execution_count": 23,
   "id": "1296492e-5a22-4226-84c8-fc2d2dfb2f01",
   "metadata": {},
   "outputs": [
    {
     "data": {
      "text/plain": [
       "Text(0.5, 1.0, 'Difference Image')"
      ]
     },
     "execution_count": 23,
     "metadata": {},
     "output_type": "execute_result"
    },
    {
     "data": {
      "image/png": "[encoded data removed]",
      "text/plain": [
       "<Figure size 1000x1000 with 4 Axes>"
      ]
     },
     "metadata": {},
     "output_type": "display_data"
    }
   ],
   "source": [
    "fig, axes = plt.subplots(2, 2, figsize=(10, 10))\n",
    "middle_slice_idx = int(image_array.size(-1) // 2)  \n",
    "    # Original Image\n",
    "axes[0, 0].imshow(image_array[0][0][:,:,middle_slice_idx].squeeze().cpu().numpy(), vmin=0, vmax=2, cmap='gray')\n",
    "axes[0, 0].set_title('Original Image')\n",
    "\n",
    "# Segmented Image\n",
    "image_array_slice = sub_test['seg']['data'][0][0][:,:,middle_slice_idx].squeeze().cpu().numpy()\n",
    "axes[0, 1].imshow(image_array_slice, cmap='gray')\n",
    "axes[0, 1].set_title('Segmented Image')\n",
    "\n",
    "\n",
    "# Transformed Image\n",
    "axes[1, 0].imshow(recon_img[0][0][:,:,middle_slice_idx].squeeze().cpu().numpy(), vmin=0, vmax=2, cmap='gray')\n",
    "axes[1, 0].set_title('Transformed Image')\n",
    "middle_slice_idx = image_array.size(-1) // 2\n",
    "\n",
    "\n",
    "# Difference Image\n",
    "diff_img = torch.abs(recon_img - image_array[0].to(device))\n",
    "axes[1, 1].imshow(diff_img[0][0][:,:,middle_slice_idx].squeeze().cpu().numpy(), vmin=0, vmax=1, cmap='gray')\n",
    "axes[1, 1].set_title('Difference Image')\n"
   ]
  },
  {
   "cell_type": "code",
   "execution_count": null,
   "id": "a39c881c",
   "metadata": {},
   "outputs": [],
   "source": [
    "import matplotlib.pyplot as plt\n",
    "import torch\n",
    "\n",
    "# Assume batch_size is the number of samples in your batch\n",
    "batch_size = image_array.shape[0]\n",
    "\n",
    "# Loop through each sample in the batch\n",
    "for i in range(batch_size):\n",
    "    # Calculate the middle slice index for this sample\n",
    "    middle_slice_idx = image_array.size(-1) // 2\n",
    "    \n",
    "    fig, axes = plt.subplots(2, 2, figsize=(10, 10))\n",
    "    \n",
    "    # Original Image\n",
    "    axes[0, 0].imshow(image_array[i][0][:,:,middle_slice_idx].squeeze().cpu().numpy(), vmin=0, vmax=1, cmap='gray')\n",
    "    axes[0, 0].set_title('Original Image')\n",
    "\n",
    "    # Segmented Image\n",
    "    image_array_slice = sub_test['seg']['data'][i][0][:,:,middle_slice_idx].squeeze().cpu().numpy()\n",
    "    axes[0, 1].imshow(image_array_slice, cmap='gray')\n",
    "    axes[0, 1].set_title('Segmented Image')\n",
    "    \n",
    "    # Transformed Image\n",
    "    axes[1, 0].imshow(recon_img[i][0][:,:,middle_slice_idx].squeeze().cpu().numpy(), vmin=0, vmax=1, cmap='gray')\n",
    "    axes[1, 0].set_title('Transformed Image')\n",
    "    \n",
    "    # Difference Image\n",
    "    diff_img = torch.abs(recon_img - image_array.to(device))\n",
    "    axes[1, 1].imshow(diff_img[i][0][:,:,middle_slice_idx].squeeze().cpu().numpy(), vmin=0, vmax=1, cmap='gray')\n",
    "    axes[1, 1].set_title('Difference Image')\n",
    "    \n",
    "    # Hide axis for all subplots\n",
    "    for ax in axes.flatten():\n",
    "        ax.axis('off')\n",
    "    \n",
    "    plt.suptitle(f\"Sample {i+1}\")\n",
    "    plt.show()\n"
   ]
  },
  {
   "cell_type": "code",
   "execution_count": 26,
   "id": "1352d115-105e-4df3-a34c-857bcf4bbcb6",
   "metadata": {},
   "outputs": [
    {
     "name": "stdout",
     "output_type": "stream",
     "text": [
      "torch.Size([4, 1, 80, 96, 80])\n"
     ]
    }
   ],
   "source": [
    "print(image_array.shape)"
   ]
  },
  {
   "cell_type": "markdown",
   "id": "dc972790-a996-46dc-a3ed-ac278b5070ff",
   "metadata": {},
   "source": [
    "# Mask and inpaint"
   ]
  },
  {
   "cell_type": "code",
   "execution_count": null,
   "id": "21b2388c-64de-4af5-925d-75e8ef0e7fcc",
   "metadata": {},
   "outputs": [
    {
     "name": "stderr",
     "output_type": "stream",
     "text": [
      "  6%|▌         | 28/500 [03:08<52:59,  6.74s/it]"
     ]
    }
   ],
   "source": [
    "image_array_1= image_array[0:1,:,:,:,:]\n",
    "mask = torch.randn_like(image_array_1).to(device)\n",
    "mask[mask<=0.5] = 0\n",
    "mask[mask>0.5] = 1\n",
    "import tqdm as tqdm\n",
    "mask = mask.to(device)\n",
    "val_image_masked = image_array_1.to(device)*mask\n",
    "val_image_inpainted = torch.randn_like(image_array_1).to(device)\n",
    "\n",
    "scheduler.set_timesteps(num_inference_steps=500)\n",
    "progress_bar = tqdm.tqdm(scheduler.timesteps)\n",
    "\n",
    "num_resample_steps = 100\n",
    "with torch.no_grad():\n",
    "    with autocast(enabled=True):\n",
    "        for t in progress_bar:\n",
    "            for u in range(num_resample_steps):\n",
    "                # get the known portion at t-1\n",
    "                if t > 0:\n",
    "                    noise =  torch.randn_like(image_array_1).to(device)\n",
    "                    timesteps_prev = torch.Tensor((t - 1,)).to(device).long()\n",
    "                    val_image_inpainted_prev_known = scheduler.add_noise(\n",
    "                        original_samples=val_image_masked, noise=noise, timesteps=timesteps_prev\n",
    "                    )\n",
    "                else:\n",
    "                    val_image_inpainted_prev_known = val_image_masked\n",
    "\n",
    "                # perform a denoising step to get the unknown portion at t-1\n",
    "                if t > 0:\n",
    "                    timesteps = torch.Tensor((t,)).to(device).long()\n",
    "                    model_output = model(val_image_inpainted, timesteps=timesteps)\n",
    "                    val_image_inpainted_prev_unknown, _ = scheduler.step(model_output, t, val_image_inpainted)\n",
    "\n",
    "                # combine known and unknown using the mask\n",
    "                val_image_inpainted = torch.where(\n",
    "                    mask == 1, val_image_inpainted_prev_known, val_image_inpainted_prev_unknown\n",
    "                )\n",
    "\n",
    "                # perform resampling\n",
    "                if t > 0 and u < (num_resample_steps - 1):\n",
    "                    # sample x_t from x_t-1\n",
    "                    noise = torch.randn_like(image_array_1).to(device)\n",
    "                    val_image_inpainted = (\n",
    "                        torch.sqrt(1 - scheduler.betas[t - 1]) * val_image_inpainted\n",
    "                        + torch.sqrt(scheduler.betas[t - 1]) * noise\n",
    "                    )\n",
    "\n",
    "\n",
    "                    \n",
    "\n",
    "# plot\n",
    "\n",
    "image_array_1 = val_image_inpainted\n",
    "mask_2 =1- (mask.to(device))\n",
    "val_image_masked_2 = val_image_inpainted.to(device)*mask_2\n",
    "val_image_inpainted_2 = torch.randn_like(image_array_1).to(device)\n",
    "\n",
    "scheduler.set_timesteps(num_inference_steps=500)\n",
    "progress_bar = tqdm.tqdm(scheduler.timesteps)\n",
    "\n",
    "num_resample_steps = 4\n",
    "with torch.no_grad():\n",
    "    with autocast(enabled=True):\n",
    "        for t in progress_bar:\n",
    "            for u in range(num_resample_steps):\n",
    "                # get the known portion at t-1\n",
    "                if t > 0:\n",
    "                    noise =  torch.randn_like(image_array_1).to(device)\n",
    "                    timesteps_prev = torch.Tensor((t - 1,)).to(device).long()\n",
    "                    val_image_inpainted_prev_known = scheduler.add_noise(\n",
    "                        original_samples=val_image_masked_2, noise=noise, timesteps=timesteps_prev\n",
    "                    )\n",
    "                else:\n",
    "                    val_image_inpainted_prev_known = val_image_masked_2\n",
    "\n",
    "                # perform a denoising step to get the unknown portion at t-1\n",
    "                if t > 0:\n",
    "                    timesteps = torch.Tensor((t,)).to(device).long()\n",
    "                    model_output = model(val_image_inpainted_2, timesteps=timesteps)\n",
    "                    val_image_inpainted_prev_unknown, _ = scheduler.step(model_output, t, val_image_inpainted_2)\n",
    "\n",
    "                # combine known and unknown using the mask\n",
    "                val_image_inpainted_2 = torch.where(\n",
    "                    mask_2 == 1, val_image_inpainted_prev_known, val_image_inpainted_prev_unknown\n",
    "                )\n",
    "\n"
   ]
  },
  {
   "cell_type": "code",
   "execution_count": 48,
   "id": "f9acc9ec-c2a9-40d5-abb7-7066f04f8495",
   "metadata": {},
   "outputs": [
    {
     "data": {
      "text/plain": [
       "Text(0.5, 1.0, 'Original Image')"
      ]
     },
     "execution_count": 48,
     "metadata": {},
     "output_type": "execute_result"
    },
    {
     "data": {
      "image/png": "[encoded data removed]",
      "text/plain": [
       "<Figure size 1000x1000 with 4 Axes>"
      ]
     },
     "metadata": {},
     "output_type": "display_data"
    }
   ],
   "source": [
    "fig, axes = plt.subplots(2, 2, figsize=(10, 10))\n",
    "    # Original Image\n",
    "axes[0, 0].imshow(val_image_inpainted[0,0,:,:,middle_slice_idx].squeeze().cpu().numpy(), vmin=0, vmax=2, cmap='gray')\n",
    "axes[0, 0].set_title('Original Image')"
   ]
  },
  {
   "cell_type": "code",
   "execution_count": 51,
   "id": "a86b620c-00b2-4578-bfe0-8c0169b868ef",
   "metadata": {},
   "outputs": [],
   "source": [
    "recon_img = val_image_inpainted*(1-mask)+val_image_inpainted*mask"
   ]
  },
  {
   "cell_type": "code",
   "execution_count": 52,
   "id": "8bd46d87-ee55-4fc1-91fb-f5279ad0beac",
   "metadata": {},
   "outputs": [
    {
     "data": {
      "text/plain": [
       "Text(0.5, 1.0, 'Original Image')"
      ]
     },
     "execution_count": 52,
     "metadata": {},
     "output_type": "execute_result"
    },
    {
     "data": {
      "image/png": "[encoded data removed]",
      "text/plain": [
       "<Figure size 1000x1000 with 4 Axes>"
      ]
     },
     "metadata": {},
     "output_type": "display_data"
    }
   ],
   "source": [
    "fig, axes = plt.subplots(2, 2, figsize=(10, 10))\n",
    "    # Original Image\n",
    "axes[0, 0].imshow(recon_img[0,0,:,:,middle_slice_idx].squeeze().cpu().numpy(), vmin=0, vmax=2, cmap='gray')\n",
    "axes[0, 0].set_title('Original Image')"
   ]
  },
  {
   "cell_type": "code",
   "execution_count": 33,
   "id": "abedfcc6-16f6-45e5-84fd-fe767880bf2a",
   "metadata": {},
   "outputs": [],
   "source": [
    "axes[1, 1].imshow(recon_img[:,:,middle_slice_idx].squeeze().cpu().numpy(), vmin=0, vmax=1, cmap='gray')\n",
    "axes[1, 1].set_title('inpaint')\n",
    "plt.show()"
   ]
  },
  {
   "cell_type": "code",
   "execution_count": null,
   "id": "77cbe6f8-f550-4b37-87d2-11262c268242",
   "metadata": {},
   "outputs": [],
   "source": [
    "import matplotlib.pyplot as plt\n",
    "import torch\n",
    "\n",
    "# Assume batch_size is the number of samples in your batch\n",
    "batch_size = image_array.shape[0]\n",
    "\n",
    "# Loop through each sample in the batch\n",
    "for i in range(batch_size):\n",
    "    # Calculate the middle slice index for this sample\n",
    "    middle_slice_idx = image_array.size(-1) // 2\n",
    "    \n",
    "    fig, axes = plt.subplots(2, 2, figsize=(10, 10))\n",
    "    \n",
    "    # Original Image\n",
    "    axes[0, 0].imshow(image_array[i][0][:,:,middle_slice_idx].squeeze().cpu().numpy(), vmin=0, vmax=1, cmap='gray')\n",
    "    axes[0, 0].set_title('Original Image')\n",
    "\n",
    "    # Segmented Image\n",
    "    image_array_slice = sub_test['seg']['data'][i][0][:,:,middle_slice_idx].squeeze().cpu().numpy()\n",
    "    axes[0, 1].imshow(image_array_slice, cmap='gray')\n",
    "    axes[0, 1].set_title('Segmented Image')\n",
    "    \n",
    "    # Transformed Image\n",
    "    axes[1, 0].imshow(recon_img[i][0][:,:,middle_slice_idx].squeeze().cpu().numpy(), vmin=0, vmax=1, cmap='gray')\n",
    "    axes[1, 0].set_title('Transformed Image')\n",
    "    \n",
    "    # Difference Image\n",
    "    diff_img = torch.abs(recon_img - image_array.to(device))\n",
    "    axes[1, 1].imshow(diff_img[i][0][:,:,middle_slice_idx].squeeze().cpu().numpy(), vmin=0, vmax=1, cmap='gray')\n",
    "    axes[1, 1].set_title('Difference Image')\n",
    "    \n",
    "    # Hide axis for all subplots\n",
    "    for ax in axes.flatten():\n",
    "        ax.axis('off')\n",
    "    \n",
    "    plt.suptitle(f\"Sample {i+1}\")\n",
    "    plt.show()\n"
   ]
  },
  {
   "cell_type": "code",
   "execution_count": null,
   "id": "4591530e-e417-49c7-8a6f-7d71a3ab1c2d",
   "metadata": {},
   "outputs": [],
   "source": []
  }
 ],
 "metadata": {
  "jupytext": {
   "formats": "py:percent,ipynb"
  },
  "kernelspec": {
   "display_name": "working_monai",
   "language": "python",
   "name": "working_monai"
  },
  "language_info": {
   "codemirror_mode": {
    "name": "ipython",
    "version": 3
   },
   "file_extension": ".py",
   "mimetype": "text/x-python",
   "name": "python",
   "nbconvert_exporter": "python",
   "pygments_lexer": "ipython3",
   "version": "3.9.16"
  }
 },
 "nbformat": 4,
 "nbformat_minor": 5
}
