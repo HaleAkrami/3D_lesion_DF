{
 "cells": [
  {
   "cell_type": "code",
   "execution_count": 1,
   "id": "2e4f1a3f-3528-4eee-a5d8-f164db1a3025",
   "metadata": {},
   "outputs": [
    {
     "name": "stderr",
     "output_type": "stream",
     "text": [
      "Failed to detect the name of this notebook, you can set it manually with the WANDB_NOTEBOOK_NAME environment variable to enable code saving.\n",
      "\u001b[34m\u001b[1mwandb\u001b[0m: Currently logged in as: \u001b[33mhale-akrami\u001b[0m (\u001b[33musc_akrami\u001b[0m). Use \u001b[1m`wandb login --relogin`\u001b[0m to force relogin\n"
     ]
    },
    {
     "data": {
      "text/html": [
       "Tracking run with wandb version 0.15.11"
      ],
      "text/plain": [
       "<IPython.core.display.HTML object>"
      ]
     },
     "metadata": {},
     "output_type": "display_data"
    },
    {
     "data": {
      "text/html": [
       "Run data is saved locally in <code>/acmenas/hakrami/3D_lesion_DF/wandb/run-20230924_140103-0zpq2bdt</code>"
      ],
      "text/plain": [
       "<IPython.core.display.HTML object>"
      ]
     },
     "metadata": {},
     "output_type": "display_data"
    },
    {
     "data": {
      "text/html": [
       "Syncing run <strong><a href='https://wandb.ai/usc_akrami/33_ddpm_bio/runs/0zpq2bdt' target=\"_blank\">note_half_bio</a></strong> to <a href='https://wandb.ai/usc_akrami/33_ddpm_bio' target=\"_blank\">Weights & Biases</a> (<a href='https://wandb.me/run' target=\"_blank\">docs</a>)<br/>"
      ],
      "text/plain": [
       "<IPython.core.display.HTML object>"
      ]
     },
     "metadata": {},
     "output_type": "display_data"
    },
    {
     "data": {
      "text/html": [
       " View project at <a href='https://wandb.ai/usc_akrami/33_ddpm_bio' target=\"_blank\">https://wandb.ai/usc_akrami/33_ddpm_bio</a>"
      ],
      "text/plain": [
       "<IPython.core.display.HTML object>"
      ]
     },
     "metadata": {},
     "output_type": "display_data"
    },
    {
     "data": {
      "text/html": [
       " View run at <a href='https://wandb.ai/usc_akrami/33_ddpm_bio/runs/0zpq2bdt' target=\"_blank\">https://wandb.ai/usc_akrami/33_ddpm_bio/runs/0zpq2bdt</a>"
      ],
      "text/plain": [
       "<IPython.core.display.HTML object>"
      ]
     },
     "metadata": {},
     "output_type": "display_data"
    },
    {
     "name": "stderr",
     "output_type": "stream",
     "text": [
      "IProgress not found. Please update jupyter and ipywidgets. See https://ipywidgets.readthedocs.io/en/stable/user_install.html\n"
     ]
    },
    {
     "data": {
      "text/html": [
       "Finishing last run (ID:0zpq2bdt) before initializing another..."
      ],
      "text/plain": [
       "<IPython.core.display.HTML object>"
      ]
     },
     "metadata": {},
     "output_type": "display_data"
    },
    {
     "data": {
      "text/html": [
       "Waiting for W&B process to finish... <strong style=\"color:green\">(success).</strong>"
      ],
      "text/plain": [
       "<IPython.core.display.HTML object>"
      ]
     },
     "metadata": {},
     "output_type": "display_data"
    },
    {
     "name": "stderr",
     "output_type": "stream",
     "text": [
      "wandb: WARNING Source type is set to 'repo' but some required information is missing from the environment. A job will not be created from this run. See https://docs.wandb.ai/guides/launch/create-job\n"
     ]
    },
    {
     "data": {
      "text/html": [
       " View run <strong style=\"color:#cdcd00\">note_half_bio</strong> at: <a href='https://wandb.ai/usc_akrami/33_ddpm_bio/runs/0zpq2bdt' target=\"_blank\">https://wandb.ai/usc_akrami/33_ddpm_bio/runs/0zpq2bdt</a><br/>Synced 6 W&B file(s), 0 media file(s), 0 artifact file(s) and 0 other file(s)"
      ],
      "text/plain": [
       "<IPython.core.display.HTML object>"
      ]
     },
     "metadata": {},
     "output_type": "display_data"
    },
    {
     "data": {
      "text/html": [
       "Find logs at: <code>./wandb/run-20230924_140103-0zpq2bdt/logs</code>"
      ],
      "text/plain": [
       "<IPython.core.display.HTML object>"
      ]
     },
     "metadata": {},
     "output_type": "display_data"
    },
    {
     "data": {
      "text/html": [
       "Successfully finished last run (ID:0zpq2bdt). Initializing new run:<br/>"
      ],
      "text/plain": [
       "<IPython.core.display.HTML object>"
      ]
     },
     "metadata": {},
     "output_type": "display_data"
    },
    {
     "data": {
      "text/html": [
       "Tracking run with wandb version 0.15.11"
      ],
      "text/plain": [
       "<IPython.core.display.HTML object>"
      ]
     },
     "metadata": {},
     "output_type": "display_data"
    },
    {
     "data": {
      "text/html": [
       "Run data is saved locally in <code>/acmenas/hakrami/3D_lesion_DF/wandb/run-20230924_140115-m4szt3a0</code>"
      ],
      "text/plain": [
       "<IPython.core.display.HTML object>"
      ]
     },
     "metadata": {},
     "output_type": "display_data"
    },
    {
     "data": {
      "text/html": [
       "Syncing run <strong><a href='https://wandb.ai/usc_akrami/33_ddpm/runs/m4szt3a0' target=\"_blank\">soft-tree-57</a></strong> to <a href='https://wandb.ai/usc_akrami/33_ddpm' target=\"_blank\">Weights & Biases</a> (<a href='https://wandb.me/run' target=\"_blank\">docs</a>)<br/>"
      ],
      "text/plain": [
       "<IPython.core.display.HTML object>"
      ]
     },
     "metadata": {},
     "output_type": "display_data"
    },
    {
     "data": {
      "text/html": [
       " View project at <a href='https://wandb.ai/usc_akrami/33_ddpm' target=\"_blank\">https://wandb.ai/usc_akrami/33_ddpm</a>"
      ],
      "text/plain": [
       "<IPython.core.display.HTML object>"
      ]
     },
     "metadata": {},
     "output_type": "display_data"
    },
    {
     "data": {
      "text/html": [
       " View run at <a href='https://wandb.ai/usc_akrami/33_ddpm/runs/m4szt3a0' target=\"_blank\">https://wandb.ai/usc_akrami/33_ddpm/runs/m4szt3a0</a>"
      ],
      "text/plain": [
       "<IPython.core.display.HTML object>"
      ]
     },
     "metadata": {},
     "output_type": "display_data"
    }
   ],
   "source": [
    "import wandb\n",
    "wandb.init(project='33_ddpm_bio',name='note_half_bio')\n",
    "import wandb\n",
    "\n",
    "\n",
    "# Standard libraries\n",
    "import os\n",
    "import tempfile\n",
    "import time\n",
    "import io\n",
    "import random\n",
    "import math\n",
    "import warnings\n",
    "from multiprocessing import Manager\n",
    "from typing import Optional\n",
    "\n",
    "# Data manipulation libraries\n",
    "import numpy as np\n",
    "import pandas as pd\n",
    "import scipy\n",
    "\n",
    "# PyTorch and related libraries\n",
    "import torch\n",
    "import torch.nn as nn\n",
    "import torch.nn.functional as F\n",
    "from torch.cuda.amp import GradScaler, autocast\n",
    "from torch.utils.data import DataLoader, Dataset, random_split\n",
    "\n",
    "# MONAI libraries\n",
    "# from monai.apps import DecathlonDataset\n",
    "from monai.config import print_config\n",
    "from monai.data import DataLoader\n",
    "from monai.transforms import (\n",
    "    AddChanneld, \n",
    "    CenterSpatialCropd, \n",
    "    Compose, \n",
    "    Lambdad, \n",
    "    LoadImaged, \n",
    "    Resized, \n",
    "    ScaleIntensityd\n",
    ")\n",
    "from monai.utils import set_determinism\n",
    "\n",
    "# Other medical image processing libraries\n",
    "import SimpleITK as sitk\n",
    "import torchio as tio\n",
    "\n",
    "# Plotting and visualization\n",
    "import matplotlib.pyplot as plt\n",
    "\n",
    "# Progress bar\n",
    "from tqdm import tqdm\n",
    "\n",
    "# Custom modules\n",
    "from generative.inferers import DiffusionInferer\n",
    "from generative.networks.nets import DiffusionModelUNet\n",
    "from generative.networks.schedulers import DDPMScheduler, DDIMScheduler\n",
    "\n",
    "# Weights and Biases for experiment tracking\n",
    "from dataloader import Train,Eval\n",
    "\n",
    "\n",
    "\n",
    "\n",
    "\n",
    "\n",
    "config = {\n",
    "    'batch_size': 64,\n",
    "    'imgDimResize':(160,192,160),\n",
    "    'imgDimPad': (208, 256, 208),\n",
    "    'spatialDims': '3D',\n",
    "    'unisotropic_sampling': True, \n",
    "    'perc_low': 0, \n",
    "    'perc_high': 100,\n",
    "    'rescaleFactor':2,\n",
    "    'base_path': '/scratch1/akrami/Latest_Data/Data',\n",
    "}"
   ]
  },
  {
   "cell_type": "code",
   "execution_count": 2,
   "id": "c0755d6b-ac34-457b-9b75-797bd844fb01",
   "metadata": {},
   "outputs": [],
   "source": [
    "wandb.config.update(config )\n",
    "\n",
    "\n",
    "imgpath = {}\n",
    "# '/acmenas/hakrami/patched-Diffusion-Models-UAD/Data/splits/BioBank_train.csv'\n",
    "#'/acmenas/hakrami/patched-Diffusion-Models-UAD/Data/splits/IXI_train_fold0.csv',\n",
    "#csvpath_trains = ['/project/ajoshi_27/akrami/patched-Diffusion-Models-UAD/Data/splits/BioBank_train.csv', '/project/ajoshi_27/akrami/patched-Diffusion-Models-UAD/Data/splits/BioBank_train.csv']\n",
    "csvpath_trains=['./combined.csv']\n",
    "pathBase = '/acmenas/hakrami/patched-Diffusion-Models-UAD/Data_train'\n",
    "csvpath_val = '/acmenas/hakrami/3D_lesion_DF/splits/IXI_train_fold0.csv'\n",
    "csvpath_test = '/acmenas/hakrami/3D_lesion_DF/splits/Brats21_sub_test.csv'\n",
    "var_csv = {}\n",
    "states = ['train','val','test']\n",
    "\n",
    "df_list = []\n",
    "\n",
    "# Loop through each CSV file path and read it into a DataFrame\n",
    "for csvpath in csvpath_trains:\n",
    "    df = pd.read_csv(csvpath)\n",
    "    df_list.append(df)\n",
    "\n",
    "# dfffff=  pd.concat(df_list, ignore_index=True)\n",
    "# dfffff.to_csv(\"./combined.csv\", index=False)"
   ]
  },
  {
   "cell_type": "code",
   "execution_count": 3,
   "id": "3905589c-caa6-4352-a35b-1bd1d1d3e6c2",
   "metadata": {},
   "outputs": [
    {
     "ename": "RuntimeError",
     "evalue": "Error(s) in loading state_dict for DiffusionModelUNet:\n\tMissing key(s) in state_dict: \"conv_in.conv.weight\", \"conv_in.conv.bias\", \"time_embed.0.weight\", \"time_embed.0.bias\", \"time_embed.2.weight\", \"time_embed.2.bias\", \"down_blocks.0.resnets.0.norm1.weight\", \"down_blocks.0.resnets.0.norm1.bias\", \"down_blocks.0.resnets.0.conv1.conv.weight\", \"down_blocks.0.resnets.0.conv1.conv.bias\", \"down_blocks.0.resnets.0.time_emb_proj.weight\", \"down_blocks.0.resnets.0.time_emb_proj.bias\", \"down_blocks.0.resnets.0.norm2.weight\", \"down_blocks.0.resnets.0.norm2.bias\", \"down_blocks.0.resnets.0.conv2.conv.weight\", \"down_blocks.0.resnets.0.conv2.conv.bias\", \"down_blocks.0.resnets.1.norm1.weight\", \"down_blocks.0.resnets.1.norm1.bias\", \"down_blocks.0.resnets.1.conv1.conv.weight\", \"down_blocks.0.resnets.1.conv1.conv.bias\", \"down_blocks.0.resnets.1.time_emb_proj.weight\", \"down_blocks.0.resnets.1.time_emb_proj.bias\", \"down_blocks.0.resnets.1.norm2.weight\", \"down_blocks.0.resnets.1.norm2.bias\", \"down_blocks.0.resnets.1.conv2.conv.weight\", \"down_blocks.0.resnets.1.conv2.conv.bias\", \"down_blocks.0.downsampler.op.conv.weight\", \"down_blocks.0.downsampler.op.conv.bias\", \"down_blocks.1.resnets.0.norm1.weight\", \"down_blocks.1.resnets.0.norm1.bias\", \"down_blocks.1.resnets.0.conv1.conv.weight\", \"down_blocks.1.resnets.0.conv1.conv.bias\", \"down_blocks.1.resnets.0.time_emb_proj.weight\", \"down_blocks.1.resnets.0.time_emb_proj.bias\", \"down_blocks.1.resnets.0.norm2.weight\", \"down_blocks.1.resnets.0.norm2.bias\", \"down_blocks.1.resnets.0.conv2.conv.weight\", \"down_blocks.1.resnets.0.conv2.conv.bias\", \"down_blocks.1.resnets.0.skip_connection.conv.weight\", \"down_blocks.1.resnets.0.skip_connection.conv.bias\", \"down_blocks.1.resnets.1.norm1.weight\", \"down_blocks.1.resnets.1.norm1.bias\", \"down_blocks.1.resnets.1.conv1.conv.weight\", \"down_blocks.1.resnets.1.conv1.conv.bias\", \"down_blocks.1.resnets.1.time_emb_proj.weight\", \"down_blocks.1.resnets.1.time_emb_proj.bias\", \"down_blocks.1.resnets.1.norm2.weight\", \"down_blocks.1.resnets.1.norm2.bias\", \"down_blocks.1.resnets.1.conv2.conv.weight\", \"down_blocks.1.resnets.1.conv2.conv.bias\", \"down_blocks.1.downsampler.op.conv.weight\", \"down_blocks.1.downsampler.op.conv.bias\", \"down_blocks.2.resnets.0.norm1.weight\", \"down_blocks.2.resnets.0.norm1.bias\", \"down_blocks.2.resnets.0.conv1.conv.weight\", \"down_blocks.2.resnets.0.conv1.conv.bias\", \"down_blocks.2.resnets.0.time_emb_proj.weight\", \"down_blocks.2.resnets.0.time_emb_proj.bias\", \"down_blocks.2.resnets.0.norm2.weight\", \"down_blocks.2.resnets.0.norm2.bias\", \"down_blocks.2.resnets.0.conv2.conv.weight\", \"down_blocks.2.resnets.0.conv2.conv.bias\", \"down_blocks.2.resnets.0.skip_connection.conv.weight\", \"down_blocks.2.resnets.0.skip_connection.conv.bias\", \"down_blocks.2.resnets.1.norm1.weight\", \"down_blocks.2.resnets.1.norm1.bias\", \"down_blocks.2.resnets.1.conv1.conv.weight\", \"down_blocks.2.resnets.1.conv1.conv.bias\", \"down_blocks.2.resnets.1.time_emb_proj.weight\", \"down_blocks.2.resnets.1.time_emb_proj.bias\", \"down_blocks.2.resnets.1.norm2.weight\", \"down_blocks.2.resnets.1.norm2.bias\", \"down_blocks.2.resnets.1.conv2.conv.weight\", \"down_blocks.2.resnets.1.conv2.conv.bias\", \"down_blocks.2.downsampler.op.conv.weight\", \"down_blocks.2.downsampler.op.conv.bias\", \"down_blocks.3.attentions.0.norm.weight\", \"down_blocks.3.attentions.0.norm.bias\", \"down_blocks.3.attentions.0.to_q.weight\", \"down_blocks.3.attentions.0.to_q.bias\", \"down_blocks.3.attentions.0.to_k.weight\", \"down_blocks.3.attentions.0.to_k.bias\", \"down_blocks.3.attentions.0.to_v.weight\", \"down_blocks.3.attentions.0.to_v.bias\", \"down_blocks.3.attentions.0.proj_attn.weight\", \"down_blocks.3.attentions.0.proj_attn.bias\", \"down_blocks.3.attentions.1.norm.weight\", \"down_blocks.3.attentions.1.norm.bias\", \"down_blocks.3.attentions.1.to_q.weight\", \"down_blocks.3.attentions.1.to_q.bias\", \"down_blocks.3.attentions.1.to_k.weight\", \"down_blocks.3.attentions.1.to_k.bias\", \"down_blocks.3.attentions.1.to_v.weight\", \"down_blocks.3.attentions.1.to_v.bias\", \"down_blocks.3.attentions.1.proj_attn.weight\", \"down_blocks.3.attentions.1.proj_attn.bias\", \"down_blocks.3.resnets.0.norm1.weight\", \"down_blocks.3.resnets.0.norm1.bias\", \"down_blocks.3.resnets.0.conv1.conv.weight\", \"down_blocks.3.resnets.0.conv1.conv.bias\", \"down_blocks.3.resnets.0.time_emb_proj.weight\", \"down_blocks.3.resnets.0.time_emb_proj.bias\", \"down_blocks.3.resnets.0.norm2.weight\", \"down_blocks.3.resnets.0.norm2.bias\", \"down_blocks.3.resnets.0.conv2.conv.weight\", \"down_blocks.3.resnets.0.conv2.conv.bias\", \"down_blocks.3.resnets.1.norm1.weight\", \"down_blocks.3.resnets.1.norm1.bias\", \"down_blocks.3.resnets.1.conv1.conv.weight\", \"down_blocks.3.resnets.1.conv1.conv.bias\", \"down_blocks.3.resnets.1.time_emb_proj.weight\", \"down_blocks.3.resnets.1.time_emb_proj.bias\", \"down_blocks.3.resnets.1.norm2.weight\", \"down_blocks.3.resnets.1.norm2.bias\", \"down_blocks.3.resnets.1.conv2.conv.weight\", \"down_blocks.3.resnets.1.conv2.conv.bias\", \"middle_block.resnet_1.norm1.weight\", \"middle_block.resnet_1.norm1.bias\", \"middle_block.resnet_1.conv1.conv.weight\", \"middle_block.resnet_1.conv1.conv.bias\", \"middle_block.resnet_1.time_emb_proj.weight\", \"middle_block.resnet_1.time_emb_proj.bias\", \"middle_block.resnet_1.norm2.weight\", \"middle_block.resnet_1.norm2.bias\", \"middle_block.resnet_1.conv2.conv.weight\", \"middle_block.resnet_1.conv2.conv.bias\", \"middle_block.attention.norm.weight\", \"middle_block.attention.norm.bias\", \"middle_block.attention.to_q.weight\", \"middle_block.attention.to_q.bias\", \"middle_block.attention.to_k.weight\", \"middle_block.attention.to_k.bias\", \"middle_block.attention.to_v.weight\", \"middle_block.attention.to_v.bias\", \"middle_block.attention.proj_attn.weight\", \"middle_block.attention.proj_attn.bias\", \"middle_block.resnet_2.norm1.weight\", \"middle_block.resnet_2.norm1.bias\", \"middle_block.resnet_2.conv1.conv.weight\", \"middle_block.resnet_2.conv1.conv.bias\", \"middle_block.resnet_2.time_emb_proj.weight\", \"middle_block.resnet_2.time_emb_proj.bias\", \"middle_block.resnet_2.norm2.weight\", \"middle_block.resnet_2.norm2.bias\", \"middle_block.resnet_2.conv2.conv.weight\", \"middle_block.resnet_2.conv2.conv.bias\", \"up_blocks.0.resnets.0.norm1.weight\", \"up_blocks.0.resnets.0.norm1.bias\", \"up_blocks.0.resnets.0.conv1.conv.weight\", \"up_blocks.0.resnets.0.conv1.conv.bias\", \"up_blocks.0.resnets.0.time_emb_proj.weight\", \"up_blocks.0.resnets.0.time_emb_proj.bias\", \"up_blocks.0.resnets.0.norm2.weight\", \"up_blocks.0.resnets.0.norm2.bias\", \"up_blocks.0.resnets.0.conv2.conv.weight\", \"up_blocks.0.resnets.0.conv2.conv.bias\", \"up_blocks.0.resnets.0.skip_connection.conv.weight\", \"up_blocks.0.resnets.0.skip_connection.conv.bias\", \"up_blocks.0.resnets.1.norm1.weight\", \"up_blocks.0.resnets.1.norm1.bias\", \"up_blocks.0.resnets.1.conv1.conv.weight\", \"up_blocks.0.resnets.1.conv1.conv.bias\", \"up_blocks.0.resnets.1.time_emb_proj.weight\", \"up_blocks.0.resnets.1.time_emb_proj.bias\", \"up_blocks.0.resnets.1.norm2.weight\", \"up_blocks.0.resnets.1.norm2.bias\", \"up_blocks.0.resnets.1.conv2.conv.weight\", \"up_blocks.0.resnets.1.conv2.conv.bias\", \"up_blocks.0.resnets.1.skip_connection.conv.weight\", \"up_blocks.0.resnets.1.skip_connection.conv.bias\", \"up_blocks.0.resnets.2.norm1.weight\", \"up_blocks.0.resnets.2.norm1.bias\", \"up_blocks.0.resnets.2.conv1.conv.weight\", \"up_blocks.0.resnets.2.conv1.conv.bias\", \"up_blocks.0.resnets.2.time_emb_proj.weight\", \"up_blocks.0.resnets.2.time_emb_proj.bias\", \"up_blocks.0.resnets.2.norm2.weight\", \"up_blocks.0.resnets.2.norm2.bias\", \"up_blocks.0.resnets.2.conv2.conv.weight\", \"up_blocks.0.resnets.2.conv2.conv.bias\", \"up_blocks.0.resnets.2.skip_connection.conv.weight\", \"up_blocks.0.resnets.2.skip_connection.conv.bias\", \"up_blocks.0.attentions.0.norm.weight\", \"up_blocks.0.attentions.0.norm.bias\", \"up_blocks.0.attentions.0.to_q.weight\", \"up_blocks.0.attentions.0.to_q.bias\", \"up_blocks.0.attentions.0.to_k.weight\", \"up_blocks.0.attentions.0.to_k.bias\", \"up_blocks.0.attentions.0.to_v.weight\", \"up_blocks.0.attentions.0.to_v.bias\", \"up_blocks.0.attentions.0.proj_attn.weight\", \"up_blocks.0.attentions.0.proj_attn.bias\", \"up_blocks.0.attentions.1.norm.weight\", \"up_blocks.0.attentions.1.norm.bias\", \"up_blocks.0.attentions.1.to_q.weight\", \"up_blocks.0.attentions.1.to_q.bias\", \"up_blocks.0.attentions.1.to_k.weight\", \"up_blocks.0.attentions.1.to_k.bias\", \"up_blocks.0.attentions.1.to_v.weight\", \"up_blocks.0.attentions.1.to_v.bias\", \"up_blocks.0.attentions.1.proj_attn.weight\", \"up_blocks.0.attentions.1.proj_attn.bias\", \"up_blocks.0.attentions.2.norm.weight\", \"up_blocks.0.attentions.2.norm.bias\", \"up_blocks.0.attentions.2.to_q.weight\", \"up_blocks.0.attentions.2.to_q.bias\", \"up_blocks.0.attentions.2.to_k.weight\", \"up_blocks.0.attentions.2.to_k.bias\", \"up_blocks.0.attentions.2.to_v.weight\", \"up_blocks.0.attentions.2.to_v.bias\", \"up_blocks.0.attentions.2.proj_attn.weight\", \"up_blocks.0.attentions.2.proj_attn.bias\", \"up_blocks.0.upsampler.conv.conv.weight\", \"up_blocks.0.upsampler.conv.conv.bias\", \"up_blocks.1.resnets.0.norm1.weight\", \"up_blocks.1.resnets.0.norm1.bias\", \"up_blocks.1.resnets.0.conv1.conv.weight\", \"up_blocks.1.resnets.0.conv1.conv.bias\", \"up_blocks.1.resnets.0.time_emb_proj.weight\", \"up_blocks.1.resnets.0.time_emb_proj.bias\", \"up_blocks.1.resnets.0.norm2.weight\", \"up_blocks.1.resnets.0.norm2.bias\", \"up_blocks.1.resnets.0.conv2.conv.weight\", \"up_blocks.1.resnets.0.conv2.conv.bias\", \"up_blocks.1.resnets.0.skip_connection.conv.weight\", \"up_blocks.1.resnets.0.skip_connection.conv.bias\", \"up_blocks.1.resnets.1.norm1.weight\", \"up_blocks.1.resnets.1.norm1.bias\", \"up_blocks.1.resnets.1.conv1.conv.weight\", \"up_blocks.1.resnets.1.conv1.conv.bias\", \"up_blocks.1.resnets.1.time_emb_proj.weight\", \"up_blocks.1.resnets.1.time_emb_proj.bias\", \"up_blocks.1.resnets.1.norm2.weight\", \"up_blocks.1.resnets.1.norm2.bias\", \"up_blocks.1.resnets.1.conv2.conv.weight\", \"up_blocks.1.resnets.1.conv2.conv.bias\", \"up_blocks.1.resnets.1.skip_connection.conv.weight\", \"up_blocks.1.resnets.1.skip_connection.conv.bias\", \"up_blocks.1.resnets.2.norm1.weight\", \"up_blocks.1.resnets.2.norm1.bias\", \"up_blocks.1.resnets.2.conv1.conv.weight\", \"up_blocks.1.resnets.2.conv1.conv.bias\", \"up_blocks.1.resnets.2.time_emb_proj.weight\", \"up_blocks.1.resnets.2.time_emb_proj.bias\", \"up_blocks.1.resnets.2.norm2.weight\", \"up_blocks.1.resnets.2.norm2.bias\", \"up_blocks.1.resnets.2.conv2.conv.weight\", \"up_blocks.1.resnets.2.conv2.conv.bias\", \"up_blocks.1.resnets.2.skip_connection.conv.weight\", \"up_blocks.1.resnets.2.skip_connection.conv.bias\", \"up_blocks.1.upsampler.conv.conv.weight\", \"up_blocks.1.upsampler.conv.conv.bias\", \"up_blocks.2.resnets.0.norm1.weight\", \"up_blocks.2.resnets.0.norm1.bias\", \"up_blocks.2.resnets.0.conv1.conv.weight\", \"up_blocks.2.resnets.0.conv1.conv.bias\", \"up_blocks.2.resnets.0.time_emb_proj.weight\", \"up_blocks.2.resnets.0.time_emb_proj.bias\", \"up_blocks.2.resnets.0.norm2.weight\", \"up_blocks.2.resnets.0.norm2.bias\", \"up_blocks.2.resnets.0.conv2.conv.weight\", \"up_blocks.2.resnets.0.conv2.conv.bias\", \"up_blocks.2.resnets.0.skip_connection.conv.weight\", \"up_blocks.2.resnets.0.skip_connection.conv.bias\", \"up_blocks.2.resnets.1.norm1.weight\", \"up_blocks.2.resnets.1.norm1.bias\", \"up_blocks.2.resnets.1.conv1.conv.weight\", \"up_blocks.2.resnets.1.conv1.conv.bias\", \"up_blocks.2.resnets.1.time_emb_proj.weight\", \"up_blocks.2.resnets.1.time_emb_proj.bias\", \"up_blocks.2.resnets.1.norm2.weight\", \"up_blocks.2.resnets.1.norm2.bias\", \"up_blocks.2.resnets.1.conv2.conv.weight\", \"up_blocks.2.resnets.1.conv2.conv.bias\", \"up_blocks.2.resnets.1.skip_connection.conv.weight\", \"up_blocks.2.resnets.1.skip_connection.conv.bias\", \"up_blocks.2.resnets.2.norm1.weight\", \"up_blocks.2.resnets.2.norm1.bias\", \"up_blocks.2.resnets.2.conv1.conv.weight\", \"up_blocks.2.resnets.2.conv1.conv.bias\", \"up_blocks.2.resnets.2.time_emb_proj.weight\", \"up_blocks.2.resnets.2.time_emb_proj.bias\", \"up_blocks.2.resnets.2.norm2.weight\", \"up_blocks.2.resnets.2.norm2.bias\", \"up_blocks.2.resnets.2.conv2.conv.weight\", \"up_blocks.2.resnets.2.conv2.conv.bias\", \"up_blocks.2.resnets.2.skip_connection.conv.weight\", \"up_blocks.2.resnets.2.skip_connection.conv.bias\", \"up_blocks.2.upsampler.conv.conv.weight\", \"up_blocks.2.upsampler.conv.conv.bias\", \"up_blocks.3.resnets.0.norm1.weight\", \"up_blocks.3.resnets.0.norm1.bias\", \"up_blocks.3.resnets.0.conv1.conv.weight\", \"up_blocks.3.resnets.0.conv1.conv.bias\", \"up_blocks.3.resnets.0.time_emb_proj.weight\", \"up_blocks.3.resnets.0.time_emb_proj.bias\", \"up_blocks.3.resnets.0.norm2.weight\", \"up_blocks.3.resnets.0.norm2.bias\", \"up_blocks.3.resnets.0.conv2.conv.weight\", \"up_blocks.3.resnets.0.conv2.conv.bias\", \"up_blocks.3.resnets.0.skip_connection.conv.weight\", \"up_blocks.3.resnets.0.skip_connection.conv.bias\", \"up_blocks.3.resnets.1.norm1.weight\", \"up_blocks.3.resnets.1.norm1.bias\", \"up_blocks.3.resnets.1.conv1.conv.weight\", \"up_blocks.3.resnets.1.conv1.conv.bias\", \"up_blocks.3.resnets.1.time_emb_proj.weight\", \"up_blocks.3.resnets.1.time_emb_proj.bias\", \"up_blocks.3.resnets.1.norm2.weight\", \"up_blocks.3.resnets.1.norm2.bias\", \"up_blocks.3.resnets.1.conv2.conv.weight\", \"up_blocks.3.resnets.1.conv2.conv.bias\", \"up_blocks.3.resnets.1.skip_connection.conv.weight\", \"up_blocks.3.resnets.1.skip_connection.conv.bias\", \"up_blocks.3.resnets.2.norm1.weight\", \"up_blocks.3.resnets.2.norm1.bias\", \"up_blocks.3.resnets.2.conv1.conv.weight\", \"up_blocks.3.resnets.2.conv1.conv.bias\", \"up_blocks.3.resnets.2.time_emb_proj.weight\", \"up_blocks.3.resnets.2.time_emb_proj.bias\", \"up_blocks.3.resnets.2.norm2.weight\", \"up_blocks.3.resnets.2.norm2.bias\", \"up_blocks.3.resnets.2.conv2.conv.weight\", \"up_blocks.3.resnets.2.conv2.conv.bias\", \"up_blocks.3.resnets.2.skip_connection.conv.weight\", \"up_blocks.3.resnets.2.skip_connection.conv.bias\", \"out.0.weight\", \"out.0.bias\", \"out.2.conv.weight\", \"out.2.conv.bias\". \n\tUnexpected key(s) in state_dict: \"module.conv_in.conv.weight\", \"module.conv_in.conv.bias\", \"module.time_embed.0.weight\", \"module.time_embed.0.bias\", \"module.time_embed.2.weight\", \"module.time_embed.2.bias\", \"module.down_blocks.0.resnets.0.norm1.weight\", \"module.down_blocks.0.resnets.0.norm1.bias\", \"module.down_blocks.0.resnets.0.conv1.conv.weight\", \"module.down_blocks.0.resnets.0.conv1.conv.bias\", \"module.down_blocks.0.resnets.0.time_emb_proj.weight\", \"module.down_blocks.0.resnets.0.time_emb_proj.bias\", \"module.down_blocks.0.resnets.0.norm2.weight\", \"module.down_blocks.0.resnets.0.norm2.bias\", \"module.down_blocks.0.resnets.0.conv2.conv.weight\", \"module.down_blocks.0.resnets.0.conv2.conv.bias\", \"module.down_blocks.0.resnets.1.norm1.weight\", \"module.down_blocks.0.resnets.1.norm1.bias\", \"module.down_blocks.0.resnets.1.conv1.conv.weight\", \"module.down_blocks.0.resnets.1.conv1.conv.bias\", \"module.down_blocks.0.resnets.1.time_emb_proj.weight\", \"module.down_blocks.0.resnets.1.time_emb_proj.bias\", \"module.down_blocks.0.resnets.1.norm2.weight\", \"module.down_blocks.0.resnets.1.norm2.bias\", \"module.down_blocks.0.resnets.1.conv2.conv.weight\", \"module.down_blocks.0.resnets.1.conv2.conv.bias\", \"module.down_blocks.0.downsampler.op.conv.weight\", \"module.down_blocks.0.downsampler.op.conv.bias\", \"module.down_blocks.1.resnets.0.norm1.weight\", \"module.down_blocks.1.resnets.0.norm1.bias\", \"module.down_blocks.1.resnets.0.conv1.conv.weight\", \"module.down_blocks.1.resnets.0.conv1.conv.bias\", \"module.down_blocks.1.resnets.0.time_emb_proj.weight\", \"module.down_blocks.1.resnets.0.time_emb_proj.bias\", \"module.down_blocks.1.resnets.0.norm2.weight\", \"module.down_blocks.1.resnets.0.norm2.bias\", \"module.down_blocks.1.resnets.0.conv2.conv.weight\", \"module.down_blocks.1.resnets.0.conv2.conv.bias\", \"module.down_blocks.1.resnets.0.skip_connection.conv.weight\", \"module.down_blocks.1.resnets.0.skip_connection.conv.bias\", \"module.down_blocks.1.resnets.1.norm1.weight\", \"module.down_blocks.1.resnets.1.norm1.bias\", \"module.down_blocks.1.resnets.1.conv1.conv.weight\", \"module.down_blocks.1.resnets.1.conv1.conv.bias\", \"module.down_blocks.1.resnets.1.time_emb_proj.weight\", \"module.down_blocks.1.resnets.1.time_emb_proj.bias\", \"module.down_blocks.1.resnets.1.norm2.weight\", \"module.down_blocks.1.resnets.1.norm2.bias\", \"module.down_blocks.1.resnets.1.conv2.conv.weight\", \"module.down_blocks.1.resnets.1.conv2.conv.bias\", \"module.down_blocks.1.downsampler.op.conv.weight\", \"module.down_blocks.1.downsampler.op.conv.bias\", \"module.down_blocks.2.resnets.0.norm1.weight\", \"module.down_blocks.2.resnets.0.norm1.bias\", \"module.down_blocks.2.resnets.0.conv1.conv.weight\", \"module.down_blocks.2.resnets.0.conv1.conv.bias\", \"module.down_blocks.2.resnets.0.time_emb_proj.weight\", \"module.down_blocks.2.resnets.0.time_emb_proj.bias\", \"module.down_blocks.2.resnets.0.norm2.weight\", \"module.down_blocks.2.resnets.0.norm2.bias\", \"module.down_blocks.2.resnets.0.conv2.conv.weight\", \"module.down_blocks.2.resnets.0.conv2.conv.bias\", \"module.down_blocks.2.resnets.0.skip_connection.conv.weight\", \"module.down_blocks.2.resnets.0.skip_connection.conv.bias\", \"module.down_blocks.2.resnets.1.norm1.weight\", \"module.down_blocks.2.resnets.1.norm1.bias\", \"module.down_blocks.2.resnets.1.conv1.conv.weight\", \"module.down_blocks.2.resnets.1.conv1.conv.bias\", \"module.down_blocks.2.resnets.1.time_emb_proj.weight\", \"module.down_blocks.2.resnets.1.time_emb_proj.bias\", \"module.down_blocks.2.resnets.1.norm2.weight\", \"module.down_blocks.2.resnets.1.norm2.bias\", \"module.down_blocks.2.resnets.1.conv2.conv.weight\", \"module.down_blocks.2.resnets.1.conv2.conv.bias\", \"module.down_blocks.2.downsampler.op.conv.weight\", \"module.down_blocks.2.downsampler.op.conv.bias\", \"module.down_blocks.3.attentions.0.norm.weight\", \"module.down_blocks.3.attentions.0.norm.bias\", \"module.down_blocks.3.attentions.0.to_q.weight\", \"module.down_blocks.3.attentions.0.to_q.bias\", \"module.down_blocks.3.attentions.0.to_k.weight\", \"module.down_blocks.3.attentions.0.to_k.bias\", \"module.down_blocks.3.attentions.0.to_v.weight\", \"module.down_blocks.3.attentions.0.to_v.bias\", \"module.down_blocks.3.attentions.0.proj_attn.weight\", \"module.down_blocks.3.attentions.0.proj_attn.bias\", \"module.down_blocks.3.attentions.1.norm.weight\", \"module.down_blocks.3.attentions.1.norm.bias\", \"module.down_blocks.3.attentions.1.to_q.weight\", \"module.down_blocks.3.attentions.1.to_q.bias\", \"module.down_blocks.3.attentions.1.to_k.weight\", \"module.down_blocks.3.attentions.1.to_k.bias\", \"module.down_blocks.3.attentions.1.to_v.weight\", \"module.down_blocks.3.attentions.1.to_v.bias\", \"module.down_blocks.3.attentions.1.proj_attn.weight\", \"module.down_blocks.3.attentions.1.proj_attn.bias\", \"module.down_blocks.3.resnets.0.norm1.weight\", \"module.down_blocks.3.resnets.0.norm1.bias\", \"module.down_blocks.3.resnets.0.conv1.conv.weight\", \"module.down_blocks.3.resnets.0.conv1.conv.bias\", \"module.down_blocks.3.resnets.0.time_emb_proj.weight\", \"module.down_blocks.3.resnets.0.time_emb_proj.bias\", \"module.down_blocks.3.resnets.0.norm2.weight\", \"module.down_blocks.3.resnets.0.norm2.bias\", \"module.down_blocks.3.resnets.0.conv2.conv.weight\", \"module.down_blocks.3.resnets.0.conv2.conv.bias\", \"module.down_blocks.3.resnets.1.norm1.weight\", \"module.down_blocks.3.resnets.1.norm1.bias\", \"module.down_blocks.3.resnets.1.conv1.conv.weight\", \"module.down_blocks.3.resnets.1.conv1.conv.bias\", \"module.down_blocks.3.resnets.1.time_emb_proj.weight\", \"module.down_blocks.3.resnets.1.time_emb_proj.bias\", \"module.down_blocks.3.resnets.1.norm2.weight\", \"module.down_blocks.3.resnets.1.norm2.bias\", \"module.down_blocks.3.resnets.1.conv2.conv.weight\", \"module.down_blocks.3.resnets.1.conv2.conv.bias\", \"module.middle_block.resnet_1.norm1.weight\", \"module.middle_block.resnet_1.norm1.bias\", \"module.middle_block.resnet_1.conv1.conv.weight\", \"module.middle_block.resnet_1.conv1.conv.bias\", \"module.middle_block.resnet_1.time_emb_proj.weight\", \"module.middle_block.resnet_1.time_emb_proj.bias\", \"module.middle_block.resnet_1.norm2.weight\", \"module.middle_block.resnet_1.norm2.bias\", \"module.middle_block.resnet_1.conv2.conv.weight\", \"module.middle_block.resnet_1.conv2.conv.bias\", \"module.middle_block.attention.norm.weight\", \"module.middle_block.attention.norm.bias\", \"module.middle_block.attention.to_q.weight\", \"module.middle_block.attention.to_q.bias\", \"module.middle_block.attention.to_k.weight\", \"module.middle_block.attention.to_k.bias\", \"module.middle_block.attention.to_v.weight\", \"module.middle_block.attention.to_v.bias\", \"module.middle_block.attention.proj_attn.weight\", \"module.middle_block.attention.proj_attn.bias\", \"module.middle_block.resnet_2.norm1.weight\", \"module.middle_block.resnet_2.norm1.bias\", \"module.middle_block.resnet_2.conv1.conv.weight\", \"module.middle_block.resnet_2.conv1.conv.bias\", \"module.middle_block.resnet_2.time_emb_proj.weight\", \"module.middle_block.resnet_2.time_emb_proj.bias\", \"module.middle_block.resnet_2.norm2.weight\", \"module.middle_block.resnet_2.norm2.bias\", \"module.middle_block.resnet_2.conv2.conv.weight\", \"module.middle_block.resnet_2.conv2.conv.bias\", \"module.up_blocks.0.resnets.0.norm1.weight\", \"module.up_blocks.0.resnets.0.norm1.bias\", \"module.up_blocks.0.resnets.0.conv1.conv.weight\", \"module.up_blocks.0.resnets.0.conv1.conv.bias\", \"module.up_blocks.0.resnets.0.time_emb_proj.weight\", \"module.up_blocks.0.resnets.0.time_emb_proj.bias\", \"module.up_blocks.0.resnets.0.norm2.weight\", \"module.up_blocks.0.resnets.0.norm2.bias\", \"module.up_blocks.0.resnets.0.conv2.conv.weight\", \"module.up_blocks.0.resnets.0.conv2.conv.bias\", \"module.up_blocks.0.resnets.0.skip_connection.conv.weight\", \"module.up_blocks.0.resnets.0.skip_connection.conv.bias\", \"module.up_blocks.0.resnets.1.norm1.weight\", \"module.up_blocks.0.resnets.1.norm1.bias\", \"module.up_blocks.0.resnets.1.conv1.conv.weight\", \"module.up_blocks.0.resnets.1.conv1.conv.bias\", \"module.up_blocks.0.resnets.1.time_emb_proj.weight\", \"module.up_blocks.0.resnets.1.time_emb_proj.bias\", \"module.up_blocks.0.resnets.1.norm2.weight\", \"module.up_blocks.0.resnets.1.norm2.bias\", \"module.up_blocks.0.resnets.1.conv2.conv.weight\", \"module.up_blocks.0.resnets.1.conv2.conv.bias\", \"module.up_blocks.0.resnets.1.skip_connection.conv.weight\", \"module.up_blocks.0.resnets.1.skip_connection.conv.bias\", \"module.up_blocks.0.resnets.2.norm1.weight\", \"module.up_blocks.0.resnets.2.norm1.bias\", \"module.up_blocks.0.resnets.2.conv1.conv.weight\", \"module.up_blocks.0.resnets.2.conv1.conv.bias\", \"module.up_blocks.0.resnets.2.time_emb_proj.weight\", \"module.up_blocks.0.resnets.2.time_emb_proj.bias\", \"module.up_blocks.0.resnets.2.norm2.weight\", \"module.up_blocks.0.resnets.2.norm2.bias\", \"module.up_blocks.0.resnets.2.conv2.conv.weight\", \"module.up_blocks.0.resnets.2.conv2.conv.bias\", \"module.up_blocks.0.resnets.2.skip_connection.conv.weight\", \"module.up_blocks.0.resnets.2.skip_connection.conv.bias\", \"module.up_blocks.0.attentions.0.norm.weight\", \"module.up_blocks.0.attentions.0.norm.bias\", \"module.up_blocks.0.attentions.0.to_q.weight\", \"module.up_blocks.0.attentions.0.to_q.bias\", \"module.up_blocks.0.attentions.0.to_k.weight\", \"module.up_blocks.0.attentions.0.to_k.bias\", \"module.up_blocks.0.attentions.0.to_v.weight\", \"module.up_blocks.0.attentions.0.to_v.bias\", \"module.up_blocks.0.attentions.0.proj_attn.weight\", \"module.up_blocks.0.attentions.0.proj_attn.bias\", \"module.up_blocks.0.attentions.1.norm.weight\", \"module.up_blocks.0.attentions.1.norm.bias\", \"module.up_blocks.0.attentions.1.to_q.weight\", \"module.up_blocks.0.attentions.1.to_q.bias\", \"module.up_blocks.0.attentions.1.to_k.weight\", \"module.up_blocks.0.attentions.1.to_k.bias\", \"module.up_blocks.0.attentions.1.to_v.weight\", \"module.up_blocks.0.attentions.1.to_v.bias\", \"module.up_blocks.0.attentions.1.proj_attn.weight\", \"module.up_blocks.0.attentions.1.proj_attn.bias\", \"module.up_blocks.0.attentions.2.norm.weight\", \"module.up_blocks.0.attentions.2.norm.bias\", \"module.up_blocks.0.attentions.2.to_q.weight\", \"module.up_blocks.0.attentions.2.to_q.bias\", \"module.up_blocks.0.attentions.2.to_k.weight\", \"module.up_blocks.0.attentions.2.to_k.bias\", \"module.up_blocks.0.attentions.2.to_v.weight\", \"module.up_blocks.0.attentions.2.to_v.bias\", \"module.up_blocks.0.attentions.2.proj_attn.weight\", \"module.up_blocks.0.attentions.2.proj_attn.bias\", \"module.up_blocks.0.upsampler.conv.conv.weight\", \"module.up_blocks.0.upsampler.conv.conv.bias\", \"module.up_blocks.1.resnets.0.norm1.weight\", \"module.up_blocks.1.resnets.0.norm1.bias\", \"module.up_blocks.1.resnets.0.conv1.conv.weight\", \"module.up_blocks.1.resnets.0.conv1.conv.bias\", \"module.up_blocks.1.resnets.0.time_emb_proj.weight\", \"module.up_blocks.1.resnets.0.time_emb_proj.bias\", \"module.up_blocks.1.resnets.0.norm2.weight\", \"module.up_blocks.1.resnets.0.norm2.bias\", \"module.up_blocks.1.resnets.0.conv2.conv.weight\", \"module.up_blocks.1.resnets.0.conv2.conv.bias\", \"module.up_blocks.1.resnets.0.skip_connection.conv.weight\", \"module.up_blocks.1.resnets.0.skip_connection.conv.bias\", \"module.up_blocks.1.resnets.1.norm1.weight\", \"module.up_blocks.1.resnets.1.norm1.bias\", \"module.up_blocks.1.resnets.1.conv1.conv.weight\", \"module.up_blocks.1.resnets.1.conv1.conv.bias\", \"module.up_blocks.1.resnets.1.time_emb_proj.weight\", \"module.up_blocks.1.resnets.1.time_emb_proj.bias\", \"module.up_blocks.1.resnets.1.norm2.weight\", \"module.up_blocks.1.resnets.1.norm2.bias\", \"module.up_blocks.1.resnets.1.conv2.conv.weight\", \"module.up_blocks.1.resnets.1.conv2.conv.bias\", \"module.up_blocks.1.resnets.1.skip_connection.conv.weight\", \"module.up_blocks.1.resnets.1.skip_connection.conv.bias\", \"module.up_blocks.1.resnets.2.norm1.weight\", \"module.up_blocks.1.resnets.2.norm1.bias\", \"module.up_blocks.1.resnets.2.conv1.conv.weight\", \"module.up_blocks.1.resnets.2.conv1.conv.bias\", \"module.up_blocks.1.resnets.2.time_emb_proj.weight\", \"module.up_blocks.1.resnets.2.time_emb_proj.bias\", \"module.up_blocks.1.resnets.2.norm2.weight\", \"module.up_blocks.1.resnets.2.norm2.bias\", \"module.up_blocks.1.resnets.2.conv2.conv.weight\", \"module.up_blocks.1.resnets.2.conv2.conv.bias\", \"module.up_blocks.1.resnets.2.skip_connection.conv.weight\", \"module.up_blocks.1.resnets.2.skip_connection.conv.bias\", \"module.up_blocks.1.upsampler.conv.conv.weight\", \"module.up_blocks.1.upsampler.conv.conv.bias\", \"module.up_blocks.2.resnets.0.norm1.weight\", \"module.up_blocks.2.resnets.0.norm1.bias\", \"module.up_blocks.2.resnets.0.conv1.conv.weight\", \"module.up_blocks.2.resnets.0.conv1.conv.bias\", \"module.up_blocks.2.resnets.0.time_emb_proj.weight\", \"module.up_blocks.2.resnets.0.time_emb_proj.bias\", \"module.up_blocks.2.resnets.0.norm2.weight\", \"module.up_blocks.2.resnets.0.norm2.bias\", \"module.up_blocks.2.resnets.0.conv2.conv.weight\", \"module.up_blocks.2.resnets.0.conv2.conv.bias\", \"module.up_blocks.2.resnets.0.skip_connection.conv.weight\", \"module.up_blocks.2.resnets.0.skip_connection.conv.bias\", \"module.up_blocks.2.resnets.1.norm1.weight\", \"module.up_blocks.2.resnets.1.norm1.bias\", \"module.up_blocks.2.resnets.1.conv1.conv.weight\", \"module.up_blocks.2.resnets.1.conv1.conv.bias\", \"module.up_blocks.2.resnets.1.time_emb_proj.weight\", \"module.up_blocks.2.resnets.1.time_emb_proj.bias\", \"module.up_blocks.2.resnets.1.norm2.weight\", \"module.up_blocks.2.resnets.1.norm2.bias\", \"module.up_blocks.2.resnets.1.conv2.conv.weight\", \"module.up_blocks.2.resnets.1.conv2.conv.bias\", \"module.up_blocks.2.resnets.1.skip_connection.conv.weight\", \"module.up_blocks.2.resnets.1.skip_connection.conv.bias\", \"module.up_blocks.2.resnets.2.norm1.weight\", \"module.up_blocks.2.resnets.2.norm1.bias\", \"module.up_blocks.2.resnets.2.conv1.conv.weight\", \"module.up_blocks.2.resnets.2.conv1.conv.bias\", \"module.up_blocks.2.resnets.2.time_emb_proj.weight\", \"module.up_blocks.2.resnets.2.time_emb_proj.bias\", \"module.up_blocks.2.resnets.2.norm2.weight\", \"module.up_blocks.2.resnets.2.norm2.bias\", \"module.up_blocks.2.resnets.2.conv2.conv.weight\", \"module.up_blocks.2.resnets.2.conv2.conv.bias\", \"module.up_blocks.2.resnets.2.skip_connection.conv.weight\", \"module.up_blocks.2.resnets.2.skip_connection.conv.bias\", \"module.up_blocks.2.upsampler.conv.conv.weight\", \"module.up_blocks.2.upsampler.conv.conv.bias\", \"module.up_blocks.3.resnets.0.norm1.weight\", \"module.up_blocks.3.resnets.0.norm1.bias\", \"module.up_blocks.3.resnets.0.conv1.conv.weight\", \"module.up_blocks.3.resnets.0.conv1.conv.bias\", \"module.up_blocks.3.resnets.0.time_emb_proj.weight\", \"module.up_blocks.3.resnets.0.time_emb_proj.bias\", \"module.up_blocks.3.resnets.0.norm2.weight\", \"module.up_blocks.3.resnets.0.norm2.bias\", \"module.up_blocks.3.resnets.0.conv2.conv.weight\", \"module.up_blocks.3.resnets.0.conv2.conv.bias\", \"module.up_blocks.3.resnets.0.skip_connection.conv.weight\", \"module.up_blocks.3.resnets.0.skip_connection.conv.bias\", \"module.up_blocks.3.resnets.1.norm1.weight\", \"module.up_blocks.3.resnets.1.norm1.bias\", \"module.up_blocks.3.resnets.1.conv1.conv.weight\", \"module.up_blocks.3.resnets.1.conv1.conv.bias\", \"module.up_blocks.3.resnets.1.time_emb_proj.weight\", \"module.up_blocks.3.resnets.1.time_emb_proj.bias\", \"module.up_blocks.3.resnets.1.norm2.weight\", \"module.up_blocks.3.resnets.1.norm2.bias\", \"module.up_blocks.3.resnets.1.conv2.conv.weight\", \"module.up_blocks.3.resnets.1.conv2.conv.bias\", \"module.up_blocks.3.resnets.1.skip_connection.conv.weight\", \"module.up_blocks.3.resnets.1.skip_connection.conv.bias\", \"module.up_blocks.3.resnets.2.norm1.weight\", \"module.up_blocks.3.resnets.2.norm1.bias\", \"module.up_blocks.3.resnets.2.conv1.conv.weight\", \"module.up_blocks.3.resnets.2.conv1.conv.bias\", \"module.up_blocks.3.resnets.2.time_emb_proj.weight\", \"module.up_blocks.3.resnets.2.time_emb_proj.bias\", \"module.up_blocks.3.resnets.2.norm2.weight\", \"module.up_blocks.3.resnets.2.norm2.bias\", \"module.up_blocks.3.resnets.2.conv2.conv.weight\", \"module.up_blocks.3.resnets.2.conv2.conv.bias\", \"module.up_blocks.3.resnets.2.skip_connection.conv.weight\", \"module.up_blocks.3.resnets.2.skip_connection.conv.bias\", \"module.out.0.weight\", \"module.out.0.bias\", \"module.out.2.conv.weight\", \"module.out.2.conv.bias\". ",
     "output_type": "error",
     "traceback": [
      "\u001b[0;31m---------------------------------------------------------------------------\u001b[0m",
      "\u001b[0;31mRuntimeError\u001b[0m                              Traceback (most recent call last)",
      "Cell \u001b[0;32mIn[3], line 51\u001b[0m\n\u001b[1;32m     49\u001b[0m \u001b[39m#model_filename = '/acmenas/hakrami/3D_lesion_DF/models/halfres/model_epoch984.pt'\u001b[39;00m\n\u001b[1;32m     50\u001b[0m model_filename \u001b[39m=\u001b[39m \u001b[39m'\u001b[39m\u001b[39m/acmenas/hakrami/3D_lesion_DF/models/norm/model_epoch199.pt\u001b[39m\u001b[39m'\u001b[39m\n\u001b[0;32m---> 51\u001b[0m model\u001b[39m.\u001b[39;49mload_state_dict(torch\u001b[39m.\u001b[39;49mload(model_filename))\n\u001b[1;32m     53\u001b[0m model\u001b[39m.\u001b[39mto(device)\n\u001b[1;32m     54\u001b[0m \u001b[39mif\u001b[39;00m torch\u001b[39m.\u001b[39mcuda\u001b[39m.\u001b[39mdevice_count() \u001b[39m>\u001b[39m \u001b[39m1\u001b[39m:\n",
      "File \u001b[0;32m~/miniconda3/envs/monai/lib/python3.9/site-packages/torch/nn/modules/module.py:2041\u001b[0m, in \u001b[0;36mModule.load_state_dict\u001b[0;34m(self, state_dict, strict)\u001b[0m\n\u001b[1;32m   2036\u001b[0m         error_msgs\u001b[39m.\u001b[39minsert(\n\u001b[1;32m   2037\u001b[0m             \u001b[39m0\u001b[39m, \u001b[39m'\u001b[39m\u001b[39mMissing key(s) in state_dict: \u001b[39m\u001b[39m{}\u001b[39;00m\u001b[39m. \u001b[39m\u001b[39m'\u001b[39m\u001b[39m.\u001b[39mformat(\n\u001b[1;32m   2038\u001b[0m                 \u001b[39m'\u001b[39m\u001b[39m, \u001b[39m\u001b[39m'\u001b[39m\u001b[39m.\u001b[39mjoin(\u001b[39m'\u001b[39m\u001b[39m\"\u001b[39m\u001b[39m{}\u001b[39;00m\u001b[39m\"\u001b[39m\u001b[39m'\u001b[39m\u001b[39m.\u001b[39mformat(k) \u001b[39mfor\u001b[39;00m k \u001b[39min\u001b[39;00m missing_keys)))\n\u001b[1;32m   2040\u001b[0m \u001b[39mif\u001b[39;00m \u001b[39mlen\u001b[39m(error_msgs) \u001b[39m>\u001b[39m \u001b[39m0\u001b[39m:\n\u001b[0;32m-> 2041\u001b[0m     \u001b[39mraise\u001b[39;00m \u001b[39mRuntimeError\u001b[39;00m(\u001b[39m'\u001b[39m\u001b[39mError(s) in loading state_dict for \u001b[39m\u001b[39m{}\u001b[39;00m\u001b[39m:\u001b[39m\u001b[39m\\n\u001b[39;00m\u001b[39m\\t\u001b[39;00m\u001b[39m{}\u001b[39;00m\u001b[39m'\u001b[39m\u001b[39m.\u001b[39mformat(\n\u001b[1;32m   2042\u001b[0m                        \u001b[39mself\u001b[39m\u001b[39m.\u001b[39m\u001b[39m__class__\u001b[39m\u001b[39m.\u001b[39m\u001b[39m__name__\u001b[39m, \u001b[39m\"\u001b[39m\u001b[39m\\n\u001b[39;00m\u001b[39m\\t\u001b[39;00m\u001b[39m\"\u001b[39m\u001b[39m.\u001b[39mjoin(error_msgs)))\n\u001b[1;32m   2043\u001b[0m \u001b[39mreturn\u001b[39;00m _IncompatibleKeys(missing_keys, unexpected_keys)\n",
      "\u001b[0;31mRuntimeError\u001b[0m: Error(s) in loading state_dict for DiffusionModelUNet:\n\tMissing key(s) in state_dict: \"conv_in.conv.weight\", \"conv_in.conv.bias\", \"time_embed.0.weight\", \"time_embed.0.bias\", \"time_embed.2.weight\", \"time_embed.2.bias\", \"down_blocks.0.resnets.0.norm1.weight\", \"down_blocks.0.resnets.0.norm1.bias\", \"down_blocks.0.resnets.0.conv1.conv.weight\", \"down_blocks.0.resnets.0.conv1.conv.bias\", \"down_blocks.0.resnets.0.time_emb_proj.weight\", \"down_blocks.0.resnets.0.time_emb_proj.bias\", \"down_blocks.0.resnets.0.norm2.weight\", \"down_blocks.0.resnets.0.norm2.bias\", \"down_blocks.0.resnets.0.conv2.conv.weight\", \"down_blocks.0.resnets.0.conv2.conv.bias\", \"down_blocks.0.resnets.1.norm1.weight\", \"down_blocks.0.resnets.1.norm1.bias\", \"down_blocks.0.resnets.1.conv1.conv.weight\", \"down_blocks.0.resnets.1.conv1.conv.bias\", \"down_blocks.0.resnets.1.time_emb_proj.weight\", \"down_blocks.0.resnets.1.time_emb_proj.bias\", \"down_blocks.0.resnets.1.norm2.weight\", \"down_blocks.0.resnets.1.norm2.bias\", \"down_blocks.0.resnets.1.conv2.conv.weight\", \"down_blocks.0.resnets.1.conv2.conv.bias\", \"down_blocks.0.downsampler.op.conv.weight\", \"down_blocks.0.downsampler.op.conv.bias\", \"down_blocks.1.resnets.0.norm1.weight\", \"down_blocks.1.resnets.0.norm1.bias\", \"down_blocks.1.resnets.0.conv1.conv.weight\", \"down_blocks.1.resnets.0.conv1.conv.bias\", \"down_blocks.1.resnets.0.time_emb_proj.weight\", \"down_blocks.1.resnets.0.time_emb_proj.bias\", \"down_blocks.1.resnets.0.norm2.weight\", \"down_blocks.1.resnets.0.norm2.bias\", \"down_blocks.1.resnets.0.conv2.conv.weight\", \"down_blocks.1.resnets.0.conv2.conv.bias\", \"down_blocks.1.resnets.0.skip_connection.conv.weight\", \"down_blocks.1.resnets.0.skip_connection.conv.bias\", \"down_blocks.1.resnets.1.norm1.weight\", \"down_blocks.1.resnets.1.norm1.bias\", \"down_blocks.1.resnets.1.conv1.conv.weight\", \"down_blocks.1.resnets.1.conv1.conv.bias\", \"down_blocks.1.resnets.1.time_emb_proj.weight\", \"down_blocks.1.resnets.1.time_emb_proj.bias\", \"down_blocks.1.resnets.1.norm2.weight\", \"down_blocks.1.resnets.1.norm2.bias\", \"down_blocks.1.resnets.1.conv2.conv.weight\", \"down_blocks.1.resnets.1.conv2.conv.bias\", \"down_blocks.1.downsampler.op.conv.weight\", \"down_blocks.1.downsampler.op.conv.bias\", \"down_blocks.2.resnets.0.norm1.weight\", \"down_blocks.2.resnets.0.norm1.bias\", \"down_blocks.2.resnets.0.conv1.conv.weight\", \"down_blocks.2.resnets.0.conv1.conv.bias\", \"down_blocks.2.resnets.0.time_emb_proj.weight\", \"down_blocks.2.resnets.0.time_emb_proj.bias\", \"down_blocks.2.resnets.0.norm2.weight\", \"down_blocks.2.resnets.0.norm2.bias\", \"down_blocks.2.resnets.0.conv2.conv.weight\", \"down_blocks.2.resnets.0.conv2.conv.bias\", \"down_blocks.2.resnets.0.skip_connection.conv.weight\", \"down_blocks.2.resnets.0.skip_connection.conv.bias\", \"down_blocks.2.resnets.1.norm1.weight\", \"down_blocks.2.resnets.1.norm1.bias\", \"down_blocks.2.resnets.1.conv1.conv.weight\", \"down_blocks.2.resnets.1.conv1.conv.bias\", \"down_blocks.2.resnets.1.time_emb_proj.weight\", \"down_blocks.2.resnets.1.time_emb_proj.bias\", \"down_blocks.2.resnets.1.norm2.weight\", \"down_blocks.2.resnets.1.norm2.bias\", \"down_blocks.2.resnets.1.conv2.conv.weight\", \"down_blocks.2.resnets.1.conv2.conv.bias\", \"down_blocks.2.downsampler.op.conv.weight\", \"down_blocks.2.downsampler.op.conv.bias\", \"down_blocks.3.attentions.0.norm.weight\", \"down_blocks.3.attentions.0.norm.bias\", \"down_blocks.3.attentions.0.to_q.weight\", \"down_blocks.3.attentions.0.to_q.bias\", \"down_blocks.3.attentions.0.to_k.weight\", \"down_blocks.3.attentions.0.to_k.bias\", \"down_blocks.3.attentions.0.to_v.weight\", \"down_blocks.3.attentions.0.to_v.bias\", \"down_blocks.3.attentions.0.proj_attn.weight\", \"down_blocks.3.attentions.0.proj_attn.bias\", \"down_blocks.3.attentions.1.norm.weight\", \"down_blocks.3.attentions.1.norm.bias\", \"down_blocks.3.attentions.1.to_q.weight\", \"down_blocks.3.attentions.1.to_q.bias\", \"down_blocks.3.attentions.1.to_k.weight\", \"down_blocks.3.attentions.1.to_k.bias\", \"down_blocks.3.attentions.1.to_v.weight\", \"down_blocks.3.attentions.1.to_v.bias\", \"down_blocks.3.attentions.1.proj_attn.weight\", \"down_blocks.3.attentions.1.proj_attn.bias\", \"down_blocks.3.resnets.0.norm1.weight\", \"down_blocks.3.resnets.0.norm1.bias\", \"down_blocks.3.resnets.0.conv1.conv.weight\", \"down_blocks.3.resnets.0.conv1.conv.bias\", \"down_blocks.3.resnets.0.time_emb_proj.weight\", \"down_blocks.3.resnets.0.time_emb_proj.bias\", \"down_blocks.3.resnets.0.norm2.weight\", \"down_blocks.3.resnets.0.norm2.bias\", \"down_blocks.3.resnets.0.conv2.conv.weight\", \"down_blocks.3.resnets.0.conv2.conv.bias\", \"down_blocks.3.resnets.1.norm1.weight\", \"down_blocks.3.resnets.1.norm1.bias\", \"down_blocks.3.resnets.1.conv1.conv.weight\", \"down_blocks.3.resnets.1.conv1.conv.bias\", \"down_blocks.3.resnets.1.time_emb_proj.weight\", \"down_blocks.3.resnets.1.time_emb_proj.bias\", \"down_blocks.3.resnets.1.norm2.weight\", \"down_blocks.3.resnets.1.norm2.bias\", \"down_blocks.3.resnets.1.conv2.conv.weight\", \"down_blocks.3.resnets.1.conv2.conv.bias\", \"middle_block.resnet_1.norm1.weight\", \"middle_block.resnet_1.norm1.bias\", \"middle_block.resnet_1.conv1.conv.weight\", \"middle_block.resnet_1.conv1.conv.bias\", \"middle_block.resnet_1.time_emb_proj.weight\", \"middle_block.resnet_1.time_emb_proj.bias\", \"middle_block.resnet_1.norm2.weight\", \"middle_block.resnet_1.norm2.bias\", \"middle_block.resnet_1.conv2.conv.weight\", \"middle_block.resnet_1.conv2.conv.bias\", \"middle_block.attention.norm.weight\", \"middle_block.attention.norm.bias\", \"middle_block.attention.to_q.weight\", \"middle_block.attention.to_q.bias\", \"middle_block.attention.to_k.weight\", \"middle_block.attention.to_k.bias\", \"middle_block.attention.to_v.weight\", \"middle_block.attention.to_v.bias\", \"middle_block.attention.proj_attn.weight\", \"middle_block.attention.proj_attn.bias\", \"middle_block.resnet_2.norm1.weight\", \"middle_block.resnet_2.norm1.bias\", \"middle_block.resnet_2.conv1.conv.weight\", \"middle_block.resnet_2.conv1.conv.bias\", \"middle_block.resnet_2.time_emb_proj.weight\", \"middle_block.resnet_2.time_emb_proj.bias\", \"middle_block.resnet_2.norm2.weight\", \"middle_block.resnet_2.norm2.bias\", \"middle_block.resnet_2.conv2.conv.weight\", \"middle_block.resnet_2.conv2.conv.bias\", \"up_blocks.0.resnets.0.norm1.weight\", \"up_blocks.0.resnets.0.norm1.bias\", \"up_blocks.0.resnets.0.conv1.conv.weight\", \"up_blocks.0.resnets.0.conv1.conv.bias\", \"up_blocks.0.resnets.0.time_emb_proj.weight\", \"up_blocks.0.resnets.0.time_emb_proj.bias\", \"up_blocks.0.resnets.0.norm2.weight\", \"up_blocks.0.resnets.0.norm2.bias\", \"up_blocks.0.resnets.0.conv2.conv.weight\", \"up_blocks.0.resnets.0.conv2.conv.bias\", \"up_blocks.0.resnets.0.skip_connection.conv.weight\", \"up_blocks.0.resnets.0.skip_connection.conv.bias\", \"up_blocks.0.resnets.1.norm1.weight\", \"up_blocks.0.resnets.1.norm1.bias\", \"up_blocks.0.resnets.1.conv1.conv.weight\", \"up_blocks.0.resnets.1.conv1.conv.bias\", \"up_blocks.0.resnets.1.time_emb_proj.weight\", \"up_blocks.0.resnets.1.time_emb_proj.bias\", \"up_blocks.0.resnets.1.norm2.weight\", \"up_blocks.0.resnets.1.norm2.bias\", \"up_blocks.0.resnets.1.conv2.conv.weight\", \"up_blocks.0.resnets.1.conv2.conv.bias\", \"up_blocks.0.resnets.1.skip_connection.conv.weight\", \"up_blocks.0.resnets.1.skip_connection.conv.bias\", \"up_blocks.0.resnets.2.norm1.weight\", \"up_blocks.0.resnets.2.norm1.bias\", \"up_blocks.0.resnets.2.conv1.conv.weight\", \"up_blocks.0.resnets.2.conv1.conv.bias\", \"up_blocks.0.resnets.2.time_emb_proj.weight\", \"up_blocks.0.resnets.2.time_emb_proj.bias\", \"up_blocks.0.resnets.2.norm2.weight\", \"up_blocks.0.resnets.2.norm2.bias\", \"up_blocks.0.resnets.2.conv2.conv.weight\", \"up_blocks.0.resnets.2.conv2.conv.bias\", \"up_blocks.0.resnets.2.skip_connection.conv.weight\", \"up_blocks.0.resnets.2.skip_connection.conv.bias\", \"up_blocks.0.attentions.0.norm.weight\", \"up_blocks.0.attentions.0.norm.bias\", \"up_blocks.0.attentions.0.to_q.weight\", \"up_blocks.0.attentions.0.to_q.bias\", \"up_blocks.0.attentions.0.to_k.weight\", \"up_blocks.0.attentions.0.to_k.bias\", \"up_blocks.0.attentions.0.to_v.weight\", \"up_blocks.0.attentions.0.to_v.bias\", \"up_blocks.0.attentions.0.proj_attn.weight\", \"up_blocks.0.attentions.0.proj_attn.bias\", \"up_blocks.0.attentions.1.norm.weight\", \"up_blocks.0.attentions.1.norm.bias\", \"up_blocks.0.attentions.1.to_q.weight\", \"up_blocks.0.attentions.1.to_q.bias\", \"up_blocks.0.attentions.1.to_k.weight\", \"up_blocks.0.attentions.1.to_k.bias\", \"up_blocks.0.attentions.1.to_v.weight\", \"up_blocks.0.attentions.1.to_v.bias\", \"up_blocks.0.attentions.1.proj_attn.weight\", \"up_blocks.0.attentions.1.proj_attn.bias\", \"up_blocks.0.attentions.2.norm.weight\", \"up_blocks.0.attentions.2.norm.bias\", \"up_blocks.0.attentions.2.to_q.weight\", \"up_blocks.0.attentions.2.to_q.bias\", \"up_blocks.0.attentions.2.to_k.weight\", \"up_blocks.0.attentions.2.to_k.bias\", \"up_blocks.0.attentions.2.to_v.weight\", \"up_blocks.0.attentions.2.to_v.bias\", \"up_blocks.0.attentions.2.proj_attn.weight\", \"up_blocks.0.attentions.2.proj_attn.bias\", \"up_blocks.0.upsampler.conv.conv.weight\", \"up_blocks.0.upsampler.conv.conv.bias\", \"up_blocks.1.resnets.0.norm1.weight\", \"up_blocks.1.resnets.0.norm1.bias\", \"up_blocks.1.resnets.0.conv1.conv.weight\", \"up_blocks.1.resnets.0.conv1.conv.bias\", \"up_blocks.1.resnets.0.time_emb_proj.weight\", \"up_blocks.1.resnets.0.time_emb_proj.bias\", \"up_blocks.1.resnets.0.norm2.weight\", \"up_blocks.1.resnets.0.norm2.bias\", \"up_blocks.1.resnets.0.conv2.conv.weight\", \"up_blocks.1.resnets.0.conv2.conv.bias\", \"up_blocks.1.resnets.0.skip_connection.conv.weight\", \"up_blocks.1.resnets.0.skip_connection.conv.bias\", \"up_blocks.1.resnets.1.norm1.weight\", \"up_blocks.1.resnets.1.norm1.bias\", \"up_blocks.1.resnets.1.conv1.conv.weight\", \"up_blocks.1.resnets.1.conv1.conv.bias\", \"up_blocks.1.resnets.1.time_emb_proj.weight\", \"up_blocks.1.resnets.1.time_emb_proj.bias\", \"up_blocks.1.resnets.1.norm2.weight\", \"up_blocks.1.resnets.1.norm2.bias\", \"up_blocks.1.resnets.1.conv2.conv.weight\", \"up_blocks.1.resnets.1.conv2.conv.bias\", \"up_blocks.1.resnets.1.skip_connection.conv.weight\", \"up_blocks.1.resnets.1.skip_connection.conv.bias\", \"up_blocks.1.resnets.2.norm1.weight\", \"up_blocks.1.resnets.2.norm1.bias\", \"up_blocks.1.resnets.2.conv1.conv.weight\", \"up_blocks.1.resnets.2.conv1.conv.bias\", \"up_blocks.1.resnets.2.time_emb_proj.weight\", \"up_blocks.1.resnets.2.time_emb_proj.bias\", \"up_blocks.1.resnets.2.norm2.weight\", \"up_blocks.1.resnets.2.norm2.bias\", \"up_blocks.1.resnets.2.conv2.conv.weight\", \"up_blocks.1.resnets.2.conv2.conv.bias\", \"up_blocks.1.resnets.2.skip_connection.conv.weight\", \"up_blocks.1.resnets.2.skip_connection.conv.bias\", \"up_blocks.1.upsampler.conv.conv.weight\", \"up_blocks.1.upsampler.conv.conv.bias\", \"up_blocks.2.resnets.0.norm1.weight\", \"up_blocks.2.resnets.0.norm1.bias\", \"up_blocks.2.resnets.0.conv1.conv.weight\", \"up_blocks.2.resnets.0.conv1.conv.bias\", \"up_blocks.2.resnets.0.time_emb_proj.weight\", \"up_blocks.2.resnets.0.time_emb_proj.bias\", \"up_blocks.2.resnets.0.norm2.weight\", \"up_blocks.2.resnets.0.norm2.bias\", \"up_blocks.2.resnets.0.conv2.conv.weight\", \"up_blocks.2.resnets.0.conv2.conv.bias\", \"up_blocks.2.resnets.0.skip_connection.conv.weight\", \"up_blocks.2.resnets.0.skip_connection.conv.bias\", \"up_blocks.2.resnets.1.norm1.weight\", \"up_blocks.2.resnets.1.norm1.bias\", \"up_blocks.2.resnets.1.conv1.conv.weight\", \"up_blocks.2.resnets.1.conv1.conv.bias\", \"up_blocks.2.resnets.1.time_emb_proj.weight\", \"up_blocks.2.resnets.1.time_emb_proj.bias\", \"up_blocks.2.resnets.1.norm2.weight\", \"up_blocks.2.resnets.1.norm2.bias\", \"up_blocks.2.resnets.1.conv2.conv.weight\", \"up_blocks.2.resnets.1.conv2.conv.bias\", \"up_blocks.2.resnets.1.skip_connection.conv.weight\", \"up_blocks.2.resnets.1.skip_connection.conv.bias\", \"up_blocks.2.resnets.2.norm1.weight\", \"up_blocks.2.resnets.2.norm1.bias\", \"up_blocks.2.resnets.2.conv1.conv.weight\", \"up_blocks.2.resnets.2.conv1.conv.bias\", \"up_blocks.2.resnets.2.time_emb_proj.weight\", \"up_blocks.2.resnets.2.time_emb_proj.bias\", \"up_blocks.2.resnets.2.norm2.weight\", \"up_blocks.2.resnets.2.norm2.bias\", \"up_blocks.2.resnets.2.conv2.conv.weight\", \"up_blocks.2.resnets.2.conv2.conv.bias\", \"up_blocks.2.resnets.2.skip_connection.conv.weight\", \"up_blocks.2.resnets.2.skip_connection.conv.bias\", \"up_blocks.2.upsampler.conv.conv.weight\", \"up_blocks.2.upsampler.conv.conv.bias\", \"up_blocks.3.resnets.0.norm1.weight\", \"up_blocks.3.resnets.0.norm1.bias\", \"up_blocks.3.resnets.0.conv1.conv.weight\", \"up_blocks.3.resnets.0.conv1.conv.bias\", \"up_blocks.3.resnets.0.time_emb_proj.weight\", \"up_blocks.3.resnets.0.time_emb_proj.bias\", \"up_blocks.3.resnets.0.norm2.weight\", \"up_blocks.3.resnets.0.norm2.bias\", \"up_blocks.3.resnets.0.conv2.conv.weight\", \"up_blocks.3.resnets.0.conv2.conv.bias\", \"up_blocks.3.resnets.0.skip_connection.conv.weight\", \"up_blocks.3.resnets.0.skip_connection.conv.bias\", \"up_blocks.3.resnets.1.norm1.weight\", \"up_blocks.3.resnets.1.norm1.bias\", \"up_blocks.3.resnets.1.conv1.conv.weight\", \"up_blocks.3.resnets.1.conv1.conv.bias\", \"up_blocks.3.resnets.1.time_emb_proj.weight\", \"up_blocks.3.resnets.1.time_emb_proj.bias\", \"up_blocks.3.resnets.1.norm2.weight\", \"up_blocks.3.resnets.1.norm2.bias\", \"up_blocks.3.resnets.1.conv2.conv.weight\", \"up_blocks.3.resnets.1.conv2.conv.bias\", \"up_blocks.3.resnets.1.skip_connection.conv.weight\", \"up_blocks.3.resnets.1.skip_connection.conv.bias\", \"up_blocks.3.resnets.2.norm1.weight\", \"up_blocks.3.resnets.2.norm1.bias\", \"up_blocks.3.resnets.2.conv1.conv.weight\", \"up_blocks.3.resnets.2.conv1.conv.bias\", \"up_blocks.3.resnets.2.time_emb_proj.weight\", \"up_blocks.3.resnets.2.time_emb_proj.bias\", \"up_blocks.3.resnets.2.norm2.weight\", \"up_blocks.3.resnets.2.norm2.bias\", \"up_blocks.3.resnets.2.conv2.conv.weight\", \"up_blocks.3.resnets.2.conv2.conv.bias\", \"up_blocks.3.resnets.2.skip_connection.conv.weight\", \"up_blocks.3.resnets.2.skip_connection.conv.bias\", \"out.0.weight\", \"out.0.bias\", \"out.2.conv.weight\", \"out.2.conv.bias\". \n\tUnexpected key(s) in state_dict: \"module.conv_in.conv.weight\", \"module.conv_in.conv.bias\", \"module.time_embed.0.weight\", \"module.time_embed.0.bias\", \"module.time_embed.2.weight\", \"module.time_embed.2.bias\", \"module.down_blocks.0.resnets.0.norm1.weight\", \"module.down_blocks.0.resnets.0.norm1.bias\", \"module.down_blocks.0.resnets.0.conv1.conv.weight\", \"module.down_blocks.0.resnets.0.conv1.conv.bias\", \"module.down_blocks.0.resnets.0.time_emb_proj.weight\", \"module.down_blocks.0.resnets.0.time_emb_proj.bias\", \"module.down_blocks.0.resnets.0.norm2.weight\", \"module.down_blocks.0.resnets.0.norm2.bias\", \"module.down_blocks.0.resnets.0.conv2.conv.weight\", \"module.down_blocks.0.resnets.0.conv2.conv.bias\", \"module.down_blocks.0.resnets.1.norm1.weight\", \"module.down_blocks.0.resnets.1.norm1.bias\", \"module.down_blocks.0.resnets.1.conv1.conv.weight\", \"module.down_blocks.0.resnets.1.conv1.conv.bias\", \"module.down_blocks.0.resnets.1.time_emb_proj.weight\", \"module.down_blocks.0.resnets.1.time_emb_proj.bias\", \"module.down_blocks.0.resnets.1.norm2.weight\", \"module.down_blocks.0.resnets.1.norm2.bias\", \"module.down_blocks.0.resnets.1.conv2.conv.weight\", \"module.down_blocks.0.resnets.1.conv2.conv.bias\", \"module.down_blocks.0.downsampler.op.conv.weight\", \"module.down_blocks.0.downsampler.op.conv.bias\", \"module.down_blocks.1.resnets.0.norm1.weight\", \"module.down_blocks.1.resnets.0.norm1.bias\", \"module.down_blocks.1.resnets.0.conv1.conv.weight\", \"module.down_blocks.1.resnets.0.conv1.conv.bias\", \"module.down_blocks.1.resnets.0.time_emb_proj.weight\", \"module.down_blocks.1.resnets.0.time_emb_proj.bias\", \"module.down_blocks.1.resnets.0.norm2.weight\", \"module.down_blocks.1.resnets.0.norm2.bias\", \"module.down_blocks.1.resnets.0.conv2.conv.weight\", \"module.down_blocks.1.resnets.0.conv2.conv.bias\", \"module.down_blocks.1.resnets.0.skip_connection.conv.weight\", \"module.down_blocks.1.resnets.0.skip_connection.conv.bias\", \"module.down_blocks.1.resnets.1.norm1.weight\", \"module.down_blocks.1.resnets.1.norm1.bias\", \"module.down_blocks.1.resnets.1.conv1.conv.weight\", \"module.down_blocks.1.resnets.1.conv1.conv.bias\", \"module.down_blocks.1.resnets.1.time_emb_proj.weight\", \"module.down_blocks.1.resnets.1.time_emb_proj.bias\", \"module.down_blocks.1.resnets.1.norm2.weight\", \"module.down_blocks.1.resnets.1.norm2.bias\", \"module.down_blocks.1.resnets.1.conv2.conv.weight\", \"module.down_blocks.1.resnets.1.conv2.conv.bias\", \"module.down_blocks.1.downsampler.op.conv.weight\", \"module.down_blocks.1.downsampler.op.conv.bias\", \"module.down_blocks.2.resnets.0.norm1.weight\", \"module.down_blocks.2.resnets.0.norm1.bias\", \"module.down_blocks.2.resnets.0.conv1.conv.weight\", \"module.down_blocks.2.resnets.0.conv1.conv.bias\", \"module.down_blocks.2.resnets.0.time_emb_proj.weight\", \"module.down_blocks.2.resnets.0.time_emb_proj.bias\", \"module.down_blocks.2.resnets.0.norm2.weight\", \"module.down_blocks.2.resnets.0.norm2.bias\", \"module.down_blocks.2.resnets.0.conv2.conv.weight\", \"module.down_blocks.2.resnets.0.conv2.conv.bias\", \"module.down_blocks.2.resnets.0.skip_connection.conv.weight\", \"module.down_blocks.2.resnets.0.skip_connection.conv.bias\", \"module.down_blocks.2.resnets.1.norm1.weight\", \"module.down_blocks.2.resnets.1.norm1.bias\", \"module.down_blocks.2.resnets.1.conv1.conv.weight\", \"module.down_blocks.2.resnets.1.conv1.conv.bias\", \"module.down_blocks.2.resnets.1.time_emb_proj.weight\", \"module.down_blocks.2.resnets.1.time_emb_proj.bias\", \"module.down_blocks.2.resnets.1.norm2.weight\", \"module.down_blocks.2.resnets.1.norm2.bias\", \"module.down_blocks.2.resnets.1.conv2.conv.weight\", \"module.down_blocks.2.resnets.1.conv2.conv.bias\", \"module.down_blocks.2.downsampler.op.conv.weight\", \"module.down_blocks.2.downsampler.op.conv.bias\", \"module.down_blocks.3.attentions.0.norm.weight\", \"module.down_blocks.3.attentions.0.norm.bias\", \"module.down_blocks.3.attentions.0.to_q.weight\", \"module.down_blocks.3.attentions.0.to_q.bias\", \"module.down_blocks.3.attentions.0.to_k.weight\", \"module.down_blocks.3.attentions.0.to_k.bias\", \"module.down_blocks.3.attentions.0.to_v.weight\", \"module.down_blocks.3.attentions.0.to_v.bias\", \"module.down_blocks.3.attentions.0.proj_attn.weight\", \"module.down_blocks.3.attentions.0.proj_attn.bias\", \"module.down_blocks.3.attentions.1.norm.weight\", \"module.down_blocks.3.attentions.1.norm.bias\", \"module.down_blocks.3.attentions.1.to_q.weight\", \"module.down_blocks.3.attentions.1.to_q.bias\", \"module.down_blocks.3.attentions.1.to_k.weight\", \"module.down_blocks.3.attentions.1.to_k.bias\", \"module.down_blocks.3.attentions.1.to_v.weight\", \"module.down_blocks.3.attentions.1.to_v.bias\", \"module.down_blocks.3.attentions.1.proj_attn.weight\", \"module.down_blocks.3.attentions.1.proj_attn.bias\", \"module.down_blocks.3.resnets.0.norm1.weight\", \"module.down_blocks.3.resnets.0.norm1.bias\", \"module.down_blocks.3.resnets.0.conv1.conv.weight\", \"module.down_blocks.3.resnets.0.conv1.conv.bias\", \"module.down_blocks.3.resnets.0.time_emb_proj.weight\", \"module.down_blocks.3.resnets.0.time_emb_proj.bias\", \"module.down_blocks.3.resnets.0.norm2.weight\", \"module.down_blocks.3.resnets.0.norm2.bias\", \"module.down_blocks.3.resnets.0.conv2.conv.weight\", \"module.down_blocks.3.resnets.0.conv2.conv.bias\", \"module.down_blocks.3.resnets.1.norm1.weight\", \"module.down_blocks.3.resnets.1.norm1.bias\", \"module.down_blocks.3.resnets.1.conv1.conv.weight\", \"module.down_blocks.3.resnets.1.conv1.conv.bias\", \"module.down_blocks.3.resnets.1.time_emb_proj.weight\", \"module.down_blocks.3.resnets.1.time_emb_proj.bias\", \"module.down_blocks.3.resnets.1.norm2.weight\", \"module.down_blocks.3.resnets.1.norm2.bias\", \"module.down_blocks.3.resnets.1.conv2.conv.weight\", \"module.down_blocks.3.resnets.1.conv2.conv.bias\", \"module.middle_block.resnet_1.norm1.weight\", \"module.middle_block.resnet_1.norm1.bias\", \"module.middle_block.resnet_1.conv1.conv.weight\", \"module.middle_block.resnet_1.conv1.conv.bias\", \"module.middle_block.resnet_1.time_emb_proj.weight\", \"module.middle_block.resnet_1.time_emb_proj.bias\", \"module.middle_block.resnet_1.norm2.weight\", \"module.middle_block.resnet_1.norm2.bias\", \"module.middle_block.resnet_1.conv2.conv.weight\", \"module.middle_block.resnet_1.conv2.conv.bias\", \"module.middle_block.attention.norm.weight\", \"module.middle_block.attention.norm.bias\", \"module.middle_block.attention.to_q.weight\", \"module.middle_block.attention.to_q.bias\", \"module.middle_block.attention.to_k.weight\", \"module.middle_block.attention.to_k.bias\", \"module.middle_block.attention.to_v.weight\", \"module.middle_block.attention.to_v.bias\", \"module.middle_block.attention.proj_attn.weight\", \"module.middle_block.attention.proj_attn.bias\", \"module.middle_block.resnet_2.norm1.weight\", \"module.middle_block.resnet_2.norm1.bias\", \"module.middle_block.resnet_2.conv1.conv.weight\", \"module.middle_block.resnet_2.conv1.conv.bias\", \"module.middle_block.resnet_2.time_emb_proj.weight\", \"module.middle_block.resnet_2.time_emb_proj.bias\", \"module.middle_block.resnet_2.norm2.weight\", \"module.middle_block.resnet_2.norm2.bias\", \"module.middle_block.resnet_2.conv2.conv.weight\", \"module.middle_block.resnet_2.conv2.conv.bias\", \"module.up_blocks.0.resnets.0.norm1.weight\", \"module.up_blocks.0.resnets.0.norm1.bias\", \"module.up_blocks.0.resnets.0.conv1.conv.weight\", \"module.up_blocks.0.resnets.0.conv1.conv.bias\", \"module.up_blocks.0.resnets.0.time_emb_proj.weight\", \"module.up_blocks.0.resnets.0.time_emb_proj.bias\", \"module.up_blocks.0.resnets.0.norm2.weight\", \"module.up_blocks.0.resnets.0.norm2.bias\", \"module.up_blocks.0.resnets.0.conv2.conv.weight\", \"module.up_blocks.0.resnets.0.conv2.conv.bias\", \"module.up_blocks.0.resnets.0.skip_connection.conv.weight\", \"module.up_blocks.0.resnets.0.skip_connection.conv.bias\", \"module.up_blocks.0.resnets.1.norm1.weight\", \"module.up_blocks.0.resnets.1.norm1.bias\", \"module.up_blocks.0.resnets.1.conv1.conv.weight\", \"module.up_blocks.0.resnets.1.conv1.conv.bias\", \"module.up_blocks.0.resnets.1.time_emb_proj.weight\", \"module.up_blocks.0.resnets.1.time_emb_proj.bias\", \"module.up_blocks.0.resnets.1.norm2.weight\", \"module.up_blocks.0.resnets.1.norm2.bias\", \"module.up_blocks.0.resnets.1.conv2.conv.weight\", \"module.up_blocks.0.resnets.1.conv2.conv.bias\", \"module.up_blocks.0.resnets.1.skip_connection.conv.weight\", \"module.up_blocks.0.resnets.1.skip_connection.conv.bias\", \"module.up_blocks.0.resnets.2.norm1.weight\", \"module.up_blocks.0.resnets.2.norm1.bias\", \"module.up_blocks.0.resnets.2.conv1.conv.weight\", \"module.up_blocks.0.resnets.2.conv1.conv.bias\", \"module.up_blocks.0.resnets.2.time_emb_proj.weight\", \"module.up_blocks.0.resnets.2.time_emb_proj.bias\", \"module.up_blocks.0.resnets.2.norm2.weight\", \"module.up_blocks.0.resnets.2.norm2.bias\", \"module.up_blocks.0.resnets.2.conv2.conv.weight\", \"module.up_blocks.0.resnets.2.conv2.conv.bias\", \"module.up_blocks.0.resnets.2.skip_connection.conv.weight\", \"module.up_blocks.0.resnets.2.skip_connection.conv.bias\", \"module.up_blocks.0.attentions.0.norm.weight\", \"module.up_blocks.0.attentions.0.norm.bias\", \"module.up_blocks.0.attentions.0.to_q.weight\", \"module.up_blocks.0.attentions.0.to_q.bias\", \"module.up_blocks.0.attentions.0.to_k.weight\", \"module.up_blocks.0.attentions.0.to_k.bias\", \"module.up_blocks.0.attentions.0.to_v.weight\", \"module.up_blocks.0.attentions.0.to_v.bias\", \"module.up_blocks.0.attentions.0.proj_attn.weight\", \"module.up_blocks.0.attentions.0.proj_attn.bias\", \"module.up_blocks.0.attentions.1.norm.weight\", \"module.up_blocks.0.attentions.1.norm.bias\", \"module.up_blocks.0.attentions.1.to_q.weight\", \"module.up_blocks.0.attentions.1.to_q.bias\", \"module.up_blocks.0.attentions.1.to_k.weight\", \"module.up_blocks.0.attentions.1.to_k.bias\", \"module.up_blocks.0.attentions.1.to_v.weight\", \"module.up_blocks.0.attentions.1.to_v.bias\", \"module.up_blocks.0.attentions.1.proj_attn.weight\", \"module.up_blocks.0.attentions.1.proj_attn.bias\", \"module.up_blocks.0.attentions.2.norm.weight\", \"module.up_blocks.0.attentions.2.norm.bias\", \"module.up_blocks.0.attentions.2.to_q.weight\", \"module.up_blocks.0.attentions.2.to_q.bias\", \"module.up_blocks.0.attentions.2.to_k.weight\", \"module.up_blocks.0.attentions.2.to_k.bias\", \"module.up_blocks.0.attentions.2.to_v.weight\", \"module.up_blocks.0.attentions.2.to_v.bias\", \"module.up_blocks.0.attentions.2.proj_attn.weight\", \"module.up_blocks.0.attentions.2.proj_attn.bias\", \"module.up_blocks.0.upsampler.conv.conv.weight\", \"module.up_blocks.0.upsampler.conv.conv.bias\", \"module.up_blocks.1.resnets.0.norm1.weight\", \"module.up_blocks.1.resnets.0.norm1.bias\", \"module.up_blocks.1.resnets.0.conv1.conv.weight\", \"module.up_blocks.1.resnets.0.conv1.conv.bias\", \"module.up_blocks.1.resnets.0.time_emb_proj.weight\", \"module.up_blocks.1.resnets.0.time_emb_proj.bias\", \"module.up_blocks.1.resnets.0.norm2.weight\", \"module.up_blocks.1.resnets.0.norm2.bias\", \"module.up_blocks.1.resnets.0.conv2.conv.weight\", \"module.up_blocks.1.resnets.0.conv2.conv.bias\", \"module.up_blocks.1.resnets.0.skip_connection.conv.weight\", \"module.up_blocks.1.resnets.0.skip_connection.conv.bias\", \"module.up_blocks.1.resnets.1.norm1.weight\", \"module.up_blocks.1.resnets.1.norm1.bias\", \"module.up_blocks.1.resnets.1.conv1.conv.weight\", \"module.up_blocks.1.resnets.1.conv1.conv.bias\", \"module.up_blocks.1.resnets.1.time_emb_proj.weight\", \"module.up_blocks.1.resnets.1.time_emb_proj.bias\", \"module.up_blocks.1.resnets.1.norm2.weight\", \"module.up_blocks.1.resnets.1.norm2.bias\", \"module.up_blocks.1.resnets.1.conv2.conv.weight\", \"module.up_blocks.1.resnets.1.conv2.conv.bias\", \"module.up_blocks.1.resnets.1.skip_connection.conv.weight\", \"module.up_blocks.1.resnets.1.skip_connection.conv.bias\", \"module.up_blocks.1.resnets.2.norm1.weight\", \"module.up_blocks.1.resnets.2.norm1.bias\", \"module.up_blocks.1.resnets.2.conv1.conv.weight\", \"module.up_blocks.1.resnets.2.conv1.conv.bias\", \"module.up_blocks.1.resnets.2.time_emb_proj.weight\", \"module.up_blocks.1.resnets.2.time_emb_proj.bias\", \"module.up_blocks.1.resnets.2.norm2.weight\", \"module.up_blocks.1.resnets.2.norm2.bias\", \"module.up_blocks.1.resnets.2.conv2.conv.weight\", \"module.up_blocks.1.resnets.2.conv2.conv.bias\", \"module.up_blocks.1.resnets.2.skip_connection.conv.weight\", \"module.up_blocks.1.resnets.2.skip_connection.conv.bias\", \"module.up_blocks.1.upsampler.conv.conv.weight\", \"module.up_blocks.1.upsampler.conv.conv.bias\", \"module.up_blocks.2.resnets.0.norm1.weight\", \"module.up_blocks.2.resnets.0.norm1.bias\", \"module.up_blocks.2.resnets.0.conv1.conv.weight\", \"module.up_blocks.2.resnets.0.conv1.conv.bias\", \"module.up_blocks.2.resnets.0.time_emb_proj.weight\", \"module.up_blocks.2.resnets.0.time_emb_proj.bias\", \"module.up_blocks.2.resnets.0.norm2.weight\", \"module.up_blocks.2.resnets.0.norm2.bias\", \"module.up_blocks.2.resnets.0.conv2.conv.weight\", \"module.up_blocks.2.resnets.0.conv2.conv.bias\", \"module.up_blocks.2.resnets.0.skip_connection.conv.weight\", \"module.up_blocks.2.resnets.0.skip_connection.conv.bias\", \"module.up_blocks.2.resnets.1.norm1.weight\", \"module.up_blocks.2.resnets.1.norm1.bias\", \"module.up_blocks.2.resnets.1.conv1.conv.weight\", \"module.up_blocks.2.resnets.1.conv1.conv.bias\", \"module.up_blocks.2.resnets.1.time_emb_proj.weight\", \"module.up_blocks.2.resnets.1.time_emb_proj.bias\", \"module.up_blocks.2.resnets.1.norm2.weight\", \"module.up_blocks.2.resnets.1.norm2.bias\", \"module.up_blocks.2.resnets.1.conv2.conv.weight\", \"module.up_blocks.2.resnets.1.conv2.conv.bias\", \"module.up_blocks.2.resnets.1.skip_connection.conv.weight\", \"module.up_blocks.2.resnets.1.skip_connection.conv.bias\", \"module.up_blocks.2.resnets.2.norm1.weight\", \"module.up_blocks.2.resnets.2.norm1.bias\", \"module.up_blocks.2.resnets.2.conv1.conv.weight\", \"module.up_blocks.2.resnets.2.conv1.conv.bias\", \"module.up_blocks.2.resnets.2.time_emb_proj.weight\", \"module.up_blocks.2.resnets.2.time_emb_proj.bias\", \"module.up_blocks.2.resnets.2.norm2.weight\", \"module.up_blocks.2.resnets.2.norm2.bias\", \"module.up_blocks.2.resnets.2.conv2.conv.weight\", \"module.up_blocks.2.resnets.2.conv2.conv.bias\", \"module.up_blocks.2.resnets.2.skip_connection.conv.weight\", \"module.up_blocks.2.resnets.2.skip_connection.conv.bias\", \"module.up_blocks.2.upsampler.conv.conv.weight\", \"module.up_blocks.2.upsampler.conv.conv.bias\", \"module.up_blocks.3.resnets.0.norm1.weight\", \"module.up_blocks.3.resnets.0.norm1.bias\", \"module.up_blocks.3.resnets.0.conv1.conv.weight\", \"module.up_blocks.3.resnets.0.conv1.conv.bias\", \"module.up_blocks.3.resnets.0.time_emb_proj.weight\", \"module.up_blocks.3.resnets.0.time_emb_proj.bias\", \"module.up_blocks.3.resnets.0.norm2.weight\", \"module.up_blocks.3.resnets.0.norm2.bias\", \"module.up_blocks.3.resnets.0.conv2.conv.weight\", \"module.up_blocks.3.resnets.0.conv2.conv.bias\", \"module.up_blocks.3.resnets.0.skip_connection.conv.weight\", \"module.up_blocks.3.resnets.0.skip_connection.conv.bias\", \"module.up_blocks.3.resnets.1.norm1.weight\", \"module.up_blocks.3.resnets.1.norm1.bias\", \"module.up_blocks.3.resnets.1.conv1.conv.weight\", \"module.up_blocks.3.resnets.1.conv1.conv.bias\", \"module.up_blocks.3.resnets.1.time_emb_proj.weight\", \"module.up_blocks.3.resnets.1.time_emb_proj.bias\", \"module.up_blocks.3.resnets.1.norm2.weight\", \"module.up_blocks.3.resnets.1.norm2.bias\", \"module.up_blocks.3.resnets.1.conv2.conv.weight\", \"module.up_blocks.3.resnets.1.conv2.conv.bias\", \"module.up_blocks.3.resnets.1.skip_connection.conv.weight\", \"module.up_blocks.3.resnets.1.skip_connection.conv.bias\", \"module.up_blocks.3.resnets.2.norm1.weight\", \"module.up_blocks.3.resnets.2.norm1.bias\", \"module.up_blocks.3.resnets.2.conv1.conv.weight\", \"module.up_blocks.3.resnets.2.conv1.conv.bias\", \"module.up_blocks.3.resnets.2.time_emb_proj.weight\", \"module.up_blocks.3.resnets.2.time_emb_proj.bias\", \"module.up_blocks.3.resnets.2.norm2.weight\", \"module.up_blocks.3.resnets.2.norm2.bias\", \"module.up_blocks.3.resnets.2.conv2.conv.weight\", \"module.up_blocks.3.resnets.2.conv2.conv.bias\", \"module.up_blocks.3.resnets.2.skip_connection.conv.weight\", \"module.up_blocks.3.resnets.2.skip_connection.conv.bias\", \"module.out.0.weight\", \"module.out.0.bias\", \"module.out.2.conv.weight\", \"module.out.2.conv.bias\". "
     ]
    }
   ],
   "source": [
    "var_csv['train'] =pd.concat(df_list, ignore_index=True)\n",
    "var_csv['val'] = pd.read_csv(csvpath_val)\n",
    "var_csv['test'] = pd.read_csv(csvpath_test)\n",
    "# if cfg.mode == 't2':\n",
    "#     keep_t2 = pd.read_csv(cfg.path.IXI.keep_t2) # only keep t2 images that have a t1 counterpart\n",
    "\n",
    "for state in states:\n",
    "    var_csv[state]['settype'] = state\n",
    "    var_csv[state]['norm_path'] = pathBase  + var_csv[state]['norm_path']\n",
    "    var_csv[state]['img_path'] = pathBase  + var_csv[state]['img_path']\n",
    "    var_csv[state]['mask_path'] = pathBase  + var_csv[state]['mask_path']\n",
    "    if state != 'test':\n",
    "        var_csv[state]['seg_path'] = None\n",
    "    else:\n",
    "        var_csv[state]['seg_path'] = pathBase  + var_csv[state]['seg_path']\n",
    "\n",
    "    # if cfg.mode == 't2': \n",
    "    #     var_csv[state] =var_csv[state][var_csv[state].img_name.isin(keep_t2['0'].str.replace('t2','t1'))]\n",
    "    #     var_csv[state]['img_path'] = var_csv[state]['img_path'].str.replace('t1','t2')\n",
    "    \n",
    "    \n",
    "data_train = Train(var_csv['train'],config) \n",
    "data_val = Train(var_csv['val'],config)                \n",
    "data_test = Eval(var_csv['test'],config)\n",
    "\n",
    "\n",
    "\n",
    "#data_train = Train(pd.read_csv('/project/ajoshi_27/akrami/monai3D/GenerativeModels/data/split/IXI_train_fold0.csv', converters={'img_path': pd.eval}), config)\n",
    "train_loader = DataLoader(data_train, batch_size=config.get('batch_size', 1),shuffle=True,num_workers=8)\n",
    "\n",
    "#data_val = Train(pd.read_csv('/project/ajoshi_27/akrami/monai3D/GenerativeModels/data/split/IXI_val_fold0.csv', converters={'img_path': pd.eval}), config)\n",
    "val_loader = DataLoader(data_val, batch_size=config.get('batch_size', 1),shuffle=True,num_workers=8)\n",
    "\n",
    "#data_test = Train(pd.read_csv('/project/ajoshi_27/akrami/monai3D/GenerativeModels/data/split/Brats21_test.csv', converters={'img_path': pd.eval}), config)\n",
    "test_loader = DataLoader(data_test, batch_size=config.get('batch_size', 1),shuffle=False,num_workers=8)\n",
    "\n",
    "\n",
    "device = torch.device(\"cuda\")\n",
    "\n",
    "model = DiffusionModelUNet(\n",
    "    spatial_dims=3,\n",
    "    in_channels=1,\n",
    "    out_channels=1,\n",
    "    num_channels=[32, 64, 128, 128],\n",
    "    attention_levels=[False, False, False,True],\n",
    "    num_head_channels=[0, 0, 0,32],\n",
    "    num_res_blocks=2,\n",
    ")\n",
    "#model_filename = '/acmenas/hakrami/3D_lesion_DF/models/halfres/model_epoch984.pt'\n",
    "model_filename = '/acmenas/hakrami/3D_lesion_DF/models/norm/model_epoch199.pt'\n",
    "\n",
    "\n",
    "model.to(device)\n",
    "if torch.cuda.device_count() > 1:\n",
    "    print(\"Using\", torch.cuda.device_count(), \"GPUs!\")\n",
    "    model = nn.DataParallel(model)\n",
    "\n",
    "model.load_state_dict(torch.load(model_filename))\n",
    "scheduler = DDPMScheduler(num_train_timesteps=1000, schedule=\"scaled_linear_beta\", beta_start=0.0005, beta_end=0.0195)\n",
    "\n",
    "inferer = DiffusionInferer(scheduler)\n",
    "\n",
    "optimizer = torch.optim.Adam(params=model.parameters(), lr=5e-5)\n",
    "\n",
    "\n",
    "n_epochs = 1000\n",
    "val_interval = 25\n",
    "epoch_loss_list = []\n",
    "val_epoch_loss_list = []\n",
    "\n",
    "scaler = GradScaler()\n",
    "total_start = time.time()\n",
    "\n",
    "\n",
    "wandb.watch(model, log_freq=100)"
   ]
  },
  {
   "cell_type": "code",
   "execution_count": null,
   "id": "21f66cd3-a109-4b96-8d54-dbf1579cffd6",
   "metadata": {},
   "outputs": [],
   "source": [
    "# scheduler = DDPMScheduler(num_train_timesteps=1000, schedule=\"scaled_linear_beta\", beta_start=0.0005, beta_end=0.0195)\n",
    "\n",
    "# inferer = DiffusionInferer(scheduler)\n",
    "\n",
    "# optimizer = torch.optim.Adam(params=model.parameters(), lr=5e-5)\n",
    "\n",
    "\n",
    "\n",
    "# epoch_loss_list = []\n",
    "# val_epoch_loss_list = []\n",
    "\n",
    "# scaler = GradScaler()\n",
    "# total_start = time.time()\n",
    "# n_epochs = config.get('n_epochs',100)\n",
    "# val_interval =config.get('val_interval',5)"
   ]
  },
  {
   "cell_type": "code",
   "execution_count": 5,
   "id": "ba3cb78a-1943-4379-912d-a5b5c9c248f2",
   "metadata": {},
   "outputs": [
    {
     "name": "stderr",
     "output_type": "stream",
     "text": [
      "Epoch 0: 100%|████████| 302/302 [09:38<00:00,  1.91s/it, loss=0.00701]\n",
      "Epoch 1: 100%|████████| 302/302 [02:23<00:00,  2.10it/s, loss=0.00655]\n",
      "Epoch 2: 100%|████████| 302/302 [02:17<00:00,  2.19it/s, loss=0.00651]\n",
      "Epoch 3: 100%|████████| 302/302 [02:13<00:00,  2.26it/s, loss=0.00644]\n",
      "Epoch 4: 100%|████████| 302/302 [02:13<00:00,  2.26it/s, loss=0.00648]\n",
      "Epoch 5: 100%|█████████| 302/302 [02:14<00:00,  2.25it/s, loss=0.0064]\n",
      "Epoch 6: 100%|████████| 302/302 [02:13<00:00,  2.27it/s, loss=0.00629]\n",
      "Epoch 7: 100%|████████| 302/302 [02:13<00:00,  2.26it/s, loss=0.00645]\n",
      "Epoch 8: 100%|████████| 302/302 [02:12<00:00,  2.28it/s, loss=0.00603]\n",
      "Epoch 9: 100%|████████| 302/302 [02:13<00:00,  2.27it/s, loss=0.00627]\n",
      "Epoch 10: 100%|████████| 302/302 [02:12<00:00,  2.27it/s, loss=0.0062]\n",
      "Epoch 11: 100%|███████| 302/302 [02:13<00:00,  2.27it/s, loss=0.00627]\n",
      "Epoch 12: 100%|███████| 302/302 [02:12<00:00,  2.28it/s, loss=0.00589]\n",
      "Epoch 13: 100%|█████████| 302/302 [02:12<00:00,  2.28it/s, loss=0.006]\n",
      "Epoch 14: 100%|███████| 302/302 [02:13<00:00,  2.27it/s, loss=0.00607]\n",
      "Epoch 15: 100%|███████| 302/302 [02:13<00:00,  2.27it/s, loss=0.00601]\n",
      "Epoch 16: 100%|███████| 302/302 [02:12<00:00,  2.27it/s, loss=0.00618]\n",
      "Epoch 17: 100%|███████| 302/302 [02:13<00:00,  2.26it/s, loss=0.00602]\n",
      "Epoch 18: 100%|████████| 302/302 [02:12<00:00,  2.27it/s, loss=0.0061]\n",
      "Epoch 19: 100%|████████| 302/302 [02:12<00:00,  2.27it/s, loss=0.0059]\n",
      "Epoch 20: 100%|███████| 302/302 [02:12<00:00,  2.27it/s, loss=0.00592]\n",
      "Epoch 21: 100%|███████| 302/302 [02:12<00:00,  2.28it/s, loss=0.00611]\n",
      "Epoch 22: 100%|████████| 302/302 [02:12<00:00,  2.27it/s, loss=0.0061]\n",
      "Epoch 23: 100%|███████| 302/302 [02:12<00:00,  2.27it/s, loss=0.00585]\n",
      "Epoch 24: 100%|███████| 302/302 [02:13<00:00,  2.27it/s, loss=0.00602]\n"
     ]
    }
   ],
   "source": [
    "for epoch in range(n_epochs):\n",
    "    model.train()\n",
    "    epoch_loss = 0\n",
    "    progress_bar = tqdm(enumerate(train_loader), total=len(train_loader), ncols=70)\n",
    "    progress_bar.set_description(f\"Epoch {epoch}\")\n",
    "    for step, batch in progress_bar:\n",
    "       # images = batch[\"image\"].to(device)\n",
    "        images = batch['vol']['data'].to(device)\n",
    "        optimizer.zero_grad(set_to_none=True)\n",
    "\n",
    "        with autocast(enabled=True):\n",
    "            # Generate random noise\n",
    "            noise = torch.randn_like(images).to(device)\n",
    "\n",
    "            # Create timesteps\n",
    "            timesteps = torch.randint(\n",
    "                0, inferer.scheduler.num_train_timesteps, (images.shape[0],), device=images.device\n",
    "            ).long()\n",
    "\n",
    "            # Get model prediction\n",
    "            noise_pred = inferer(inputs=images, diffusion_model=model, noise=noise, timesteps=timesteps)\n",
    "\n",
    "            loss = F.mse_loss(noise_pred.float(), noise.float())\n",
    "\n",
    "        scaler.scale(loss).backward()\n",
    "        scaler.step(optimizer)\n",
    "        scaler.update()\n",
    "\n",
    "        epoch_loss += loss.item()\n",
    "\n",
    "        progress_bar.set_postfix({\"loss\": epoch_loss / (step + 1)})\n",
    "    epoch_loss_list.append(epoch_loss / (step + 1))\n",
    "    wandb.log({\"loss_train\": epoch_loss / (step + 1)})\n",
    "\n",
    "    if (epoch + 1) % val_interval == 0:\n",
    "        model.eval()\n",
    "        val_epoch_loss = 0\n",
    "        for step, batch in enumerate(val_loader):\n",
    "            images = batch['vol']['data'].to(device)\n",
    "            noise = torch.randn_like(images).to(device)\n",
    "            with torch.no_grad():\n",
    "                with autocast(enabled=True):\n",
    "                    timesteps = torch.randint(\n",
    "                        0, inferer.scheduler.num_train_timesteps, (images.shape[0],), device=images.device\n",
    "                    ).long()\n",
    "\n",
    "                    # Get model prediction\n",
    "                    noise_pred = inferer(inputs=images, diffusion_model=model, noise=noise, timesteps=timesteps)\n",
    "                    val_loss = F.mse_loss(noise_pred.float(), noise.float())\n",
    "\n",
    "            val_epoch_loss += val_loss.item()\n",
    "            progress_bar.set_postfix({\"val_loss\": val_epoch_loss / (step + 1)})\n",
    "        val_epoch_loss_list.append(val_epoch_loss / (step + 1))\n",
    "        wandb.log({\"loss_val\": val_epoch_loss / (step + 1)})\n",
    "\n",
    "        # Sampling image during training\n",
    "        #80, 96, 80\n",
    "        image = torch.randn_like(images)[0:1,:,:,:]\n",
    "        image = image.to(device)\n",
    "        scheduler.set_timesteps(num_inference_steps=1000)\n",
    "        with autocast(enabled=True):\n",
    "            image = inferer.sample(input_noise=image, diffusion_model=model, scheduler=scheduler)\n",
    "\n",
    "\n",
    "        middle_slice_idx = image.size(-1) // 2\n",
    "        plt.figure(figsize=(2, 2))\n",
    "        plt.imshow(image[0, 0, :, :, middle_slice_idx].cpu(), vmin=0, vmax=1, cmap=\"gray\")\n",
    "        plt.tight_layout()\n",
    "        plt.axis(\"off\")\n",
    "        plt.show()\n",
    "        wandb.log({\"sample_image\": [wandb.Image(plt)]})\n",
    "        # Modify the filename to include the epoch number\n",
    "        filename = f\"./results/norm_2/sample_epoch{epoch}.png\"\n",
    "\n",
    "        plt.savefig(filename, dpi=300)  \n",
    "        # Save the model\n",
    "        model_filename = f\"./models/norm_2/model_epoch{epoch}.pt\"\n",
    "        torch.save(model.state_dict(), model_filename)\n",
    "\n",
    "total_time = time.time() - total_start\n",
    "print(f\"train completed, total time: {total_time}.\")"
   ]
  },
  {
   "cell_type": "code",
   "execution_count": null,
   "id": "473ac720-11ef-449b-8331-f1e866774035",
   "metadata": {},
   "outputs": [],
   "source": [
    "f\"/scratch1/akrami/models/3Ddiffusion/half_norm/model_epoch{epoch}.pt\"\n",
    "f\"./results/half_norm/sample_epoch{epoch}.png\""
   ]
  }
 ],
 "metadata": {
  "kernelspec": {
   "display_name": "monai",
   "language": "python",
   "name": "python3"
  },
  "language_info": {
   "codemirror_mode": {
    "name": "ipython",
    "version": 3
   },
   "file_extension": ".py",
   "mimetype": "text/x-python",
   "name": "python",
   "nbconvert_exporter": "python",
   "pygments_lexer": "ipython3",
   "version": "3.9.16"
  }
 },
 "nbformat": 4,
 "nbformat_minor": 5
}
