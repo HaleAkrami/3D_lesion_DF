{
 "cells": [
  {
   "cell_type": "code",
   "execution_count": 1,
   "id": "846f5704-9f41-4b36-8852-38824916c9b6",
   "metadata": {},
   "outputs": [],
   "source": [
    "def create_gitignore(directories):\n",
    "    with open(\".gitignore\", \"a\") as file:\n",
    "        for directory in directories:\n",
    "            file.write(f\"{directory}/\\n\")\n",
    "\n",
    "# Example usage:\n",
    "directories_to_ignore = [\"model-zoo\", \"finished_slumrs\", \"generative\",\"models\",\"results\",\"wandb\"]\n",
    "create_gitignore(directories_to_ignore)"
   ]
  },
  {
   "cell_type": "code",
   "execution_count": null,
   "id": "4e4f2fa0-b14e-4093-8223-bba0c27debe9",
   "metadata": {},
   "outputs": [],
   "source": []
  }
 ],
 "metadata": {
  "kernelspec": {
   "display_name": "working_monai",
   "language": "python",
   "name": "working_monai"
  },
  "language_info": {
   "codemirror_mode": {
    "name": "ipython",
    "version": 3
   },
   "file_extension": ".py",
   "mimetype": "text/x-python",
   "name": "python",
   "nbconvert_exporter": "python",
   "pygments_lexer": "ipython3",
   "version": "3.9.16"
  }
 },
 "nbformat": 4,
 "nbformat_minor": 5
}
