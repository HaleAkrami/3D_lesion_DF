{
 "cells": [
  {
   "cell_type": "code",
   "execution_count": 1,
   "id": "2e8a41ea-6307-4392-ba43-d84913773d74",
   "metadata": {},
   "outputs": [
    {
     "name": "stderr",
     "output_type": "stream",
     "text": [
      "Failed to detect the name of this notebook, you can set it manually with the WANDB_NOTEBOOK_NAME environment variable to enable code saving.\n",
      "\u001b[34m\u001b[1mwandb\u001b[0m: Currently logged in as: \u001b[33mhale-akrami\u001b[0m (\u001b[33musc_akrami\u001b[0m). Use \u001b[1m`wandb login --relogin`\u001b[0m to force relogin\n"
     ]
    },
    {
     "data": {
      "text/html": [
       "wandb version 0.16.1 is available!  To upgrade, please run:\n",
       " $ pip install wandb --upgrade"
      ],
      "text/plain": [
       "<IPython.core.display.HTML object>"
      ]
     },
     "metadata": {},
     "output_type": "display_data"
    },
    {
     "data": {
      "text/html": [
       "Tracking run with wandb version 0.15.9"
      ],
      "text/plain": [
       "<IPython.core.display.HTML object>"
      ]
     },
     "metadata": {},
     "output_type": "display_data"
    },
    {
     "data": {
      "text/html": [
       "Run data is saved locally in <code>/project/ajoshi_27/akrami/3D_lesion_DF/wandb/run-20231210_191029-mc6ebtf4</code>"
      ],
      "text/plain": [
       "<IPython.core.display.HTML object>"
      ]
     },
     "metadata": {},
     "output_type": "display_data"
    },
    {
     "data": {
      "text/html": [
       "Syncing run <strong><a href='https://wandb.ai/usc_akrami/ddpm_3D_inpaint/runs/mc6ebtf4' target=\"_blank\">test_unit</a></strong> to <a href='https://wandb.ai/usc_akrami/ddpm_3D_inpaint' target=\"_blank\">Weights & Biases</a> (<a href='https://wandb.me/run' target=\"_blank\">docs</a>)<br/>"
      ],
      "text/plain": [
       "<IPython.core.display.HTML object>"
      ]
     },
     "metadata": {},
     "output_type": "display_data"
    },
    {
     "data": {
      "text/html": [
       " View project at <a href='https://wandb.ai/usc_akrami/ddpm_3D_inpaint' target=\"_blank\">https://wandb.ai/usc_akrami/ddpm_3D_inpaint</a>"
      ],
      "text/plain": [
       "<IPython.core.display.HTML object>"
      ]
     },
     "metadata": {},
     "output_type": "display_data"
    },
    {
     "data": {
      "text/html": [
       " View run at <a href='https://wandb.ai/usc_akrami/ddpm_3D_inpaint/runs/mc6ebtf4' target=\"_blank\">https://wandb.ai/usc_akrami/ddpm_3D_inpaint/runs/mc6ebtf4</a>"
      ],
      "text/plain": [
       "<IPython.core.display.HTML object>"
      ]
     },
     "metadata": {},
     "output_type": "display_data"
    },
    {
     "name": "stderr",
     "output_type": "stream",
     "text": [
      "A matching Triton is not available, some optimizations will not be enabled.\n",
      "Error caught was: No module named 'triton'\n"
     ]
    }
   ],
   "source": [
    "import wandb\n",
    "wandb.init(project='ddpm_3D_inpaint',name='test_unit')\n",
    "import wandb\n",
    "\n",
    "\n",
    "# Standard libraries\n",
    "import os\n",
    "import tempfile\n",
    "import time\n",
    "import io\n",
    "import random\n",
    "import math\n",
    "import warnings\n",
    "from multiprocessing import Manager\n",
    "from typing import Optional\n",
    "from monai.networks.blocks import Convolution\n",
    "# Data manipulation libraries\n",
    "import numpy as np\n",
    "import pandas as pd\n",
    "import scipy\n",
    "\n",
    "# PyTorch and related libraries\n",
    "import torch\n",
    "import torch.nn as nn\n",
    "import torch.nn.functional as F\n",
    "from torch.cuda.amp import GradScaler, autocast\n",
    "from torch.utils.data import DataLoader, Dataset, random_split\n",
    "\n",
    "# MONAI libraries\n",
    "# from monai.apps import DecathlonDataset\n",
    "from monai.config import print_config\n",
    "from monai.data import DataLoader\n",
    "from monai.utils import set_determinism\n",
    "\n",
    "# Other medical image processing libraries\n",
    "import SimpleITK as sitk\n",
    "import torchio as tio\n",
    "\n",
    "# Plotting and visualization\n",
    "import matplotlib.pyplot as plt\n",
    "\n",
    "# Progress bar\n",
    "from tqdm import tqdm\n",
    "\n",
    "# Custom modules\n",
    "from generative.inferers import DiffusionInferer\n",
    "from generative.networks.nets import DiffusionModelUNet\n",
    "from generative.networks.schedulers import DDPMScheduler, DDIMScheduler\n",
    "\n",
    "# Weights and Biases for experiment tracking\n",
    "from dataloader import Train,Eval\n"
   ]
  },
  {
   "cell_type": "code",
   "execution_count": 9,
   "id": "3cd6a0c1-c049-4140-99f4-7b1928de9e3f",
   "metadata": {},
   "outputs": [],
   "source": [
    "def generate_random_block_checkerboard_mask(batch_size, image_shape):\n",
    "    \"\"\"\n",
    "    Generate a random checkerboard mask for a batch of 3D images with varying block sizes.\n",
    "\n",
    "    :param batch_size: Number of images in the batch.\n",
    "    :param image_shape: Shape of the 3D images (depth, height, width).\n",
    "    :return: Batch of checkerboard masks.\n",
    "    \"\"\"\n",
    "    # Possible block sizes\n",
    "    possible_block_sizes = [(8, 8, 8)]\n",
    "\n",
    "    # Randomly select a block size\n",
    "    block_size = random.choice(possible_block_sizes)\n",
    "\n",
    "    # Calculate the number of blocks along each dimension\n",
    "    num_blocks = [dim // block for dim, block in zip(image_shape, block_size)]\n",
    "\n",
    "    # Create a random tensor of the size of the number of blocks\n",
    "    random_blocks = torch.randint(0, 2, (batch_size, *num_blocks))\n",
    "\n",
    "    # Repeat the blocks to match the original image size\n",
    "    repeated_blocks = random_blocks.repeat_interleave(block_size[0], dim=1)\\\n",
    "                                   .repeat_interleave(block_size[1], dim=2)\\\n",
    "                                   .repeat_interleave(block_size[2], dim=3)\n",
    "\n",
    "    # Crop the repeated blocks to match the exact image shape\n",
    "    masks = repeated_blocks[:, :image_shape[0], :image_shape[1], :image_shape[2]]\n",
    "\n",
    "    return masks,block_size"
   ]
  },
  {
   "cell_type": "code",
   "execution_count": 3,
   "id": "5fb09a88-237b-4588-892c-f6cde150f9ec",
   "metadata": {},
   "outputs": [],
   "source": [
    "# Generate masks with randomly chosen block sizes\n",
    "\n",
    "\n",
    "config = {\n",
    "    'batch_size': 1,\n",
    "    'imgDimResize':(160,192,160),\n",
    "    'imgDimPad': (208, 256, 208),\n",
    "    'spatialDims': '3D',\n",
    "    'unisotropic_sampling': True, \n",
    "    'perc_low': 0, \n",
    "    'perc_high': 100,\n",
    "    'rescaleFactor':2,\n",
    "    'base_path': '/scratch1/akrami/Latest_Data/Data',\n",
    "}\n",
    "\n",
    "# %%\n",
    "wandb.config.update(config )\n",
    "\n",
    "\n",
    "imgpath = {}\n",
    "# '/acmenas/hakrami/patched-Diffusion-Models-UAD/Data/splits/BioBank_train.csv'\n",
    "#'/acmenas/hakrami/patched-Diffusion-Models-UAD/Data/splits/IXI_train_fold0.csv',\n",
    "#csvpath_trains = ['/project/ajoshi_27/akrami/patched-Diffusion-Models-UAD/Data/splits/BioBank_train.csv', '/project/ajoshi_27/akrami/patched-Diffusion-Models-UAD/Data/splits/BioBank_train.csv']\n",
    "csvpath_trains=['./Data/splits/combined_4datasets.csv']\n",
    "pathBase = '/scratch1/akrami/Data_train'\n",
    "csvpath_val = './Data/splits/IXI_test.csv'\n",
    "csvpath_test = './Data/splits/Brats21_sub_test.csv'\n",
    "var_csv = {}\n",
    "states = ['train','val','test']\n",
    "\n",
    "df_list = []\n",
    "\n",
    "# Loop through each CSV file path and read it into a DataFrame\n",
    "for csvpath in csvpath_trains:\n",
    "    df = pd.read_csv(csvpath)\n",
    "    df_list.append(df)\n",
    "# %%\n",
    "\n",
    "\n",
    "var_csv['train'] =pd.concat(df_list, ignore_index=True)\n",
    "var_csv['val'] = pd.read_csv(csvpath_val)\n",
    "var_csv['test'] = pd.read_csv(csvpath_test)\n",
    "# if cfg.mode == 't2':\n",
    "#     keep_t2 = pd.read_csv(cfg.path.IXI.keep_t2) # only keep t2 images that have a t1 counterpart\n",
    "\n",
    "for state in states:\n",
    "    var_csv[state]['settype'] = state\n",
    "    var_csv[state]['norm_path'] = ''\n",
    "    var_csv[state]['img_path'] = pathBase  + var_csv[state]['img_path']\n",
    "    var_csv[state]['mask_path'] = pathBase  + var_csv[state]['mask_path']\n",
    "    if state != 'test':\n",
    "        var_csv[state]['seg_path'] = None\n",
    "    else:\n",
    "        var_csv[state]['seg_path'] = pathBase  + var_csv[state]['seg_path']\n",
    "\n",
    "    # if cfg.mode == 't2': \n",
    "    #     var_csv[state] =var_csv[state][var_csv[state].img_name.isin(keep_t2['0'].str.replace('t2','t1'))]\n",
    "    #     var_csv[state]['img_path'] = var_csv[state]['img_path'].str.replace('t1','t2')\n",
    "    \n",
    "    \n",
    "data_train = Train(var_csv['train'],config) \n",
    "data_val = Train(var_csv['val'],config)                \n",
    "data_test = Eval(var_csv['test'],config)\n",
    "\n",
    "\n",
    "\n",
    "#data_train = Train(pd.read_csv('/project/ajoshi_27/akrami/monai3D/GenerativeModels/data/split/IXI_train_fold0.csv', converters={'img_path': pd.eval}), config)\n",
    "train_loader = DataLoader(data_train, batch_size=config.get('batch_size', 1),shuffle=True,num_workers=8)\n",
    "\n",
    "#data_val = Train(pd.read_csv('/project/ajoshi_27/akrami/monai3D/GenerativeModels/data/split/IXI_val_fold0.csv', converters={'img_path': pd.eval}), config)\n",
    "val_loader = DataLoader(data_val, batch_size=config.get('batch_size', 1),shuffle=True,num_workers=8)\n",
    "\n",
    "#data_test = Train(pd.read_csv('/project/ajoshi_27/akrami/monai3D/GenerativeModels/data/split/Brats21_test.csv', converters={'img_path': pd.eval}), config)\n",
    "test_loader = DataLoader(data_test, batch_size=config.get('batch_size', 1),shuffle=False,num_workers=16)"
   ]
  },
  {
   "cell_type": "code",
   "execution_count": 5,
   "id": "947524e4-440e-407f-bf73-7a8f2a0e22eb",
   "metadata": {},
   "outputs": [
    {
     "name": "stdout",
     "output_type": "stream",
     "text": [
      "Using 2 GPUs!\n"
     ]
    }
   ],
   "source": [
    "device = torch.device(\"cuda\")\n",
    "\n",
    "model = DiffusionModelUNet(\n",
    "    spatial_dims=3,\n",
    "    in_channels=1,\n",
    "    out_channels=1,\n",
    "    num_channels=[32, 64, 64],\n",
    "    attention_levels=[False, False,True],\n",
    "    num_head_channels=[0, 0,32],\n",
    "    num_res_blocks=2,\n",
    ")\n",
    "#model_filename = '/acmenas/hakrami/3D_lesion_DF/models/halfres/model_epoch984.pt'\n",
    "#model_filename = '/acmenas/hakrami/3D_lesion_DF/models/norm2/model_epoch624.pt'\n",
    "model_filename ='/scratch1/akrami/storage/DF_results/models/model_large_epoch999.pt'\n",
    "\n",
    "model.to(device)\n",
    "if torch.cuda.device_count() > 1:\n",
    "    print(\"Using\", torch.cuda.device_count(), \"GPUs!\")\n",
    "    model = nn.DataParallel(model)\n",
    "\n",
    "model.load_state_dict(torch.load(model_filename)) \n",
    "scheduler = DDPMScheduler(num_train_timesteps=1000, schedule=\"scaled_linear_beta\", beta_start=0.0005, beta_end=0.0195)\n",
    "\n",
    "inferer = DiffusionInferer(scheduler)\n",
    "\n",
    "\n",
    "\n",
    "original_conv1 = model.module.conv_in\n",
    "new_conv1 = Convolution(\n",
    "            spatial_dims=3,\n",
    "            in_channels=3,\n",
    "            out_channels=original_conv1.out_channels,\n",
    "            strides=1,\n",
    "            kernel_size=3,\n",
    "            padding=1,\n",
    "            conv_only=True,\n",
    "        )\n",
    "\n",
    "# # Create a new conv layer with 3 input channels and the same output channels, kernel size, etc.\n",
    "# new_conv1 = nn.Conv2d(3, original_conv1.out_channels, kernel_size=original_conv1.kernel_size, \n",
    "#                       stride=original_conv1.stride, padding=original_conv1.padding)\n",
    "\n",
    "# Copy the weights from the original channel\n",
    "with torch.no_grad():\n",
    "    new_conv1.conv.weight[:, :1, :, :,:] = original_conv1.conv.weight.clone()  # Copy weights for the original channel\n",
    "    # Initialize the weights for the new channels to zero\n",
    "    new_conv1.conv.weight[:, 1:, :, :,:].zero_()  # Zero out weights for the additional channels\n",
    "    new_conv1.conv.bias = torch.nn.Parameter(original_conv1.conv.bias.clone())\n",
    "\n",
    "\n",
    "# Replace the original conv1 layer with the new one\n",
    "model.module.conv_in = new_conv1\n",
    "model = model.to(device)\n",
    "\n",
    "optimizer = torch.optim.Adam(params=model.parameters(), lr=5e-5)"
   ]
  },
  {
   "cell_type": "code",
   "execution_count": 55,
   "id": "55ad2b22-b4b5-4bb0-945b-837ca7dbd9e3",
   "metadata": {},
   "outputs": [
    {
     "data": {
      "text/plain": [
       "<All keys matched successfully>"
      ]
     },
     "execution_count": 55,
     "metadata": {},
     "output_type": "execute_result"
    }
   ],
   "source": [
    "model_filename ='/project/ajoshi_27/akrami/3D_lesion_DF/models/model_inpaint_epoch925.pt'\n",
    "model.load_state_dict(torch.load(model_filename)) "
   ]
  },
  {
   "cell_type": "code",
   "execution_count": 56,
   "id": "63ba4633-8c92-43cb-91f0-d3bda9441a9c",
   "metadata": {},
   "outputs": [
    {
     "name": "stdout",
     "output_type": "stream",
     "text": [
      "dict_keys(['vol', 'peak', 'age', 'ID', 'path', 'mask'])\n",
      "tensor([35.0700], dtype=torch.float64)\n"
     ]
    }
   ],
   "source": [
    "sub_test = next(iter(val_loader))\n",
    "print(sub_test.keys())\n",
    "print(sub_test['age'])\n",
    "# Expand the dimensions of sub_test['peak'] to make it [1, 1, 1, 1, 4]\n",
    "peak_expanded = (sub_test['peak'].unsqueeze(1).unsqueeze(2).unsqueeze(3).unsqueeze(4)).long()\n",
    "# Move both tensors to the device\n",
    "image_array = sub_test['vol']['data'].to(device)\n",
    "image_array[image_array<0.01]=0\n",
    "peak_expanded = peak_expanded.to(device)\n",
    "image_array = (image_array / peak_expanded)\n",
    "middle_slice_idx = image_array.size(-1) // 2"
   ]
  },
  {
   "cell_type": "code",
   "execution_count": 57,
   "id": "621daa75-5e3b-48b2-bad7-c95ba41877bc",
   "metadata": {},
   "outputs": [
    {
     "data": {
      "image/png": "[encoded data removed]",
      "text/plain": [
       "<Figure size 200x200 with 1 Axes>"
      ]
     },
     "metadata": {},
     "output_type": "display_data"
    }
   ],
   "source": [
    "plt.figure(figsize=(2, 2))\n",
    "plt.imshow(image_array[0, 0, :, :, middle_slice_idx].cpu(), vmin=0, vmax=2, cmap=\"gray\")\n",
    "plt.tight_layout()\n",
    "plt.axis(\"off\")\n",
    "plt.show()"
   ]
  },
  {
   "cell_type": "code",
   "execution_count": 58,
   "id": "24dc476b-e22e-4634-862c-a320b65f7ec9",
   "metadata": {},
   "outputs": [
    {
     "name": "stderr",
     "output_type": "stream",
     "text": [
      "100%|██████████| 1000/1000 [02:42<00:00,  6.17it/s]\n"
     ]
    },
    {
     "data": {
      "image/png": "[encoded data removed]",
      "text/plain": [
       "<Figure size 200x200 with 1 Axes>"
      ]
     },
     "metadata": {},
     "output_type": "display_data"
    }
   ],
   "source": [
    "image = torch.randn_like(image_array)[0:1,:,:,:]\n",
    "image = image.to(device)\n",
    "current_img = torch.randn_like(image).to(device)\n",
    "\n",
    "masks_random_blocks = image*0\n",
    "maked_input = image*masks_random_blocks\n",
    "combined_tensor = torch.cat((current_img,masks_random_blocks), dim=1)\n",
    "combined_tensor = torch.cat((combined_tensor, maked_input), dim=1)\n",
    "scheduler.set_timesteps(num_inference_steps=1000)\n",
    "progress_bar = tqdm(scheduler.timesteps)\n",
    "for t in progress_bar:  # go through the noising process\n",
    "    with autocast(enabled=False):\n",
    "        with torch.no_grad():\n",
    "            model_output = model(combined_tensor, timesteps=torch.Tensor((t,)).to(image.device))\n",
    "            current_img, _ = scheduler.step(\n",
    "                model_output, t, current_img\n",
    "            )  # this is the prediction x_t at the time step t\n",
    "        \n",
    "            combined_tensor = torch.cat((current_img,masks_random_blocks), dim=1)\n",
    "            combined_tensor = torch.cat((combined_tensor, maked_input), dim=1)\n",
    "            \n",
    "\n",
    "middle_slice_idx = image.size(-1) // 2\n",
    "plt.figure(figsize=(2, 2))\n",
    "plt.imshow(current_img[0, 0, :, :, middle_slice_idx].cpu(), vmin=0, vmax=1, cmap=\"gray\")\n",
    "plt.tight_layout()\n",
    "plt.axis(\"off\")\n",
    "plt.show()\n"
   ]
  },
  {
   "cell_type": "code",
   "execution_count": 59,
   "id": "caba0590-bb6a-44fb-b206-a17ba873c57a",
   "metadata": {},
   "outputs": [],
   "source": [
    "batch_size = image_array.shape[0]\n",
    "image_shape = image_array.shape[2:]\n",
    "masks_random_blocks,_ = generate_random_block_checkerboard_mask(batch_size, image_shape)"
   ]
  },
  {
   "cell_type": "code",
   "execution_count": 60,
   "id": "ce434296-b70f-43e7-8fee-bf6a7a665bc3",
   "metadata": {},
   "outputs": [
    {
     "data": {
      "image/png": "[encoded data removed]",
      "text/plain": [
       "<Figure size 200x200 with 1 Axes>"
      ]
     },
     "metadata": {},
     "output_type": "display_data"
    }
   ],
   "source": [
    "plt.figure(figsize=(2, 2))\n",
    "plt.imshow(mask[0, :, :, middle_slice_idx], vmin=0, vmax=1, cmap=\"gray\")\n",
    "plt.tight_layout()\n",
    "plt.axis(\"off\")\n",
    "plt.show()"
   ]
  },
  {
   "cell_type": "code",
   "execution_count": 61,
   "id": "dc93ffec-2224-406e-923e-9539c57cbd53",
   "metadata": {},
   "outputs": [],
   "source": [
    "masks_random_blocks=masks_random_blocks.unsqueeze(dim=1).to(device)"
   ]
  },
  {
   "cell_type": "code",
   "execution_count": 62,
   "id": "5f5cd8af-00f6-4d0e-bcb6-406e34b793bc",
   "metadata": {},
   "outputs": [
    {
     "name": "stdout",
     "output_type": "stream",
     "text": [
      "torch.Size([1, 1, 80, 96, 80])\n"
     ]
    }
   ],
   "source": [
    "\n",
    "image = image_array[0:1,:,:,:]\n",
    "image = image.to(device)\n",
    "current_img = torch.randn_like(image).to(device)\n",
    "print(current_img.shape)\n"
   ]
  },
  {
   "cell_type": "code",
   "execution_count": 63,
   "id": "0b639edd-4e3c-4c8e-ac9c-9da3e819b484",
   "metadata": {},
   "outputs": [
    {
     "name": "stderr",
     "output_type": "stream",
     "text": [
      "100%|██████████| 1000/1000 [02:42<00:00,  6.14it/s]\n"
     ]
    }
   ],
   "source": [
    "\n",
    "\n",
    "maked_input = image*masks_random_blocks\n",
    "combined_tensor = torch.cat((current_img,masks_random_blocks), dim=1)\n",
    "combined_tensor = torch.cat((combined_tensor, maked_input), dim=1)\n",
    "scheduler.set_timesteps(num_inference_steps=1000)\n",
    "progress_bar = tqdm(scheduler.timesteps)\n",
    "for t in progress_bar:  # go through the noising process\n",
    "    with autocast(enabled=False):\n",
    "        with torch.no_grad():\n",
    "            model_output = model(combined_tensor, timesteps=torch.Tensor((t,)).to(image.device))\n",
    "            current_img, _ = scheduler.step(\n",
    "                model_output, t, current_img\n",
    "            )  # this is the prediction x_t at the time step t\n",
    "        \n",
    "            combined_tensor = torch.cat((current_img,masks_random_blocks), dim=1)\n",
    "            combined_tensor = torch.cat((combined_tensor, maked_input), dim=1)\n",
    "            \n",
    "\n",
    "\n"
   ]
  },
  {
   "cell_type": "code",
   "execution_count": 64,
   "id": "5958112e-c893-413e-bf1d-428acbe12aa3",
   "metadata": {},
   "outputs": [
    {
     "data": {
      "image/png": "[encoded data removed]",
      "text/plain": [
       "<Figure size 200x200 with 1 Axes>"
      ]
     },
     "metadata": {},
     "output_type": "display_data"
    }
   ],
   "source": [
    "middle_slice_idx = image.size(-1) // 2\n",
    "plt.figure(figsize=(2, 2))\n",
    "plt.imshow(image[0, 0, :, :, middle_slice_idx].cpu(), vmin=0, vmax=2, cmap=\"gray\")\n",
    "plt.tight_layout()\n",
    "plt.axis(\"off\")\n",
    "plt.show()"
   ]
  },
  {
   "cell_type": "code",
   "execution_count": 65,
   "id": "4323c341-9482-4f22-a6fd-14c888fbb9b7",
   "metadata": {},
   "outputs": [
    {
     "data": {
      "image/png": "[encoded data removed]",
      "text/plain": [
       "<Figure size 200x200 with 1 Axes>"
      ]
     },
     "metadata": {},
     "output_type": "display_data"
    }
   ],
   "source": [
    "middle_slice_idx = image.size(-1) // 2\n",
    "plt.figure(figsize=(2, 2))\n",
    "plt.imshow(maked_input[0, 0, :, :, middle_slice_idx].cpu(), vmin=0, vmax=2, cmap=\"gray\")\n",
    "plt.tight_layout()\n",
    "plt.axis(\"off\")\n",
    "plt.show()"
   ]
  },
  {
   "cell_type": "code",
   "execution_count": 66,
   "id": "64a23ba1-9fe6-4438-b313-16a53d8a5569",
   "metadata": {},
   "outputs": [
    {
     "data": {
      "image/png": "[encoded data removed]",
      "text/plain": [
       "<Figure size 200x200 with 1 Axes>"
      ]
     },
     "metadata": {},
     "output_type": "display_data"
    }
   ],
   "source": [
    "middle_slice_idx = image.size(-1) // 2\n",
    "plt.figure(figsize=(2, 2))\n",
    "plt.imshow(current_img[0, 0, :, :, middle_slice_idx].cpu(), vmin=0, vmax=2, cmap=\"gray\")\n",
    "plt.tight_layout()\n",
    "plt.axis(\"off\")\n",
    "plt.show()"
   ]
  },
  {
   "cell_type": "code",
   "execution_count": null,
   "id": "c4418256-42ef-493a-969f-94d1d2bde8c6",
   "metadata": {},
   "outputs": [],
   "source": [
    "sub_test = next(iter(test_loader))\n",
    "print(sub_test.keys())\n",
    "print(sub_test['age'])\n",
    "# Expand the dimensions of sub_test['peak'] to make it [1, 1, 1, 1, 4]\n",
    "peak_expanded = (sub_test['peak'].unsqueeze(1).unsqueeze(2).unsqueeze(3).unsqueeze(4)).long()\n",
    "# Move both tensors to the device\n",
    "image_array = sub_test['vol']['data'].to(device)\n",
    "image_array[image_array<0.01]=0\n",
    "peak_expanded = peak_expanded.to(device)\n",
    "image_array = (image_array / peak_expanded)\n",
    "middle_slice_idx = image_array.size(-1) // 2"
   ]
  }
 ],
 "metadata": {
  "kernelspec": {
   "display_name": "working_monai",
   "language": "python",
   "name": "working_monai"
  },
  "language_info": {
   "codemirror_mode": {
    "name": "ipython",
    "version": 3
   },
   "file_extension": ".py",
   "mimetype": "text/x-python",
   "name": "python",
   "nbconvert_exporter": "python",
   "pygments_lexer": "ipython3",
   "version": "3.9.16"
  }
 },
 "nbformat": 4,
 "nbformat_minor": 5
}
