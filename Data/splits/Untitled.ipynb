{
 "cells": [
  {
   "cell_type": "code",
   "execution_count": 2,
   "id": "7cc4a48c-55d9-42ff-b808-60e003b78dc1",
   "metadata": {},
   "outputs": [],
   "source": [
    "import pandas as pd\n",
    "\n",
    "# Paths to your CSV files\n",
    "csv_file_1 = './MSLUB_test.csv'\n",
    "csv_file_2 = './MSLUB_val.csv'\n",
    "\n",
    "# Read the CSV files into DataFrames\n",
    "df1 = pd.read_csv(csv_file_1)\n",
    "df2 = pd.read_csv(csv_file_2)\n",
    "\n",
    "# Combine the DataFrames\n",
    "combined_df = pd.concat([df1, df2], ignore_index=True)\n",
    "\n",
    "# Save the combined DataFrame to a new CSV file\n",
    "combined_df.to_csv('./MSLUB_combined.csv', index=False)\n"
   ]
  },
  {
   "cell_type": "code",
   "execution_count": null,
   "id": "84cc90d2-aa27-4b86-bc49-8ad3f8258e25",
   "metadata": {},
   "outputs": [],
   "source": []
  },
  {
   "cell_type": "code",
   "execution_count": 3,
   "id": "b58d52e8-5393-430c-838e-355da251fdb4",
   "metadata": {
    "scrolled": true
   },
   "outputs": [
    {
     "name": "stdout",
     "output_type": "stream",
     "text": [
      "The modified CSV has been saved to ./NFBS.csv\n"
     ]
    }
   ],
   "source": [
    "import pandas as pd\n",
    "\n",
    "# Define the input and output CSV file paths\n",
    "input_csv_path = './NFBS.csv'\n",
    "output_csv_path = './NFBS.csv'\n",
    "\n",
    "# Define the strings to search for and replace with\n",
    "search_for = '/scratch1/akrami/Latest_Data/Data_pre/NFBS'\n",
    "replace_with = '/Test/NFBS/t1'\n",
    "\n",
    "# Read the CSV file into a DataFrame\n",
    "try:\n",
    "    df = pd.read_csv(input_csv_path)\n",
    "\n",
    "    # Ensure the 'img_path' column exists\n",
    "    if 'img_path' in df.columns:\n",
    "        # Replace the specified path in the 'img_path' column\n",
    "        df['img_path'] = df['img_path'].str.replace(search_for, replace_with)\n",
    "        \n",
    "        # Save the modified DataFrame to a new CSV file\n",
    "        df.to_csv(output_csv_path, index=False)\n",
    "        print(f\"The modified CSV has been saved to {output_csv_path}\")\n",
    "    else:\n",
    "        print(\"The 'img_path' column was not found in the CSV file.\")\n",
    "except FileNotFoundError:\n",
    "    print(f\"The file {input_csv_path} was not found. Please check the file path.\")\n",
    "except pd.errors.EmptyDataError:\n",
    "    print(f\"The file {input_csv_path} is empty. Please check the file content.\")\n"
   ]
  },
  {
   "cell_type": "code",
   "execution_count": 4,
   "id": "a6f47030-98dd-435a-97f0-ba9d710ed31f",
   "metadata": {},
   "outputs": [
    {
     "name": "stdout",
     "output_type": "stream",
     "text": [
      "The modified CSV has been saved to ./NFBS.csv\n"
     ]
    }
   ],
   "source": [
    "import pandas as pd\n",
    "\n",
    "# Define the input and output CSV file paths\n",
    "input_csv_path = './NFBS.csv'\n",
    "output_csv_path = './NFBS.csv'\n",
    "\n",
    "# Read the CSV file into a DataFrame\n",
    "try:\n",
    "    df = pd.read_csv(input_csv_path)\n",
    "\n",
    "    # Ensure the 'img_path' column exists\n",
    "    if 'img_path' in df.columns:\n",
    "        # Replace the specified path in the 'img_path' column\n",
    "        df['img_path'] = df['img_path'].str.replace('/scratch1/akrami/Latest_Data/Data_pre/NFBS', '/Test/NFBS/t1')\n",
    "\n",
    "        # Create the 'mask_path' column by replacing 't1' with 'mask' in 'img_path'\n",
    "        df['mask_path'] = df['img_path'].str.replace('t1', 'mask')\n",
    "        \n",
    "        # Save the modified DataFrame to a new CSV file\n",
    "        df.to_csv(output_csv_path, index=False)\n",
    "        print(f\"The modified CSV has been saved to {output_csv_path}\")\n",
    "    else:\n",
    "        print(\"The 'img_path' column was not found in the CSV file.\")\n",
    "except FileNotFoundError:\n",
    "    print(f\"The file {input_csv_path} was not found. Please check the file path.\")\n",
    "except pd.errors.EmptyDataError:\n",
    "    print(f\"The file {input_csv_path} is empty. Please check the file content.\")\n"
   ]
  },
  {
   "cell_type": "code",
   "execution_count": null,
   "id": "c331066b-d8d1-48e8-9065-668bb2f38d8c",
   "metadata": {},
   "outputs": [],
   "source": []
  }
 ],
 "metadata": {
  "kernelspec": {
   "display_name": "working_monai",
   "language": "python",
   "name": "working_monai"
  },
  "language_info": {
   "codemirror_mode": {
    "name": "ipython",
    "version": 3
   },
   "file_extension": ".py",
   "mimetype": "text/x-python",
   "name": "python",
   "nbconvert_exporter": "python",
   "pygments_lexer": "ipython3",
   "version": "3.9.16"
  }
 },
 "nbformat": 4,
 "nbformat_minor": 5
}
