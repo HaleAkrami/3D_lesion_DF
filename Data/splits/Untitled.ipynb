{
 "cells": [
  {
   "cell_type": "code",
   "execution_count": 2,
   "id": "7cc4a48c-55d9-42ff-b808-60e003b78dc1",
   "metadata": {},
   "outputs": [],
   "source": [
    "import pandas as pd\n",
    "\n",
    "# Paths to your CSV files\n",
    "csv_file_1 = './MSLUB_test.csv'\n",
    "csv_file_2 = './MSLUB_val.csv'\n",
    "\n",
    "# Read the CSV files into DataFrames\n",
    "df1 = pd.read_csv(csv_file_1)\n",
    "df2 = pd.read_csv(csv_file_2)\n",
    "\n",
    "# Combine the DataFrames\n",
    "combined_df = pd.concat([df1, df2], ignore_index=True)\n",
    "\n",
    "# Save the combined DataFrame to a new CSV file\n",
    "combined_df.to_csv('./MSLUB_combined.csv', index=False)\n"
   ]
  },
  {
   "cell_type": "code",
   "execution_count": null,
   "id": "b58d52e8-5393-430c-838e-355da251fdb4",
   "metadata": {},
   "outputs": [],
   "source": []
  }
 ],
 "metadata": {
  "kernelspec": {
   "display_name": "working_monai",
   "language": "python",
   "name": "working_monai"
  },
  "language_info": {
   "codemirror_mode": {
    "name": "ipython",
    "version": 3
   },
   "file_extension": ".py",
   "mimetype": "text/x-python",
   "name": "python",
   "nbconvert_exporter": "python",
   "pygments_lexer": "ipython3",
   "version": "3.9.16"
  }
 },
 "nbformat": 4,
 "nbformat_minor": 5
}
