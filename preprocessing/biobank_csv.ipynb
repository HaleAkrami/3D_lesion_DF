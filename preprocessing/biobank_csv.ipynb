{
 "cells": [
  {
   "cell_type": "code",
   "execution_count": null,
   "id": "22b9f9ab-c839-4a2d-8cc4-c1872a2bcd0f",
   "metadata": {},
   "outputs": [],
   "source": [
    "import os\n",
    "import pandas as pd\n",
    "base_dir = '/Train/BioBank/BioBank/t1/'\n",
    "t1_dir = 'Data_train//Train/BioBank/BioBank/t1/'\n",
    "file_names = [name for name in os.listdir(t1_dir)]\n",
    "df = pd.DataFrame(file_names, columns=[\"img_path\"])\n",
    "df['img_path'] = df['img_path'].apply(lambda x: os.path.join(base_dir, x))\n",
    "# Extract the ID (removing the '_t1.nii' part) and add it as a new column\n",
    "df['img_name'] = df['img_path'].apply(lambda x: os.path.basename(x).replace('_t1.nii.gz', ''))\n",
    "# Update the DataFrame to include a new column 'mask_path'\n",
    "df['mask_path'] = df['img_path'].apply(lambda x: x.replace('t1', 'mask'))\n",
    "df['age'] = 50\n",
    "csv_file_path = \"Data/splits/BioBank_val.csv\"\n",
    "\n",
    "# Save the DataFrame to a CSV file\n",
    "df.to_csv(csv_file_path, index=False)\n",
    "\n",
    "print(f\"DataFrame has been saved to {csv_file_path}\")\n"
   ]
  },
  {
   "cell_type": "code",
   "execution_count": null,
   "id": "4a77661b-5abf-417b-b4d6-22f70c2c4ed6",
   "metadata": {},
   "outputs": [],
   "source": [
    "import os\n",
    "import pandas as pd\n",
    "\n",
    "base_dir = '/Train/BioBank/BioBank/t1/'\n",
    "t1_dir = 'Data_train/Train/BioBank/BioBank/t1/'\n",
    "\n",
    "# Read the existing CSV to get the list of already added image paths\n",
    "existing_df = pd.read_csv('BioBank_train.csv')\n",
    "existing_img_paths = existing_df['img_path'].tolist()\n",
    "\n",
    "file_names = [name for name in os.listdir(t1_dir) if os.path.join(base_dir, name) not in existing_img_paths]\n",
    "\n",
    "df = pd.DataFrame(file_names, columns=[\"img_path\"])\n",
    "df['img_path'] = df['img_path'].apply(lambda x: os.path.join(base_dir, x))\n",
    "\n",
    "# Extract the ID (removing the '_t1.nii' part) and add it as a new column\n",
    "df['img_name'] = df['img_path'].apply(lambda x: os.path.basename(x).replace('_t1.nii.gz', ''))\n",
    "\n",
    "# Update the DataFrame to include a new column 'mask_path'\n",
    "df['mask_path'] = df['img_path'].apply(lambda x: x.replace('t1', 'mask'))\n",
    "\n",
    "df['age'] = 50\n",
    "csv_file_path = \"Data/splits/BioBank_val.csv\"\n",
    "\n",
    "# Save the DataFrame to a CSV file\n",
    "df.to_csv(csv_file_path, index=False)\n",
    "\n",
    "print(f\"DataFrame has been saved to {csv_file_path}\")\n"
   ]
  },
  {
   "cell_type": "code",
   "execution_count": 2,
   "id": "1ea2d723-a6d8-410f-8c88-d3302db054b2",
   "metadata": {},
   "outputs": [
    {
     "name": "stdout",
     "output_type": "stream",
     "text": [
      "DataFrame has been saved to /project/ajoshi_27/akrami/3D_lesion_DF/Data/splits/CamCan.csv\n"
     ]
    }
   ],
   "source": [
    "import os\n",
    "import pandas as pd\n",
    "base_dir = '/Train/CamCan/t1/'\n",
    "t1_dir = '/scratch1/akrami/Data_train/Train/CamCan/t1/'\n",
    "file_names = [name for name in os.listdir(t1_dir)]\n",
    "df = pd.DataFrame(file_names, columns=[\"img_path\"])\n",
    "df['img_path'] = df['img_path'].apply(lambda x: os.path.join(base_dir, x))\n",
    "# Extract the ID (removing the '_t1.nii' part) and add it as a new column\n",
    "df['img_name'] = df['img_path'].apply(lambda x: os.path.basename(x).replace('_t1.nii.gz', ''))\n",
    "# Update the DataFrame to include a new column 'mask_path'\n",
    "df['mask_path'] = df['img_path'].apply(lambda x: x.replace('t1', 'mask'))\n",
    "df['age'] = 50\n",
    "csv_file_path = \"/project/ajoshi_27/akrami/3D_lesion_DF/Data/splits/CamCan.csv\"\n",
    "\n",
    "# Save the DataFrame to a CSV file\n",
    "df.to_csv(csv_file_path, index=False)\n",
    "\n",
    "print(f\"DataFrame has been saved to {csv_file_path}\")\n"
   ]
  },
  {
   "cell_type": "code",
   "execution_count": 4,
   "id": "42425b3f-5c7b-4d25-b9e0-5472fdafca30",
   "metadata": {},
   "outputs": [
    {
     "name": "stdout",
     "output_type": "stream",
     "text": [
      "DataFrame has been saved to /project/ajoshi_27/akrami/3D_lesion_DF/Data/splits/HCP.csv\n"
     ]
    }
   ],
   "source": [
    "import os\n",
    "import pandas as pd\n",
    "base_dir = '/Train/HCP/t1/'\n",
    "t1_dir = '/scratch1/akrami/Data_train/Train/CamCan/t1/'\n",
    "file_names = [name for name in os.listdir(t1_dir)]\n",
    "df = pd.DataFrame(file_names, columns=[\"img_path\"])\n",
    "df['img_path'] = df['img_path'].apply(lambda x: os.path.join(base_dir, x))\n",
    "# Extract the ID (removing the '_t1.nii' part) and add it as a new column\n",
    "df['img_name'] = df['img_path'].apply(lambda x: os.path.basename(x).replace('_t1.nii.gz', ''))\n",
    "# Update the DataFrame to include a new column 'mask_path'\n",
    "df['mask_path'] = df['img_path'].apply(lambda x: x.replace('t1', 'mask'))\n",
    "df['age'] = 50\n",
    "csv_file_path = \"/project/ajoshi_27/akrami/3D_lesion_DF/Data/splits/HCP.csv\"\n",
    "\n",
    "# Save the DataFrame to a CSV file\n",
    "df.to_csv(csv_file_path, index=False)\n",
    "\n",
    "print(f\"DataFrame has been saved to {csv_file_path}\")\n"
   ]
  },
  {
   "cell_type": "code",
   "execution_count": 5,
   "id": "310a221f-b819-48dd-b7b7-ecd4665cc362",
   "metadata": {},
   "outputs": [
    {
     "name": "stdout",
     "output_type": "stream",
     "text": [
      "CSV files have been combined and saved to combined.csv\n"
     ]
    }
   ],
   "source": [
    "import pandas as pd\n",
    "base_dir = '/project/ajoshi_27/akrami/3D_lesion_DF/Data/splits/'\n",
    "# List of CSV files to be combined\n",
    "csv_files = [base_dir+'HCP.csv', base_dir+\"BioBank_train.csv\", base_dir+\"IXI_train_fold0.csv\", base_dir+\"CamCan.csv\"]\n",
    "\n",
    "# Read each CSV file into a DataFrame and store them in a list\n",
    "dfs = [pd.read_csv(file) for file in csv_files]\n",
    "\n",
    "# Combine the DataFrames by rows\n",
    "combined_df = pd.concat(dfs, axis=0, ignore_index=True)\n",
    "\n",
    "# Save the combined DataFrame to a new CSV file (optional)\n",
    "combined_df.to_csv(\"combined_4datasets.csv\", index=False)\n",
    "\n",
    "print(\"CSV files have been combined and saved to combined.csv\")\n"
   ]
  },
  {
   "cell_type": "code",
   "execution_count": null,
   "id": "95690d25-3ecc-4fe6-b09d-063b7faf0fc9",
   "metadata": {},
   "outputs": [],
   "source": []
  }
 ],
 "metadata": {
  "kernelspec": {
   "display_name": "working_monai",
   "language": "python",
   "name": "working_monai"
  },
  "language_info": {
   "codemirror_mode": {
    "name": "ipython",
    "version": 3
   },
   "file_extension": ".py",
   "mimetype": "text/x-python",
   "name": "python",
   "nbconvert_exporter": "python",
   "pygments_lexer": "ipython3",
   "version": "3.9.16"
  }
 },
 "nbformat": 4,
 "nbformat_minor": 5
}
