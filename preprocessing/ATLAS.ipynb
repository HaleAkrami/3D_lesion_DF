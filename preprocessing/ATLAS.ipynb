{
 "cells": [
  {
   "cell_type": "code",
   "execution_count": 4,
   "id": "a977e40a-5894-4ddb-b588-7470d660c1d4",
   "metadata": {},
   "outputs": [
    {
     "name": "stdout",
     "output_type": "stream",
     "text": [
      "Column 'img_path' found and file updated: True\n"
     ]
    }
   ],
   "source": [
    "import pandas as pd\n",
    "\n",
    "# Define a function to check and remove rows\n",
    "def remove_rows_with_T1W(file_path, column_name):\n",
    "    try:\n",
    "        # Read the CSV file from the given file path\n",
    "        df = pd.read_csv(file_path)\n",
    "        \n",
    "        # Check if the specified column exists\n",
    "        if column_name in df.columns:\n",
    "            # Remove rows where 'T1W' is found in the specified column\n",
    "            df = df[~df[column_name].str.contains('T1W')]\n",
    "            \n",
    "            # Save the updated DataFrame back to the same CSV file\n",
    "            df.to_csv(file_path, index=False)\n",
    "            return True\n",
    "        else:\n",
    "            return False\n",
    "    except Exception as e:\n",
    "        print(f\"An error occurred: {e}\")\n",
    "        return False\n",
    "\n",
    "# File path to the CSV\n",
    "csv_file_path = '/project/ajoshi_27/akrami/3D_lesion_DF/Data/splits/ATLAS.csv'\n",
    "\n",
    "# Use the function on the DataFrame\n",
    "column_exists = remove_rows_with_T1W(csv_file_path, 'img_path')\n",
    "\n",
    "# Output whether the column was found and the file was updated\n",
    "print(f\"Column 'img_path' found and file updated: {column_exists}\")\n"
   ]
  },
  {
   "cell_type": "code",
   "execution_count": 6,
   "id": "7c5c55bc-c06d-486c-a939-35e2b70481c1",
   "metadata": {},
   "outputs": [
    {
     "data": {
      "text/plain": [
       "True"
      ]
     },
     "execution_count": 6,
     "metadata": {},
     "output_type": "execute_result"
    }
   ],
   "source": [
    "# Now that we've confirmed the presence of 'T1W' in the 'img_path' column,\n",
    "# let's remove the rows where 'T1W' is found and then save the updated DataFrame back to the same CSV file.\n",
    "\n",
    "def remove_rows_with_T1W_and_save(file_path, column_name):\n",
    "    try:\n",
    "        # Read the CSV file from the given file path\n",
    "        df = pd.read_csv(file_path)\n",
    "        \n",
    "        # Check if the specified column exists\n",
    "        if column_name in df.columns:\n",
    "            # Remove rows where 'T1W' is found in the specified column (case-insensitive search)\n",
    "            updated_df = df[~df[column_name].str.contains('T1W', case=False)]\n",
    "            \n",
    "            # Save the updated DataFrame back to the same CSV file\n",
    "            updated_df.to_csv(file_path, index=False)\n",
    "            return True\n",
    "        else:\n",
    "            return False\n",
    "    except Exception as e:\n",
    "        print(f\"An error occurred: {e}\")\n",
    "        return False\n",
    "\n",
    "# File path to the CSV\n",
    "csv_file_path = '/project/ajoshi_27/akrami/3D_lesion_DF/Data/splits/ATLAS.csv'\n",
    "\n",
    "# Use the function on the DataFrame to remove the row and save the changes\n",
    "row_removed = remove_rows_with_T1W_and_save(csv_file_path, 'img_path')\n",
    "\n",
    "# Output whether the row was removed and the file was updated\n",
    "row_removed\n"
   ]
  },
  {
   "cell_type": "code",
   "execution_count": 2,
   "id": "64909dff-fcf1-4f29-abfb-6300b8c5aa43",
   "metadata": {},
   "outputs": [
    {
     "name": "stdout",
     "output_type": "stream",
     "text": [
      "Number of rows before cleaning: 655\n",
      "Number of rows after cleaning: 654\n"
     ]
    }
   ],
   "source": [
    "import pandas as pd\n",
    "import nibabel as nib\n",
    "\n",
    "# Load the CSV file\n",
    "df = pd.read_csv('/project/ajoshi_27/akrami/3D_lesion_DF/Data/splits/ATLAS.csv')\n",
    "base_dir = '/scratch1/akrami/Data_train'\n",
    "# Initialize an empty list to hold the indices of rows to drop\n",
    "rows_to_drop = []\n",
    "print(f\"Number of rows before cleaning: {len(df)}\")\n",
    "# Iterate through the DataFrame\n",
    "for index, row in df.iterrows():\n",
    "    # Load the image and segmentation\n",
    "    img = nib.load(base_dir+row['img_path'])\n",
    "    seg = nib.load(base_dir+row['seg_path'])\n",
    "    \n",
    "    # Get the data shape (dimensions) of the image and segmentation\n",
    "    img_shape = img.header.get_data_shape()\n",
    "    seg_shape = seg.header.get_data_shape()\n",
    "    \n",
    "    # Compare their shapes\n",
    "    if img_shape != seg_shape:\n",
    "        # If shapes don't match, mark the index for removal\n",
    "        rows_to_drop.append(index)\n",
    "\n",
    "# Drop the rows where the shapes don't match\n",
    "df_cleaned = df.drop(rows_to_drop)\n",
    "print(f\"Number of rows after cleaning: {len(df_cleaned)}\")\n",
    "# Save the cleaned DataFrame back to a CSV\n",
    "df_cleaned.to_csv('cleaned_ATLAS.csv', index=False)\n"
   ]
  },
  {
   "cell_type": "code",
   "execution_count": null,
   "id": "11e2b9b7-0daf-4a8e-9638-4298132c9da5",
   "metadata": {},
   "outputs": [],
   "source": []
  }
 ],
 "metadata": {
  "kernelspec": {
   "display_name": "working_monai",
   "language": "python",
   "name": "working_monai"
  },
  "language_info": {
   "codemirror_mode": {
    "name": "ipython",
    "version": 3
   },
   "file_extension": ".py",
   "mimetype": "text/x-python",
   "name": "python",
   "nbconvert_exporter": "python",
   "pygments_lexer": "ipython3",
   "version": "3.9.16"
  }
 },
 "nbformat": 4,
 "nbformat_minor": 5
}
