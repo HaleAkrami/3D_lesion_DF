{
 "cells": [
  {
   "cell_type": "code",
   "execution_count": null,
   "id": "533f0d6f-ae5c-4abb-8b31-b6b61bd61db8",
   "metadata": {},
   "outputs": [],
   "source": []
  },
  {
   "cell_type": "code",
   "execution_count": null,
   "id": "59326e38-30b0-4824-b834-2a89f3993e40",
   "metadata": {},
   "outputs": [],
   "source": [
    "import os\n",
    "import random\n",
    "import csv\n",
    "\n",
    "# Set the path to the directory containing the files\n",
    "directory_path = '/path/to/directory'\n",
    "\n",
    "# Get the list of file names in the directory\n",
    "file_names = os.listdir(directory_path)\n",
    "\n",
    "# Shuffle the file names randomly\n",
    "random.shuffle(file_names)\n",
    "\n",
    "# Calculate the number of files for each set\n",
    "total_files = len(file_names)\n",
    "\n",
    "test_size = int(0.3 * total_files)\n",
    "val_size = int(0.1 * total_files)\n",
    "train_size = total_files-(test_size+val_size)\n",
    "\n",
    "# Create a list of folds\n",
    "num_folds = 5\n",
    "folds = [[] for _ in range(num_folds)]\n",
    "\n",
    "# Assign files to the folds\n",
    "for i, file_name in enumerate(file_names):\n",
    "    fold_index = i % num_folds\n",
    "    folds[fold_index].append(file_name)\n",
    "\n",
    "# Save the file names for each fold in CSV files\n",
    "for fold_index, fold in enumerate(folds):\n",
    "    train_fold = fold[:train_size]\n",
    "    val_fold = fold[train_size:train_size+val_size]\n",
    "    test_fold = fold[train_size+val_size:]\n",
    "\n",
    "    train_csv_file = f'HCP_train_fold{fold_index}.csv'\n",
    "    val_csv_file = f'HCP_val_fold{fold_index}.csv'\n",
    "    test_csv_file = 'HCP_test.csv'\n",
    "\n",
    "    with open(train_csv_file, 'w', newline='') as file:\n",
    "        writer = csv.writer(file)\n",
    "        writer.writerow(['img_name'])\n",
    "        writer.writerows([[file_name] for file_name in train_fold])\n",
    "\n",
    "    with open(val_csv_file, 'w', newline='') as file:\n",
    "        writer = csv.writer(file)\n",
    "        writer.writerow(['img_name'])\n",
    "        writer.writerows([[file_name] for file_name in val_fold])\n",
    "\n",
    "    with open(test_csv_file, 'w', newline='') as file:\n",
    "        writer = csv.writer(file)\n",
    "        writer.writerow(['img_name'])\n",
    "        writer.writerows([[file_name] for file_name in test_fold])\n"
   ]
  }
 ],
 "metadata": {
  "kernelspec": {
   "display_name": "working_monai",
   "language": "python",
   "name": "working_monai"
  },
  "language_info": {
   "codemirror_mode": {
    "name": "ipython",
    "version": 3
   },
   "file_extension": ".py",
   "mimetype": "text/x-python",
   "name": "python",
   "nbconvert_exporter": "python",
   "pygments_lexer": "ipython3",
   "version": "3.9.16"
  }
 },
 "nbformat": 4,
 "nbformat_minor": 5
}
