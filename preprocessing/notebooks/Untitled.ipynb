{
 "cells": [
  {
   "cell_type": "code",
   "execution_count": null,
   "id": "878a01f5-28c1-4749-8fb6-380153c21cbf",
   "metadata": {},
   "outputs": [],
   "source": [
    "def main(args=None):\n",
    "    args = arg_parser().parse_args(args)\n",
    "    src_basepath = args.img_dir #\n",
    "    dest_basepath =  args.out_dir #\n",
    "\n",
    "\n",
    "    if not os.path.isdir(args.img_dir):\n",
    "        print(args.img_dir)\n",
    "        raise ValueError('(-i / --img-dir) argument needs to be a directory of NIfTI images.')\n",
    "        \n",
    "\n",
    "    Path(args.out_dir).mkdir(parents=True,exist_ok=True)\n",
    "\n",
    "    #fixed_im = ants.image_read(args.template)\n",
    "    #fixed_im = fixed_im.reorient_image2('RAI')\n",
    "    temp_files = os.listdir(args.template)\n",
    "    for i, file in tqdm(enumerate(os.listdir(args.img_dir))):\n",
    "        template_t1 = temp_files[i]\n",
    "        path_img = os.path.join(args.template, template_t1)\n",
    "        fixed_im = ants.image_read(path_img)\n",
    "        #fixed_im = fixed_im.reorient_image2('RAI')\n",
    "        path_img = os.path.join(args.img_dir, file)\n",
    "        moving_im = ants.image_read(path_img)\n",
    "        # register to template\n",
    "        im_tx = ants.registration(fixed=fixed_im, moving=moving_im, type_of_transform = args.transform )\n",
    "        moved_im = im_tx['warpedmovout']\n",
    "        ants.image_write(moved_im, os.path.join(dest_basepath, file))\n",
    "\n",
    "            \n",
    "        \n",
    "\n",
    "\n",
    "\n",
    "\n",
    "if __name__ == \"__main__\":\n",
    "    sys.exit(main(sys.argv[1:]))"
   ]
  },
  {
   "cell_type": "code",
   "execution_count": null,
   "id": "2106225f-1199-4a1f-8348-db1173dfbbae",
   "metadata": {},
   "outputs": [],
   "source": [
    "python registrationT1.py -i $T2_DIR/v4correctedN4_non_iso_cut/Brats21/t2 -o $DATA_DIR/v5registered_non_iso/Brats21/t2 --modality=_t2 -trans Affine -templ $INPUT_DIR/v4correctedN4_non_iso_cut/Brats21/t1"
   ]
  }
 ],
 "metadata": {
  "kernelspec": {
   "display_name": "working_monai",
   "language": "python",
   "name": "working_monai"
  },
  "language_info": {
   "codemirror_mode": {
    "name": "ipython",
    "version": 3
   },
   "file_extension": ".py",
   "mimetype": "text/x-python",
   "name": "python",
   "nbconvert_exporter": "python",
   "pygments_lexer": "ipython3",
   "version": "3.9.16"
  }
 },
 "nbformat": 4,
 "nbformat_minor": 5
}
