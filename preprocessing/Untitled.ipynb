{
 "cells": [
  {
   "cell_type": "code",
   "execution_count": 4,
   "id": "a977e40a-5894-4ddb-b588-7470d660c1d4",
   "metadata": {},
   "outputs": [
    {
     "name": "stdout",
     "output_type": "stream",
     "text": [
      "Column 'img_path' found and file updated: True\n"
     ]
    }
   ],
   "source": [
    "import pandas as pd\n",
    "\n",
    "# Define a function to check and remove rows\n",
    "def remove_rows_with_T1W(file_path, column_name):\n",
    "    try:\n",
    "        # Read the CSV file from the given file path\n",
    "        df = pd.read_csv(file_path)\n",
    "        \n",
    "        # Check if the specified column exists\n",
    "        if column_name in df.columns:\n",
    "            # Remove rows where 'T1W' is found in the specified column\n",
    "            df = df[~df[column_name].str.contains('T1W')]\n",
    "            \n",
    "            # Save the updated DataFrame back to the same CSV file\n",
    "            df.to_csv(file_path, index=False)\n",
    "            return True\n",
    "        else:\n",
    "            return False\n",
    "    except Exception as e:\n",
    "        print(f\"An error occurred: {e}\")\n",
    "        return False\n",
    "\n",
    "# File path to the CSV\n",
    "csv_file_path = '/project/ajoshi_27/akrami/3D_lesion_DF/Data/splits/ATLAS.csv'\n",
    "\n",
    "# Use the function on the DataFrame\n",
    "column_exists = remove_rows_with_T1W(csv_file_path, 'img_path')\n",
    "\n",
    "# Output whether the column was found and the file was updated\n",
    "print(f\"Column 'img_path' found and file updated: {column_exists}\")\n"
   ]
  },
  {
   "cell_type": "code",
   "execution_count": 6,
   "id": "7c5c55bc-c06d-486c-a939-35e2b70481c1",
   "metadata": {},
   "outputs": [
    {
     "data": {
      "text/plain": [
       "True"
      ]
     },
     "execution_count": 6,
     "metadata": {},
     "output_type": "execute_result"
    }
   ],
   "source": [
    "# Now that we've confirmed the presence of 'T1W' in the 'img_path' column,\n",
    "# let's remove the rows where 'T1W' is found and then save the updated DataFrame back to the same CSV file.\n",
    "\n",
    "def remove_rows_with_T1W_and_save(file_path, column_name):\n",
    "    try:\n",
    "        # Read the CSV file from the given file path\n",
    "        df = pd.read_csv(file_path)\n",
    "        \n",
    "        # Check if the specified column exists\n",
    "        if column_name in df.columns:\n",
    "            # Remove rows where 'T1W' is found in the specified column (case-insensitive search)\n",
    "            updated_df = df[~df[column_name].str.contains('T1W', case=False)]\n",
    "            \n",
    "            # Save the updated DataFrame back to the same CSV file\n",
    "            updated_df.to_csv(file_path, index=False)\n",
    "            return True\n",
    "        else:\n",
    "            return False\n",
    "    except Exception as e:\n",
    "        print(f\"An error occurred: {e}\")\n",
    "        return False\n",
    "\n",
    "# File path to the CSV\n",
    "csv_file_path = '/project/ajoshi_27/akrami/3D_lesion_DF/Data/splits/ATLAS.csv'\n",
    "\n",
    "# Use the function on the DataFrame to remove the row and save the changes\n",
    "row_removed = remove_rows_with_T1W_and_save(csv_file_path, 'img_path')\n",
    "\n",
    "# Output whether the row was removed and the file was updated\n",
    "row_removed\n"
   ]
  },
  {
   "cell_type": "code",
   "execution_count": null,
   "id": "64909dff-fcf1-4f29-abfb-6300b8c5aa43",
   "metadata": {},
   "outputs": [],
   "source": []
  }
 ],
 "metadata": {
  "kernelspec": {
   "display_name": "working_monai",
   "language": "python",
   "name": "working_monai"
  },
  "language_info": {
   "codemirror_mode": {
    "name": "ipython",
    "version": 3
   },
   "file_extension": ".py",
   "mimetype": "text/x-python",
   "name": "python",
   "nbconvert_exporter": "python",
   "pygments_lexer": "ipython3",
   "version": "3.9.16"
  }
 },
 "nbformat": 4,
 "nbformat_minor": 5
}
