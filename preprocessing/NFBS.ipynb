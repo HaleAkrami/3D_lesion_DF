{
 "cells": [
  {
   "cell_type": "code",
   "execution_count": 1,
   "id": "f40bc5ff-4aba-4bac-ae19-7d414ec225eb",
   "metadata": {},
   "outputs": [],
   "source": [
    "import os\n",
    "import csv\n",
    "\n",
    "def generate_csv(directory, output_csv):\n",
    "    # Define the header of the CSV file\n",
    "    header = ['img_path', 'age', 'img_name']\n",
    "\n",
    "    # Prepare to collect the rows\n",
    "    rows = []\n",
    "\n",
    "    # Iterate over each file in the directory\n",
    "    for file in os.listdir(directory):\n",
    "        if file.endswith(\"_t1.nii.gz\"):\n",
    "            # Construct the full path to the file\n",
    "            full_path = os.path.join(directory, file)\n",
    "\n",
    "            # Extract the subname (img_name) from the file name\n",
    "            subname = file.split(\"_t1.nii.gz\")[0]\n",
    "\n",
    "            # Append the row with the full path, age, and subname\n",
    "            rows.append([full_path, 40, subname])\n",
    "\n",
    "    # Write the data to a CSV file\n",
    "    with open(output_csv, 'w', newline='') as file:\n",
    "        writer = csv.writer(file)\n",
    "        writer.writerow(header)  # Write the header\n",
    "        writer.writerows(rows)  # Write the data rows\n",
    "\n",
    "# Replace with the path to your directory\n",
    "directory_path = '/scratch1/akrami/Latest_Data/Data_pre/NFBS/'\n",
    "\n",
    "# Replace with your desired output CSV file path\n",
    "output_csv_path = '/project/ajoshi_27/akrami/3D_lesion_DF/Data/splits/NFBS.csv'\n",
    "\n",
    "# Generate the CSV\n",
    "generate_csv(directory_path, output_csv_path)\n"
   ]
  },
  {
   "cell_type": "code",
   "execution_count": null,
   "id": "38f5537e-25f7-46cf-a4a5-ccef908a03eb",
   "metadata": {},
   "outputs": [],
   "source": []
  }
 ],
 "metadata": {
  "kernelspec": {
   "display_name": "working_monai",
   "language": "python",
   "name": "working_monai"
  },
  "language_info": {
   "codemirror_mode": {
    "name": "ipython",
    "version": 3
   },
   "file_extension": ".py",
   "mimetype": "text/x-python",
   "name": "python",
   "nbconvert_exporter": "python",
   "pygments_lexer": "ipython3",
   "version": "3.9.16"
  }
 },
 "nbformat": 4,
 "nbformat_minor": 5
}
